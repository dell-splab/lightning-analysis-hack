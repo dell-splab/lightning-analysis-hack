{
 "cells": [
  {
   "cell_type": "code",
   "execution_count": 1,
   "id": "edd751ae",
   "metadata": {},
   "outputs": [],
   "source": [
    "import pandas as pd"
   ]
  },
  {
   "cell_type": "code",
   "execution_count": 2,
   "id": "ca7ac071",
   "metadata": {},
   "outputs": [],
   "source": [
    "api_logs = pd.read_csv(\"API_logs.csv\", low_memory=False)"
   ]
  },
  {
   "cell_type": "code",
   "execution_count": 3,
   "id": "b19a7246",
   "metadata": {},
   "outputs": [
    {
     "data": {
      "text/plain": [
       "(5372177, 27)"
      ]
     },
     "execution_count": 3,
     "metadata": {},
     "output_type": "execute_result"
    }
   ],
   "source": [
    "api_logs.shape"
   ]
  },
  {
   "cell_type": "code",
   "execution_count": 4,
   "id": "c445f49d",
   "metadata": {},
   "outputs": [],
   "source": [
    "pageview_logs = pd.read_csv(\"LightningPageView_newlogs.csv\", low_memory=False)"
   ]
  },
  {
   "cell_type": "code",
   "execution_count": 5,
   "id": "a752020a",
   "metadata": {},
   "outputs": [
    {
     "data": {
      "text/plain": [
       "(1600715, 52)"
      ]
     },
     "execution_count": 5,
     "metadata": {},
     "output_type": "execute_result"
    }
   ],
   "source": [
    "pageview_logs.shape"
   ]
  },
  {
   "cell_type": "code",
   "execution_count": 6,
   "id": "8e7b331f",
   "metadata": {},
   "outputs": [],
   "source": [
    "cols = set(list(api_logs.columns) + list(pageview_logs.columns))"
   ]
  },
  {
   "cell_type": "code",
   "execution_count": 7,
   "id": "7df568ff",
   "metadata": {},
   "outputs": [],
   "source": [
    "df = pd.DataFrame({\n",
    "    \"ColumnName\" : [c for c in cols], \n",
    "    \"API\": [c in api_logs for c in cols], \n",
    "    \"PageView\": [c in pageview_logs for c in cols]})"
   ]
  },
  {
   "cell_type": "code",
   "execution_count": 8,
   "id": "334ebb0e",
   "metadata": {},
   "outputs": [
    {
     "data": {
      "text/plain": [
       "7            REQUEST_ID\n",
       "12            CLIENT_IP\n",
       "15              USER_ID\n",
       "18      USER_ID_DERIVED\n",
       "24            USER_TYPE\n",
       "31    TIMESTAMP_DERIVED\n",
       "34           EVENT_TYPE\n",
       "44          SESSION_KEY\n",
       "46            LOGIN_KEY\n",
       "50            TIMESTAMP\n",
       "66      ORGANIZATION_ID\n",
       "Name: ColumnName, dtype: object"
      ]
     },
     "execution_count": 8,
     "metadata": {},
     "output_type": "execute_result"
    }
   ],
   "source": [
    "df[df.API & df.PageView].ColumnName"
   ]
  },
  {
   "cell_type": "code",
   "execution_count": 9,
   "id": "b2c4303a",
   "metadata": {},
   "outputs": [],
   "source": [
    "common_columns = ['TIMESTAMP_DERIVED', 'CLIENT_IP', 'ORGANIZATION_ID', 'USER_TYPE']"
   ]
  },
  {
   "cell_type": "code",
   "execution_count": 10,
   "id": "ceb6c32a",
   "metadata": {},
   "outputs": [],
   "source": [
    "api_logs.dropna(subset=common_columns, inplace=True)"
   ]
  },
  {
   "cell_type": "code",
   "execution_count": 11,
   "id": "9b7b81c8",
   "metadata": {},
   "outputs": [],
   "source": [
    "pageview_logs.dropna(subset=common_columns, inplace=True)"
   ]
  },
  {
   "cell_type": "code",
   "execution_count": 12,
   "id": "e6cf2a7f",
   "metadata": {},
   "outputs": [
    {
     "name": "stdout",
     "output_type": "stream",
     "text": [
      "(4450221, 27) (1600715, 52)\n"
     ]
    }
   ],
   "source": [
    "print(api_logs.shape, pageview_logs.shape)"
   ]
  },
  {
   "cell_type": "code",
   "execution_count": 13,
   "id": "e08b22ed",
   "metadata": {},
   "outputs": [],
   "source": [
    "api_pageview_logs = pd.merge(left=api_logs, right=pageview_logs, on=common_columns)"
   ]
  },
  {
   "cell_type": "code",
   "execution_count": 16,
   "id": "7b5ded6d",
   "metadata": {},
   "outputs": [
    {
     "data": {
      "text/html": [
       "<div>\n",
       "<style scoped>\n",
       "    .dataframe tbody tr th:only-of-type {\n",
       "        vertical-align: middle;\n",
       "    }\n",
       "\n",
       "    .dataframe tbody tr th {\n",
       "        vertical-align: top;\n",
       "    }\n",
       "\n",
       "    .dataframe thead th {\n",
       "        text-align: right;\n",
       "    }\n",
       "</style>\n",
       "<table border=\"1\" class=\"dataframe\">\n",
       "  <thead>\n",
       "    <tr style=\"text-align: right;\">\n",
       "      <th></th>\n",
       "      <th>TIMESTAMP_DERIVED</th>\n",
       "      <th>PAGE_URL</th>\n",
       "      <th>REQUEST_SIZE</th>\n",
       "    </tr>\n",
       "  </thead>\n",
       "  <tbody>\n",
       "    <tr>\n",
       "      <th>0</th>\n",
       "      <td>2022-06-28T01:00:37.501Z</td>\n",
       "      <td>/lightning/r/Case/5006P000005x5oVQAQ/view</td>\n",
       "      <td>631.0</td>\n",
       "    </tr>\n",
       "    <tr>\n",
       "      <th>1</th>\n",
       "      <td>2022-06-28T01:02:21.906Z</td>\n",
       "      <td>/lightning/r/Task/00T6P00000K6l9sUAB/view?ws=%...</td>\n",
       "      <td>654.0</td>\n",
       "    </tr>\n",
       "    <tr>\n",
       "      <th>2</th>\n",
       "      <td>2022-06-28T01:08:25.555Z</td>\n",
       "      <td>/lightning/r/Case/5006P000005y3QxQAI/clone?use...</td>\n",
       "      <td>657.0</td>\n",
       "    </tr>\n",
       "    <tr>\n",
       "      <th>3</th>\n",
       "      <td>2022-06-28T01:09:56.353Z</td>\n",
       "      <td>/lightning/r/Order/8012R000007zi2jQAA/view?ws=...</td>\n",
       "      <td>657.0</td>\n",
       "    </tr>\n",
       "    <tr>\n",
       "      <th>4</th>\n",
       "      <td>2022-06-28T01:12:11.858Z</td>\n",
       "      <td>/lightning/r/Case/5006P000005m81xQAA/related/p...</td>\n",
       "      <td>824.0</td>\n",
       "    </tr>\n",
       "    <tr>\n",
       "      <th>...</th>\n",
       "      <td>...</td>\n",
       "      <td>...</td>\n",
       "      <td>...</td>\n",
       "    </tr>\n",
       "    <tr>\n",
       "      <th>1161</th>\n",
       "      <td>2022-07-22T02:57:04.384Z</td>\n",
       "      <td>/lightning/r/Report/00O6P0000016uswUAA/view?qu...</td>\n",
       "      <td>662.0</td>\n",
       "    </tr>\n",
       "    <tr>\n",
       "      <th>1162</th>\n",
       "      <td>2022-07-22T02:57:11.021Z</td>\n",
       "      <td>/lightning/r/Case/5006P000006d7BKQAY/view?ws=%...</td>\n",
       "      <td>129594.0</td>\n",
       "    </tr>\n",
       "    <tr>\n",
       "      <th>1163</th>\n",
       "      <td>2022-07-22T02:57:42.257Z</td>\n",
       "      <td>/lightning/r/Task/00T6P00000MexvZUAR/view?ws=%...</td>\n",
       "      <td>651.0</td>\n",
       "    </tr>\n",
       "    <tr>\n",
       "      <th>1164</th>\n",
       "      <td>2022-07-22T02:57:50.203Z</td>\n",
       "      <td>/lightning/r/WorkOrder/0WO6P000001KSlLWAW/view</td>\n",
       "      <td>662.0</td>\n",
       "    </tr>\n",
       "    <tr>\n",
       "      <th>1165</th>\n",
       "      <td>2022-07-22T02:58:02.080Z</td>\n",
       "      <td>/lightning/r/Case/5006P000006HfjbQAC/view</td>\n",
       "      <td>663.0</td>\n",
       "    </tr>\n",
       "  </tbody>\n",
       "</table>\n",
       "<p>1166 rows × 3 columns</p>\n",
       "</div>"
      ],
      "text/plain": [
       "             TIMESTAMP_DERIVED  \\\n",
       "0     2022-06-28T01:00:37.501Z   \n",
       "1     2022-06-28T01:02:21.906Z   \n",
       "2     2022-06-28T01:08:25.555Z   \n",
       "3     2022-06-28T01:09:56.353Z   \n",
       "4     2022-06-28T01:12:11.858Z   \n",
       "...                        ...   \n",
       "1161  2022-07-22T02:57:04.384Z   \n",
       "1162  2022-07-22T02:57:11.021Z   \n",
       "1163  2022-07-22T02:57:42.257Z   \n",
       "1164  2022-07-22T02:57:50.203Z   \n",
       "1165  2022-07-22T02:58:02.080Z   \n",
       "\n",
       "                                               PAGE_URL  REQUEST_SIZE  \n",
       "0             /lightning/r/Case/5006P000005x5oVQAQ/view         631.0  \n",
       "1     /lightning/r/Task/00T6P00000K6l9sUAB/view?ws=%...         654.0  \n",
       "2     /lightning/r/Case/5006P000005y3QxQAI/clone?use...         657.0  \n",
       "3     /lightning/r/Order/8012R000007zi2jQAA/view?ws=...         657.0  \n",
       "4     /lightning/r/Case/5006P000005m81xQAA/related/p...         824.0  \n",
       "...                                                 ...           ...  \n",
       "1161  /lightning/r/Report/00O6P0000016uswUAA/view?qu...         662.0  \n",
       "1162  /lightning/r/Case/5006P000006d7BKQAY/view?ws=%...      129594.0  \n",
       "1163  /lightning/r/Task/00T6P00000MexvZUAR/view?ws=%...         651.0  \n",
       "1164     /lightning/r/WorkOrder/0WO6P000001KSlLWAW/view         662.0  \n",
       "1165          /lightning/r/Case/5006P000006HfjbQAC/view         663.0  \n",
       "\n",
       "[1166 rows x 3 columns]"
      ]
     },
     "execution_count": 16,
     "metadata": {},
     "output_type": "execute_result"
    }
   ],
   "source": [
    "api_pageview_logs[['TIMESTAMP_DERIVED', 'PAGE_URL', 'REQUEST_SIZE']]"
   ]
  },
  {
   "cell_type": "code",
   "execution_count": 17,
   "id": "67cc3463",
   "metadata": {},
   "outputs": [
    {
     "data": {
      "text/plain": [
       "['API_TYPE',\n",
       " 'API_VERSION',\n",
       " 'APP_NAME',\n",
       " 'BROWSER_NAME',\n",
       " 'BROWSER_VERSION',\n",
       " 'CLIENT_GEO',\n",
       " 'CLIENT_ID',\n",
       " 'CLIENT_IP',\n",
       " 'CLIENT_NAME',\n",
       " 'CONNECTION_TYPE',\n",
       " 'CPU_TIME',\n",
       " 'DB_BLOCKS',\n",
       " 'DB_CPU_TIME',\n",
       " 'DB_TOTAL_TIME',\n",
       " 'DEVICE_ID',\n",
       " 'DEVICE_MODEL',\n",
       " 'DEVICE_PLATFORM',\n",
       " 'DEVICE_SESSION_ID',\n",
       " 'DURATION',\n",
       " 'EFFECTIVE_PAGE_TIME',\n",
       " 'EFFECTIVE_PAGE_TIME_DEVIATION',\n",
       " 'EFFECTIVE_PAGE_TIME_DEVIATION_ERROR_TYPE',\n",
       " 'EFFECTIVE_PAGE_TIME_DEVIATION_REASON',\n",
       " 'ENTITY_NAME',\n",
       " 'EVENT_TYPE_x',\n",
       " 'EVENT_TYPE_y',\n",
       " 'GRANDPARENT_UI_ELEMENT',\n",
       " 'LOGIN_KEY_x',\n",
       " 'LOGIN_KEY_y',\n",
       " 'METHOD_NAME',\n",
       " 'ORGANIZATION_ID',\n",
       " 'OS_NAME',\n",
       " 'OS_VERSION',\n",
       " 'PAGE_APP_NAME',\n",
       " 'PAGE_CONTEXT',\n",
       " 'PAGE_ENTITY_ID',\n",
       " 'PAGE_ENTITY_TYPE',\n",
       " 'PAGE_START_TIME',\n",
       " 'PAGE_URL',\n",
       " 'PARENT_UI_ELEMENT',\n",
       " 'PREVPAGE_APP_NAME',\n",
       " 'PREVPAGE_CONTEXT',\n",
       " 'PREVPAGE_ENTITY_ID',\n",
       " 'PREVPAGE_ENTITY_TYPE',\n",
       " 'PREVPAGE_URL',\n",
       " 'REQUEST_ID_x',\n",
       " 'REQUEST_ID_y',\n",
       " 'REQUEST_SIZE',\n",
       " 'REQUEST_STATUS',\n",
       " 'RESPONSE_SIZE',\n",
       " 'ROWS_PROCESSED',\n",
       " 'RUN_TIME',\n",
       " 'ReportId',\n",
       " 'ReportType',\n",
       " 'SDK_APP_TYPE',\n",
       " 'SDK_APP_VERSION',\n",
       " 'SDK_VERSION',\n",
       " 'SESSION_KEY_x',\n",
       " 'SESSION_KEY_y',\n",
       " 'TARGET_UI_ELEMENT',\n",
       " 'TIMESTAMP_DERIVED',\n",
       " 'TIMESTAMP_x',\n",
       " 'TIMESTAMP_y',\n",
       " 'UI_EVENT_ID',\n",
       " 'UI_EVENT_SEQUENCE_NUM',\n",
       " 'UI_EVENT_SOURCE',\n",
       " 'UI_EVENT_TIMESTAMP',\n",
       " 'URI',\n",
       " 'URI_ID_DERIVED',\n",
       " 'USER_AGENT',\n",
       " 'USER_ID_DERIVED_x',\n",
       " 'USER_ID_DERIVED_y',\n",
       " 'USER_ID_x',\n",
       " 'USER_ID_y',\n",
       " 'USER_TYPE']"
      ]
     },
     "execution_count": 17,
     "metadata": {},
     "output_type": "execute_result"
    }
   ],
   "source": [
    "sorted(api_pageview_logs)"
   ]
  },
  {
   "cell_type": "code",
   "execution_count": 15,
   "id": "ce7e8398",
   "metadata": {},
   "outputs": [],
   "source": [
    "# api_pageview_logs.to_csv(\"api_pageview_join.csv\", index=False)"
   ]
  }
 ],
 "metadata": {
  "kernelspec": {
   "display_name": "Python 3 (ipykernel)",
   "language": "python",
   "name": "python3"
  },
  "language_info": {
   "codemirror_mode": {
    "name": "ipython",
    "version": 3
   },
   "file_extension": ".py",
   "mimetype": "text/x-python",
   "name": "python",
   "nbconvert_exporter": "python",
   "pygments_lexer": "ipython3",
   "version": "3.9.12"
  }
 },
 "nbformat": 4,
 "nbformat_minor": 5
}

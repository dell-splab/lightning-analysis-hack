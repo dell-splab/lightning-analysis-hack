{
 "cells": [
  {
   "cell_type": "code",
   "execution_count": 1,
   "id": "edd751ae",
   "metadata": {},
   "outputs": [],
   "source": [
    "import pandas as pd"
   ]
  },
  {
   "cell_type": "code",
   "execution_count": 2,
   "id": "fb683de2",
   "metadata": {},
   "outputs": [],
   "source": [
    "api_logs = pd.read_csv(\"API_logs.csv\", low_memory=False)"
   ]
  },
  {
   "cell_type": "code",
   "execution_count": 3,
   "id": "1e743622",
   "metadata": {},
   "outputs": [
    {
     "data": {
      "text/plain": [
       "(5372177, 27)"
      ]
     },
     "execution_count": 3,
     "metadata": {},
     "output_type": "execute_result"
    }
   ],
   "source": [
    "api_logs.shape"
   ]
  },
  {
   "cell_type": "code",
   "execution_count": 4,
   "id": "b435df75",
   "metadata": {},
   "outputs": [],
   "source": [
    "report_logs = pd.read_csv(\"Report_newlogs.csv\", low_memory=False)"
   ]
  },
  {
   "cell_type": "code",
   "execution_count": 5,
   "id": "daee72e4",
   "metadata": {},
   "outputs": [
    {
     "data": {
      "text/plain": [
       "(367182, 31)"
      ]
     },
     "execution_count": 5,
     "metadata": {},
     "output_type": "execute_result"
    }
   ],
   "source": [
    "report_logs.shape"
   ]
  },
  {
   "cell_type": "code",
   "execution_count": 6,
   "id": "22e6f107",
   "metadata": {},
   "outputs": [],
   "source": [
    "cols = set(list(api_logs.columns) + list(report_logs.columns))"
   ]
  },
  {
   "cell_type": "code",
   "execution_count": 7,
   "id": "d3af0920",
   "metadata": {},
   "outputs": [],
   "source": [
    "df = pd.DataFrame({\n",
    "    \"ColumnName\" : [c for c in cols], \n",
    "    \"API\": [c in api_logs for c in cols], \n",
    "    \"Report\": [c in report_logs for c in cols]})"
   ]
  },
  {
   "cell_type": "code",
   "execution_count": 8,
   "id": "802ea65f",
   "metadata": {},
   "outputs": [
    {
     "data": {
      "text/plain": [
       "0       ORGANIZATION_ID\n",
       "1            REQUEST_ID\n",
       "3            EVENT_TYPE\n",
       "5                   URI\n",
       "6             LOGIN_KEY\n",
       "8           DB_CPU_TIME\n",
       "9           SESSION_KEY\n",
       "11    TIMESTAMP_DERIVED\n",
       "12        DB_TOTAL_TIME\n",
       "14             CPU_TIME\n",
       "15       REQUEST_STATUS\n",
       "18              USER_ID\n",
       "22            DB_BLOCKS\n",
       "24      USER_ID_DERIVED\n",
       "27          ENTITY_NAME\n",
       "28            CLIENT_IP\n",
       "29             RUN_TIME\n",
       "32       URI_ID_DERIVED\n",
       "34            USER_TYPE\n",
       "35            TIMESTAMP\n",
       "Name: ColumnName, dtype: object"
      ]
     },
     "execution_count": 8,
     "metadata": {},
     "output_type": "execute_result"
    }
   ],
   "source": [
    "df[df.API & df.Report].ColumnName"
   ]
  },
  {
   "cell_type": "code",
   "execution_count": 9,
   "id": "179b1bcd",
   "metadata": {},
   "outputs": [],
   "source": [
    "common_columns = ['TIMESTAMP_DERIVED', 'CLIENT_IP', 'ORGANIZATION_ID', 'USER_TYPE']"
   ]
  },
  {
   "cell_type": "code",
   "execution_count": 10,
   "id": "a4e5c09b",
   "metadata": {},
   "outputs": [],
   "source": [
    "api_logs.dropna(subset=common_columns, inplace=True)"
   ]
  },
  {
   "cell_type": "code",
   "execution_count": 11,
   "id": "7461fd47",
   "metadata": {},
   "outputs": [],
   "source": [
    "report_logs.dropna(subset=common_columns, inplace=True)"
   ]
  },
  {
   "cell_type": "code",
   "execution_count": 12,
   "id": "67bb960f",
   "metadata": {},
   "outputs": [
    {
     "name": "stdout",
     "output_type": "stream",
     "text": [
      "(4450221, 27) (290584, 31)\n"
     ]
    }
   ],
   "source": [
    "print(api_logs.shape, report_logs.shape)"
   ]
  },
  {
   "cell_type": "code",
   "execution_count": 13,
   "id": "95d6eec8",
   "metadata": {},
   "outputs": [],
   "source": [
    "api_report_logs = pd.merge(left=api_logs, right=report_logs, on=common_columns)"
   ]
  },
  {
   "cell_type": "code",
   "execution_count": 17,
   "id": "7e3fc9dc",
   "metadata": {},
   "outputs": [
    {
     "data": {
      "text/html": [
       "<div>\n",
       "<style scoped>\n",
       "    .dataframe tbody tr th:only-of-type {\n",
       "        vertical-align: middle;\n",
       "    }\n",
       "\n",
       "    .dataframe tbody tr th {\n",
       "        vertical-align: top;\n",
       "    }\n",
       "\n",
       "    .dataframe thead th {\n",
       "        text-align: right;\n",
       "    }\n",
       "</style>\n",
       "<table border=\"1\" class=\"dataframe\">\n",
       "  <thead>\n",
       "    <tr style=\"text-align: right;\">\n",
       "      <th></th>\n",
       "      <th>TIMESTAMP_DERIVED</th>\n",
       "      <th>REQUEST_SIZE</th>\n",
       "      <th>REPORT_ID</th>\n",
       "      <th>USER_ID_x</th>\n",
       "      <th>USER_ID_y</th>\n",
       "    </tr>\n",
       "  </thead>\n",
       "  <tbody>\n",
       "    <tr>\n",
       "      <th>0</th>\n",
       "      <td>2022-06-28T01:24:17.797Z</td>\n",
       "      <td>727.0</td>\n",
       "      <td>00O2R000004F15k</td>\n",
       "      <td>0050b000004KISt</td>\n",
       "      <td>0050b000004KD9z</td>\n",
       "    </tr>\n",
       "    <tr>\n",
       "      <th>1</th>\n",
       "      <td>2022-06-28T10:01:04.905Z</td>\n",
       "      <td>675.0</td>\n",
       "      <td>00O2R000003JCXa</td>\n",
       "      <td>0052R00000AQuu8</td>\n",
       "      <td>0050b000004KEAY</td>\n",
       "    </tr>\n",
       "    <tr>\n",
       "      <th>2</th>\n",
       "      <td>2022-06-28T10:01:45.551Z</td>\n",
       "      <td>651.0</td>\n",
       "      <td>00O0b000004kTaz</td>\n",
       "      <td>0050b000004KISt</td>\n",
       "      <td>0050b000004K3KF</td>\n",
       "    </tr>\n",
       "    <tr>\n",
       "      <th>3</th>\n",
       "      <td>2022-06-28T10:07:17.511Z</td>\n",
       "      <td>655.0</td>\n",
       "      <td>00O0b000004kTaz</td>\n",
       "      <td>0050b000004KISt</td>\n",
       "      <td>0050b000004K3KF</td>\n",
       "    </tr>\n",
       "    <tr>\n",
       "      <th>4</th>\n",
       "      <td>2022-06-28T10:16:07.089Z</td>\n",
       "      <td>662.0</td>\n",
       "      <td>00O2R0000043lHL</td>\n",
       "      <td>0050b000004KISt</td>\n",
       "      <td>0051P000003jYhs</td>\n",
       "    </tr>\n",
       "    <tr>\n",
       "      <th>...</th>\n",
       "      <td>...</td>\n",
       "      <td>...</td>\n",
       "      <td>...</td>\n",
       "      <td>...</td>\n",
       "      <td>...</td>\n",
       "    </tr>\n",
       "    <tr>\n",
       "      <th>62</th>\n",
       "      <td>2022-07-22T02:18:08.428Z</td>\n",
       "      <td>651.0</td>\n",
       "      <td>00O2R0000043l7v</td>\n",
       "      <td>0050b000004KISt</td>\n",
       "      <td>0050b000005Cdyy</td>\n",
       "    </tr>\n",
       "    <tr>\n",
       "      <th>63</th>\n",
       "      <td>2022-07-22T02:58:16.567Z</td>\n",
       "      <td>662.0</td>\n",
       "      <td>00O0b000006K6tL</td>\n",
       "      <td>0050b000004KISt</td>\n",
       "      <td>0050b000004KBmF</td>\n",
       "    </tr>\n",
       "    <tr>\n",
       "      <th>64</th>\n",
       "      <td>2022-07-22T02:09:56.614Z</td>\n",
       "      <td>660.0</td>\n",
       "      <td>00O2R000004EjYV</td>\n",
       "      <td>0050b000004KISt</td>\n",
       "      <td>0050b000004KK2Z</td>\n",
       "    </tr>\n",
       "    <tr>\n",
       "      <th>65</th>\n",
       "      <td>2022-07-22T02:11:23.242Z</td>\n",
       "      <td>643.0</td>\n",
       "      <td>00O0b000004kTaz</td>\n",
       "      <td>0050b000004KISt</td>\n",
       "      <td>0050b000004KEIe</td>\n",
       "    </tr>\n",
       "    <tr>\n",
       "      <th>66</th>\n",
       "      <td>2022-07-22T02:27:43.520Z</td>\n",
       "      <td>828.0</td>\n",
       "      <td>00O6P0000016wQf</td>\n",
       "      <td>0050b000004KISt</td>\n",
       "      <td>0050b000005npe9</td>\n",
       "    </tr>\n",
       "  </tbody>\n",
       "</table>\n",
       "<p>67 rows × 5 columns</p>\n",
       "</div>"
      ],
      "text/plain": [
       "           TIMESTAMP_DERIVED  REQUEST_SIZE        REPORT_ID        USER_ID_x  \\\n",
       "0   2022-06-28T01:24:17.797Z         727.0  00O2R000004F15k  0050b000004KISt   \n",
       "1   2022-06-28T10:01:04.905Z         675.0  00O2R000003JCXa  0052R00000AQuu8   \n",
       "2   2022-06-28T10:01:45.551Z         651.0  00O0b000004kTaz  0050b000004KISt   \n",
       "3   2022-06-28T10:07:17.511Z         655.0  00O0b000004kTaz  0050b000004KISt   \n",
       "4   2022-06-28T10:16:07.089Z         662.0  00O2R0000043lHL  0050b000004KISt   \n",
       "..                       ...           ...              ...              ...   \n",
       "62  2022-07-22T02:18:08.428Z         651.0  00O2R0000043l7v  0050b000004KISt   \n",
       "63  2022-07-22T02:58:16.567Z         662.0  00O0b000006K6tL  0050b000004KISt   \n",
       "64  2022-07-22T02:09:56.614Z         660.0  00O2R000004EjYV  0050b000004KISt   \n",
       "65  2022-07-22T02:11:23.242Z         643.0  00O0b000004kTaz  0050b000004KISt   \n",
       "66  2022-07-22T02:27:43.520Z         828.0  00O6P0000016wQf  0050b000004KISt   \n",
       "\n",
       "          USER_ID_y  \n",
       "0   0050b000004KD9z  \n",
       "1   0050b000004KEAY  \n",
       "2   0050b000004K3KF  \n",
       "3   0050b000004K3KF  \n",
       "4   0051P000003jYhs  \n",
       "..              ...  \n",
       "62  0050b000005Cdyy  \n",
       "63  0050b000004KBmF  \n",
       "64  0050b000004KK2Z  \n",
       "65  0050b000004KEIe  \n",
       "66  0050b000005npe9  \n",
       "\n",
       "[67 rows x 5 columns]"
      ]
     },
     "execution_count": 17,
     "metadata": {},
     "output_type": "execute_result"
    }
   ],
   "source": [
    "api_report_logs[['TIMESTAMP_DERIVED', 'REQUEST_SIZE', 'REPORT_ID', 'USER_ID_x', 'USER_ID_y']]"
   ]
  },
  {
   "cell_type": "code",
   "execution_count": 18,
   "id": "b8f85fc4",
   "metadata": {},
   "outputs": [
    {
     "data": {
      "text/plain": [
       "['API_TYPE',\n",
       " 'API_VERSION',\n",
       " 'AVERAGE_ROW_SIZE',\n",
       " 'CLIENT_IP',\n",
       " 'CLIENT_NAME',\n",
       " 'CPU_TIME_x',\n",
       " 'CPU_TIME_y',\n",
       " 'DB_BLOCKS_x',\n",
       " 'DB_BLOCKS_y',\n",
       " 'DB_CPU_TIME_x',\n",
       " 'DB_CPU_TIME_y',\n",
       " 'DB_TOTAL_TIME_x',\n",
       " 'DB_TOTAL_TIME_y',\n",
       " 'DISPLAY_TYPE',\n",
       " 'ENTITY_NAME_x',\n",
       " 'ENTITY_NAME_y',\n",
       " 'EVENT_TYPE_x',\n",
       " 'EVENT_TYPE_y',\n",
       " 'LOGIN_KEY_x',\n",
       " 'LOGIN_KEY_y',\n",
       " 'METHOD_NAME',\n",
       " 'NUMBER_BUCKETS',\n",
       " 'NUMBER_COLUMNS',\n",
       " 'NUMBER_EXCEPTION_FILTERS',\n",
       " 'ORGANIZATION_ID',\n",
       " 'ORIGIN',\n",
       " 'RENDERING_TYPE',\n",
       " 'REPORT_ID',\n",
       " 'REQUEST_ID_x',\n",
       " 'REQUEST_ID_y',\n",
       " 'REQUEST_SIZE',\n",
       " 'REQUEST_STATUS_x',\n",
       " 'REQUEST_STATUS_y',\n",
       " 'RESPONSE_SIZE',\n",
       " 'ROWS_PROCESSED',\n",
       " 'ROW_COUNT',\n",
       " 'RUN_TIME_x',\n",
       " 'RUN_TIME_y',\n",
       " 'ReportId',\n",
       " 'SESSION_KEY_x',\n",
       " 'SESSION_KEY_y',\n",
       " 'SORT',\n",
       " 'TIMESTAMP_DERIVED',\n",
       " 'TIMESTAMP_x',\n",
       " 'TIMESTAMP_y',\n",
       " 'URI_ID_DERIVED_x',\n",
       " 'URI_ID_DERIVED_y',\n",
       " 'URI_x',\n",
       " 'URI_y',\n",
       " 'USER_ID_DERIVED_x',\n",
       " 'USER_ID_DERIVED_y',\n",
       " 'USER_ID_x',\n",
       " 'USER_ID_y',\n",
       " 'USER_TYPE']"
      ]
     },
     "execution_count": 18,
     "metadata": {},
     "output_type": "execute_result"
    }
   ],
   "source": [
    "sorted(api_report_logs)"
   ]
  },
  {
   "cell_type": "code",
   "execution_count": 20,
   "id": "4602fff5",
   "metadata": {},
   "outputs": [],
   "source": [
    "api_report_logs.to_csv(\"api_report_join.csv\", index=False)"
   ]
  },
  {
   "cell_type": "code",
   "execution_count": 34,
   "id": "30f9a32e",
   "metadata": {},
   "outputs": [],
   "source": [
    "probl_reports_splunk = pd.read_csv(\"actives_and_problematics_regarding_time_last_30_days_from-27-07-2022.csv\")"
   ]
  },
  {
   "cell_type": "code",
   "execution_count": 35,
   "id": "db5e11df",
   "metadata": {},
   "outputs": [
    {
     "data": {
      "text/plain": [
       "{'00O0b000004AoOO', '00O0b000004kTaz'}"
      ]
     },
     "execution_count": 35,
     "metadata": {},
     "output_type": "execute_result"
    }
   ],
   "source": [
    "set(api_report_logs.REPORT_ID).intersection(set(probl_reports_splunk.ReportId.unique()))"
   ]
  },
  {
   "cell_type": "code",
   "execution_count": 36,
   "id": "41b9658e",
   "metadata": {},
   "outputs": [
    {
     "data": {
      "text/plain": [
       "13    Chat SLA - Wait Time\n",
       "Name: Name, dtype: object"
      ]
     },
     "execution_count": 36,
     "metadata": {},
     "output_type": "execute_result"
    }
   ],
   "source": [
    "probl_reports_splunk[probl_reports_splunk.ReportId=='00O0b000004AoOO'].Name"
   ]
  },
  {
   "cell_type": "code",
   "execution_count": 37,
   "id": "11b5e6e7",
   "metadata": {},
   "outputs": [
    {
     "data": {
      "text/plain": [
       "18    My Cases and Tasks\n",
       "Name: Name, dtype: object"
      ]
     },
     "execution_count": 37,
     "metadata": {},
     "output_type": "execute_result"
    }
   ],
   "source": [
    "probl_reports_splunk[probl_reports_splunk.ReportId=='00O0b000004kTaz'].Name"
   ]
  },
  {
   "cell_type": "code",
   "execution_count": null,
   "id": "7b01931b",
   "metadata": {},
   "outputs": [],
   "source": []
  }
 ],
 "metadata": {
  "kernelspec": {
   "display_name": "Python 3 (ipykernel)",
   "language": "python",
   "name": "python3"
  },
  "language_info": {
   "codemirror_mode": {
    "name": "ipython",
    "version": 3
   },
   "file_extension": ".py",
   "mimetype": "text/x-python",
   "name": "python",
   "nbconvert_exporter": "python",
   "pygments_lexer": "ipython3",
   "version": "3.9.12"
  }
 },
 "nbformat": 4,
 "nbformat_minor": 5
}

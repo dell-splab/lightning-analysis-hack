{
 "cells": [
  {
   "cell_type": "code",
   "execution_count": 20,
   "metadata": {},
   "outputs": [],
   "source": [
    "import pandas as pd"
   ]
  },
  {
   "cell_type": "code",
   "execution_count": 21,
   "metadata": {},
   "outputs": [],
   "source": [
    "df = pd.read_csv(\"samples/Reports_100_samples.csv\")"
   ]
  },
  {
   "cell_type": "code",
   "execution_count": 22,
   "metadata": {},
   "outputs": [
    {
     "data": {
      "text/plain": [
       "Index(['CreatedById', 'CreatedDate', 'Description', 'DeveloperName',\n",
       "       'FolderName', 'Format', 'Id', 'IsDeleted', 'LastModifiedById',\n",
       "       'LastModifiedDate', 'LastReferencedDate', 'LastRunDate',\n",
       "       'LastViewedDate', 'Name', 'NamespacePrefix', 'OwnerId',\n",
       "       'ReportTypeApiName', 'SystemModstamp'],\n",
       "      dtype='object')"
      ]
     },
     "execution_count": 22,
     "metadata": {},
     "output_type": "execute_result"
    }
   ],
   "source": [
    "df.columns"
   ]
  },
  {
   "cell_type": "code",
   "execution_count": 23,
   "metadata": {},
   "outputs": [
    {
     "data": {
      "text/plain": [
       "['CreatedById',\n",
       " 'CreatedDate',\n",
       " 'Description',\n",
       " 'DeveloperName',\n",
       " 'FolderName',\n",
       " 'Format',\n",
       " 'Id',\n",
       " 'IsDeleted',\n",
       " 'LastModifiedById',\n",
       " 'LastModifiedDate',\n",
       " 'LastReferencedDate',\n",
       " 'LastRunDate',\n",
       " 'LastViewedDate',\n",
       " 'Name',\n",
       " 'NamespacePrefix',\n",
       " 'OwnerId',\n",
       " 'ReportTypeApiName',\n",
       " 'SystemModstamp']"
      ]
     },
     "execution_count": 23,
     "metadata": {},
     "output_type": "execute_result"
    }
   ],
   "source": [
    "list(df.columns)"
   ]
  },
  {
   "cell_type": "code",
   "execution_count": 24,
   "metadata": {},
   "outputs": [
    {
     "data": {
      "text/plain": [
       "(100, 18)"
      ]
     },
     "execution_count": 24,
     "metadata": {},
     "output_type": "execute_result"
    }
   ],
   "source": [
    "df.shape # (rows, columns)"
   ]
  },
  {
   "cell_type": "markdown",
   "metadata": {},
   "source": [
    "### Sorting reports by `LastRunDate`"
   ]
  },
  {
   "cell_type": "code",
   "execution_count": 33,
   "metadata": {},
   "outputs": [],
   "source": [
    "df.sort_values(by='LastRunDate', ascending=False, inplace=True)"
   ]
  },
  {
   "cell_type": "code",
   "execution_count": 34,
   "metadata": {},
   "outputs": [
    {
     "data": {
      "text/html": [
       "<div>\n",
       "<style scoped>\n",
       "    .dataframe tbody tr th:only-of-type {\n",
       "        vertical-align: middle;\n",
       "    }\n",
       "\n",
       "    .dataframe tbody tr th {\n",
       "        vertical-align: top;\n",
       "    }\n",
       "\n",
       "    .dataframe thead th {\n",
       "        text-align: right;\n",
       "    }\n",
       "</style>\n",
       "<table border=\"1\" class=\"dataframe\">\n",
       "  <thead>\n",
       "    <tr style=\"text-align: right;\">\n",
       "      <th></th>\n",
       "      <th>CreatedById</th>\n",
       "      <th>CreatedDate</th>\n",
       "      <th>Description</th>\n",
       "      <th>DeveloperName</th>\n",
       "      <th>FolderName</th>\n",
       "      <th>Format</th>\n",
       "      <th>Id</th>\n",
       "      <th>IsDeleted</th>\n",
       "      <th>LastModifiedById</th>\n",
       "      <th>LastModifiedDate</th>\n",
       "      <th>LastReferencedDate</th>\n",
       "      <th>LastRunDate</th>\n",
       "      <th>LastViewedDate</th>\n",
       "      <th>Name</th>\n",
       "      <th>NamespacePrefix</th>\n",
       "      <th>OwnerId</th>\n",
       "      <th>ReportTypeApiName</th>\n",
       "      <th>SystemModstamp</th>\n",
       "    </tr>\n",
       "  </thead>\n",
       "  <tbody>\n",
       "    <tr>\n",
       "      <th>0</th>\n",
       "      <td>0050b000004MLGeAAO</td>\n",
       "      <td>2018-06-20T19:28:03.000Z</td>\n",
       "      <td>NaN</td>\n",
       "      <td>Email2Case_KPI_Wp9</td>\n",
       "      <td>Public Reports</td>\n",
       "      <td>Summary</td>\n",
       "      <td>00O0b000004kSKkEAM</td>\n",
       "      <td>False</td>\n",
       "      <td>0050b000004MLGeAAO</td>\n",
       "      <td>2019-10-16T03:00:16.000Z</td>\n",
       "      <td>2022-06-20T02:04:59.000Z</td>\n",
       "      <td>2022-06-20T02:04:59.000Z</td>\n",
       "      <td>2022-06-20T02:04:59.000Z</td>\n",
       "      <td>Email2Case KPI</td>\n",
       "      <td>NaN</td>\n",
       "      <td>00D0b000000GaMpEAK</td>\n",
       "      <td>CaseList@Case.MaritzCX__Survey_Response_Id__c</td>\n",
       "      <td>2022-06-20T02:04:59.000Z</td>\n",
       "    </tr>\n",
       "    <tr>\n",
       "      <th>5</th>\n",
       "      <td>0050b000004dgkKAAQ</td>\n",
       "      <td>2017-08-15T17:20:40.000Z</td>\n",
       "      <td>What documents are in the document library?</td>\n",
       "      <td>SampleReportDocumentLibrary</td>\n",
       "      <td>Public Reports</td>\n",
       "      <td>Summary</td>\n",
       "      <td>00O0b000004RmskEAC</td>\n",
       "      <td>False</td>\n",
       "      <td>0050b000004dgkKAAQ</td>\n",
       "      <td>2017-08-15T17:20:40.000Z</td>\n",
       "      <td>2022-06-19T17:40:18.000Z</td>\n",
       "      <td>2022-06-19T17:40:18.000Z</td>\n",
       "      <td>2022-06-19T17:40:18.000Z</td>\n",
       "      <td>Sample Report: Document Library</td>\n",
       "      <td>NaN</td>\n",
       "      <td>00D0b000000GaMpEAK</td>\n",
       "      <td>DocumentList</td>\n",
       "      <td>2022-06-19T17:40:18.000Z</td>\n",
       "    </tr>\n",
       "    <tr>\n",
       "      <th>94</th>\n",
       "      <td>0050b000004KTsmAAG</td>\n",
       "      <td>2021-09-28T20:59:53.000Z</td>\n",
       "      <td>Shows unearned milestones forecasted within cu...</td>\n",
       "      <td>NorthEast_PDM_1_1_Quarter_Forecast_To_Go</td>\n",
       "      <td>Public Reports</td>\n",
       "      <td>Summary</td>\n",
       "      <td>00O2R000003JWlyUAG</td>\n",
       "      <td>False</td>\n",
       "      <td>0050b000004KTsmAAG</td>\n",
       "      <td>2021-09-28T21:26:20.000Z</td>\n",
       "      <td>NaN</td>\n",
       "      <td>2022-06-19T13:00:02.000Z</td>\n",
       "      <td>NaN</td>\n",
       "      <td>NorthEast PDM 1:1 Quarter Forecast To Go</td>\n",
       "      <td>NaN</td>\n",
       "      <td>00D0b000000GaMpEAK</td>\n",
       "      <td>Projects_with_MilestoneOrder_and_Order_Product__c</td>\n",
       "      <td>2022-06-19T13:00:02.000Z</td>\n",
       "    </tr>\n",
       "  </tbody>\n",
       "</table>\n",
       "</div>"
      ],
      "text/plain": [
       "           CreatedById               CreatedDate  \\\n",
       "0   0050b000004MLGeAAO  2018-06-20T19:28:03.000Z   \n",
       "5   0050b000004dgkKAAQ  2017-08-15T17:20:40.000Z   \n",
       "94  0050b000004KTsmAAG  2021-09-28T20:59:53.000Z   \n",
       "\n",
       "                                          Description  \\\n",
       "0                                                 NaN   \n",
       "5         What documents are in the document library?   \n",
       "94  Shows unearned milestones forecasted within cu...   \n",
       "\n",
       "                               DeveloperName      FolderName   Format  \\\n",
       "0                         Email2Case_KPI_Wp9  Public Reports  Summary   \n",
       "5                SampleReportDocumentLibrary  Public Reports  Summary   \n",
       "94  NorthEast_PDM_1_1_Quarter_Forecast_To_Go  Public Reports  Summary   \n",
       "\n",
       "                    Id  IsDeleted    LastModifiedById  \\\n",
       "0   00O0b000004kSKkEAM      False  0050b000004MLGeAAO   \n",
       "5   00O0b000004RmskEAC      False  0050b000004dgkKAAQ   \n",
       "94  00O2R000003JWlyUAG      False  0050b000004KTsmAAG   \n",
       "\n",
       "            LastModifiedDate        LastReferencedDate  \\\n",
       "0   2019-10-16T03:00:16.000Z  2022-06-20T02:04:59.000Z   \n",
       "5   2017-08-15T17:20:40.000Z  2022-06-19T17:40:18.000Z   \n",
       "94  2021-09-28T21:26:20.000Z                       NaN   \n",
       "\n",
       "                 LastRunDate            LastViewedDate  \\\n",
       "0   2022-06-20T02:04:59.000Z  2022-06-20T02:04:59.000Z   \n",
       "5   2022-06-19T17:40:18.000Z  2022-06-19T17:40:18.000Z   \n",
       "94  2022-06-19T13:00:02.000Z                       NaN   \n",
       "\n",
       "                                        Name  NamespacePrefix  \\\n",
       "0                             Email2Case KPI              NaN   \n",
       "5            Sample Report: Document Library              NaN   \n",
       "94  NorthEast PDM 1:1 Quarter Forecast To Go              NaN   \n",
       "\n",
       "               OwnerId                                  ReportTypeApiName  \\\n",
       "0   00D0b000000GaMpEAK      CaseList@Case.MaritzCX__Survey_Response_Id__c   \n",
       "5   00D0b000000GaMpEAK                                       DocumentList   \n",
       "94  00D0b000000GaMpEAK  Projects_with_MilestoneOrder_and_Order_Product__c   \n",
       "\n",
       "              SystemModstamp  \n",
       "0   2022-06-20T02:04:59.000Z  \n",
       "5   2022-06-19T17:40:18.000Z  \n",
       "94  2022-06-19T13:00:02.000Z  "
      ]
     },
     "execution_count": 34,
     "metadata": {},
     "output_type": "execute_result"
    }
   ],
   "source": [
    "df.head(3) # the most recent 3 in this sample"
   ]
  },
  {
   "cell_type": "code",
   "execution_count": 35,
   "metadata": {},
   "outputs": [
    {
     "data": {
      "text/html": [
       "<div>\n",
       "<style scoped>\n",
       "    .dataframe tbody tr th:only-of-type {\n",
       "        vertical-align: middle;\n",
       "    }\n",
       "\n",
       "    .dataframe tbody tr th {\n",
       "        vertical-align: top;\n",
       "    }\n",
       "\n",
       "    .dataframe thead th {\n",
       "        text-align: right;\n",
       "    }\n",
       "</style>\n",
       "<table border=\"1\" class=\"dataframe\">\n",
       "  <thead>\n",
       "    <tr style=\"text-align: right;\">\n",
       "      <th></th>\n",
       "      <th>CreatedById</th>\n",
       "      <th>CreatedDate</th>\n",
       "      <th>Description</th>\n",
       "      <th>DeveloperName</th>\n",
       "      <th>FolderName</th>\n",
       "      <th>Format</th>\n",
       "      <th>Id</th>\n",
       "      <th>IsDeleted</th>\n",
       "      <th>LastModifiedById</th>\n",
       "      <th>LastModifiedDate</th>\n",
       "      <th>LastReferencedDate</th>\n",
       "      <th>LastRunDate</th>\n",
       "      <th>LastViewedDate</th>\n",
       "      <th>Name</th>\n",
       "      <th>NamespacePrefix</th>\n",
       "      <th>OwnerId</th>\n",
       "      <th>ReportTypeApiName</th>\n",
       "      <th>SystemModstamp</th>\n",
       "    </tr>\n",
       "  </thead>\n",
       "  <tbody>\n",
       "    <tr>\n",
       "      <th>51</th>\n",
       "      <td>0050b000004K5i0AAC</td>\n",
       "      <td>2018-11-11T03:50:24.000Z</td>\n",
       "      <td>NaN</td>\n",
       "      <td>PSA_Reconciliation_Report</td>\n",
       "      <td>Public Reports</td>\n",
       "      <td>Tabular</td>\n",
       "      <td>00O0b000004kkfpEAA</td>\n",
       "      <td>False</td>\n",
       "      <td>0050b000004K5i0AAC</td>\n",
       "      <td>2018-11-11T03:50:24.000Z</td>\n",
       "      <td>NaN</td>\n",
       "      <td>2019-01-29T03:27:34.000Z</td>\n",
       "      <td>NaN</td>\n",
       "      <td>Reconciliation Report</td>\n",
       "      <td>NaN</td>\n",
       "      <td>00D0b000000GaMpEAK</td>\n",
       "      <td>psa_projects_with_orders__c</td>\n",
       "      <td>2019-01-29T03:27:34.000Z</td>\n",
       "    </tr>\n",
       "    <tr>\n",
       "      <th>42</th>\n",
       "      <td>0050b000004K5i0AAC</td>\n",
       "      <td>2018-11-11T03:50:22.000Z</td>\n",
       "      <td>NaN</td>\n",
       "      <td>Orders_without_Projects_by_Account</td>\n",
       "      <td>Public Reports</td>\n",
       "      <td>Summary</td>\n",
       "      <td>00O0b000004kkffEAA</td>\n",
       "      <td>False</td>\n",
       "      <td>0050b000004K5i0AAC</td>\n",
       "      <td>2018-11-11T03:50:22.000Z</td>\n",
       "      <td>NaN</td>\n",
       "      <td>2018-12-18T18:01:11.000Z</td>\n",
       "      <td>NaN</td>\n",
       "      <td>Orders without Projects by Account</td>\n",
       "      <td>NaN</td>\n",
       "      <td>00D0b000000GaMpEAK</td>\n",
       "      <td>Orders_without_Products__c</td>\n",
       "      <td>2018-12-18T18:01:11.000Z</td>\n",
       "    </tr>\n",
       "    <tr>\n",
       "      <th>13</th>\n",
       "      <td>0050b000004dgkKAAQ</td>\n",
       "      <td>2017-08-15T17:20:40.000Z</td>\n",
       "      <td>What pipeline do I have by close month?</td>\n",
       "      <td>SampleReportPipelineByCloseMonth</td>\n",
       "      <td>Public Reports</td>\n",
       "      <td>Matrix</td>\n",
       "      <td>00O0b000004VYLhEAO</td>\n",
       "      <td>False</td>\n",
       "      <td>0050b000004dgkKAAQ</td>\n",
       "      <td>2017-08-15T17:20:40.000Z</td>\n",
       "      <td>NaN</td>\n",
       "      <td>2018-10-06T17:47:47.000Z</td>\n",
       "      <td>NaN</td>\n",
       "      <td>Sample Report: Pipeline By Close Month</td>\n",
       "      <td>NaN</td>\n",
       "      <td>00D0b000000GaMpEAK</td>\n",
       "      <td>Opportunity</td>\n",
       "      <td>2018-10-06T17:47:47.000Z</td>\n",
       "    </tr>\n",
       "  </tbody>\n",
       "</table>\n",
       "</div>"
      ],
      "text/plain": [
       "           CreatedById               CreatedDate  \\\n",
       "51  0050b000004K5i0AAC  2018-11-11T03:50:24.000Z   \n",
       "42  0050b000004K5i0AAC  2018-11-11T03:50:22.000Z   \n",
       "13  0050b000004dgkKAAQ  2017-08-15T17:20:40.000Z   \n",
       "\n",
       "                                Description  \\\n",
       "51                                      NaN   \n",
       "42                                      NaN   \n",
       "13  What pipeline do I have by close month?   \n",
       "\n",
       "                         DeveloperName      FolderName   Format  \\\n",
       "51           PSA_Reconciliation_Report  Public Reports  Tabular   \n",
       "42  Orders_without_Projects_by_Account  Public Reports  Summary   \n",
       "13    SampleReportPipelineByCloseMonth  Public Reports   Matrix   \n",
       "\n",
       "                    Id  IsDeleted    LastModifiedById  \\\n",
       "51  00O0b000004kkfpEAA      False  0050b000004K5i0AAC   \n",
       "42  00O0b000004kkffEAA      False  0050b000004K5i0AAC   \n",
       "13  00O0b000004VYLhEAO      False  0050b000004dgkKAAQ   \n",
       "\n",
       "            LastModifiedDate LastReferencedDate               LastRunDate  \\\n",
       "51  2018-11-11T03:50:24.000Z                NaN  2019-01-29T03:27:34.000Z   \n",
       "42  2018-11-11T03:50:22.000Z                NaN  2018-12-18T18:01:11.000Z   \n",
       "13  2017-08-15T17:20:40.000Z                NaN  2018-10-06T17:47:47.000Z   \n",
       "\n",
       "   LastViewedDate                                    Name  NamespacePrefix  \\\n",
       "51            NaN                   Reconciliation Report              NaN   \n",
       "42            NaN      Orders without Projects by Account              NaN   \n",
       "13            NaN  Sample Report: Pipeline By Close Month              NaN   \n",
       "\n",
       "               OwnerId            ReportTypeApiName            SystemModstamp  \n",
       "51  00D0b000000GaMpEAK  psa_projects_with_orders__c  2019-01-29T03:27:34.000Z  \n",
       "42  00D0b000000GaMpEAK   Orders_without_Products__c  2018-12-18T18:01:11.000Z  \n",
       "13  00D0b000000GaMpEAK                  Opportunity  2018-10-06T17:47:47.000Z  "
      ]
     },
     "execution_count": 35,
     "metadata": {},
     "output_type": "execute_result"
    }
   ],
   "source": [
    "df.tail(3) # the oldest 3 in this sample"
   ]
  },
  {
   "cell_type": "markdown",
   "metadata": {},
   "source": [
    "### Run count per date"
   ]
  },
  {
   "cell_type": "markdown",
   "metadata": {},
   "source": [
    "Using `values_counts()`"
   ]
  },
  {
   "cell_type": "code",
   "execution_count": 36,
   "metadata": {},
   "outputs": [
    {
     "data": {
      "text/plain": [
       "2022-06-19T13:00:02.000Z    2\n",
       "2022-05-10T16:11:09.000Z    1\n",
       "2022-06-20T02:04:59.000Z    1\n",
       "2022-06-06T14:52:44.000Z    1\n",
       "2021-07-12T11:23:45.000Z    1\n",
       "                           ..\n",
       "2020-10-01T23:23:14.000Z    1\n",
       "2022-05-17T22:00:02.000Z    1\n",
       "2022-02-15T14:14:58.000Z    1\n",
       "2021-03-11T20:10:27.000Z    1\n",
       "2020-12-21T16:59:51.000Z    1\n",
       "Name: LastRunDate, Length: 99, dtype: int64"
      ]
     },
     "execution_count": 36,
     "metadata": {},
     "output_type": "execute_result"
    }
   ],
   "source": [
    "df[\"LastRunDate\"].value_counts()"
   ]
  },
  {
   "cell_type": "markdown",
   "metadata": {},
   "source": [
    "Grouping by `LastRunDate` column."
   ]
  },
  {
   "cell_type": "code",
   "execution_count": 60,
   "metadata": {},
   "outputs": [
    {
     "data": {
      "text/html": [
       "<div>\n",
       "<style scoped>\n",
       "    .dataframe tbody tr th:only-of-type {\n",
       "        vertical-align: middle;\n",
       "    }\n",
       "\n",
       "    .dataframe tbody tr th {\n",
       "        vertical-align: top;\n",
       "    }\n",
       "\n",
       "    .dataframe thead th {\n",
       "        text-align: right;\n",
       "    }\n",
       "</style>\n",
       "<table border=\"1\" class=\"dataframe\">\n",
       "  <thead>\n",
       "    <tr style=\"text-align: right;\">\n",
       "      <th></th>\n",
       "      <th>RunCount</th>\n",
       "    </tr>\n",
       "    <tr>\n",
       "      <th>LastRunDate</th>\n",
       "      <th></th>\n",
       "    </tr>\n",
       "  </thead>\n",
       "  <tbody>\n",
       "    <tr>\n",
       "      <th>2018-10-06T17:47:47.000Z</th>\n",
       "      <td>1</td>\n",
       "    </tr>\n",
       "    <tr>\n",
       "      <th>2018-12-18T18:01:11.000Z</th>\n",
       "      <td>1</td>\n",
       "    </tr>\n",
       "    <tr>\n",
       "      <th>2019-01-29T03:27:34.000Z</th>\n",
       "      <td>1</td>\n",
       "    </tr>\n",
       "    <tr>\n",
       "      <th>2019-05-08T21:56:01.000Z</th>\n",
       "      <td>1</td>\n",
       "    </tr>\n",
       "    <tr>\n",
       "      <th>2019-06-06T15:20:43.000Z</th>\n",
       "      <td>1</td>\n",
       "    </tr>\n",
       "    <tr>\n",
       "      <th>...</th>\n",
       "      <td>...</td>\n",
       "    </tr>\n",
       "    <tr>\n",
       "      <th>2022-06-16T12:19:17.000Z</th>\n",
       "      <td>1</td>\n",
       "    </tr>\n",
       "    <tr>\n",
       "      <th>2022-06-17T15:17:43.000Z</th>\n",
       "      <td>1</td>\n",
       "    </tr>\n",
       "    <tr>\n",
       "      <th>2022-06-19T13:00:02.000Z</th>\n",
       "      <td>2</td>\n",
       "    </tr>\n",
       "    <tr>\n",
       "      <th>2022-06-19T17:40:18.000Z</th>\n",
       "      <td>1</td>\n",
       "    </tr>\n",
       "    <tr>\n",
       "      <th>2022-06-20T02:04:59.000Z</th>\n",
       "      <td>1</td>\n",
       "    </tr>\n",
       "  </tbody>\n",
       "</table>\n",
       "<p>99 rows × 1 columns</p>\n",
       "</div>"
      ],
      "text/plain": [
       "                          RunCount\n",
       "LastRunDate                       \n",
       "2018-10-06T17:47:47.000Z         1\n",
       "2018-12-18T18:01:11.000Z         1\n",
       "2019-01-29T03:27:34.000Z         1\n",
       "2019-05-08T21:56:01.000Z         1\n",
       "2019-06-06T15:20:43.000Z         1\n",
       "...                            ...\n",
       "2022-06-16T12:19:17.000Z         1\n",
       "2022-06-17T15:17:43.000Z         1\n",
       "2022-06-19T13:00:02.000Z         2\n",
       "2022-06-19T17:40:18.000Z         1\n",
       "2022-06-20T02:04:59.000Z         1\n",
       "\n",
       "[99 rows x 1 columns]"
      ]
     },
     "execution_count": 60,
     "metadata": {},
     "output_type": "execute_result"
    }
   ],
   "source": [
    "df[['Id', 'LastRunDate']]\\\n",
    "    .groupby('LastRunDate')\\\n",
    "    .agg('count')\\\n",
    "    .rename(columns={'Id':'RunCount'})"
   ]
  }
 ],
 "metadata": {
  "kernelspec": {
   "display_name": "Python 3",
   "language": "python",
   "name": "python3"
  },
  "language_info": {
   "codemirror_mode": {
    "name": "ipython",
    "version": 3
   },
   "file_extension": ".py",
   "mimetype": "text/x-python",
   "name": "python",
   "nbconvert_exporter": "python",
   "pygments_lexer": "ipython3",
   "version": "3.8.10"
  }
 },
 "nbformat": 4,
 "nbformat_minor": 4
}

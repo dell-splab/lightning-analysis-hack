{
 "cells": [
  {
   "cell_type": "markdown",
   "id": "d10f0acb",
   "metadata": {},
   "source": [
    "#  Problematic Reports Regarding Page Load Time \n",
    "\n",
    "---\n",
    "\n",
    ">Questions being answered in this notebook.\n",
    ">- [x] What is a problematic report regarding page load time?\n",
    ">- [x] How to retrieve report ID from PAGE_URL pageview logs?\n",
    ">- [x] How to filter out reports that take longer to load?\n",
    ">- [x] Which reports are active and page load time problematics?"
   ]
  },
  {
   "cell_type": "code",
   "execution_count": 1,
   "id": "778e1f12",
   "metadata": {},
   "outputs": [],
   "source": [
    "import pandas as pd\n",
    "import numpy as np"
   ]
  },
  {
   "cell_type": "markdown",
   "id": "b850a0bb",
   "metadata": {},
   "source": [
    "Loading active reports."
   ]
  },
  {
   "cell_type": "code",
   "execution_count": 2,
   "id": "dfe31c14",
   "metadata": {},
   "outputs": [],
   "source": [
    "active_reports = pd.read_csv(\"../datasets/active_reports.csv\", low_memory=False)"
   ]
  },
  {
   "cell_type": "markdown",
   "id": "6503f40d",
   "metadata": {},
   "source": [
    "## 1. Problematic reports regarding time\n",
    "\n",
    "Reports that take more than 60 seconds to load since PAGE_START_TIME. Following the definition in Salesforce documentation for `EFFECTIVE_PAGE_TIME` present on Lightning PageView event logs."
   ]
  },
  {
   "cell_type": "markdown",
   "id": "c8463b67",
   "metadata": {},
   "source": [
    "Loading page view logs sample."
   ]
  },
  {
   "cell_type": "code",
   "execution_count": 3,
   "id": "91097da7",
   "metadata": {},
   "outputs": [
    {
     "name": "stderr",
     "output_type": "stream",
     "text": [
      "C:\\Users\\jefer\\AppData\\Local\\Temp\\ipykernel_236\\419108784.py:1: DtypeWarning: Columns (5,11,13,17,18,19,20,22,24,28,44,45) have mixed types. Specify dtype option on import or set low_memory=False.\n",
      "  pageview_logs = pd.read_csv(\"../../data/Salesforce/ELF/LightningPageView/2022-06-04_LightningPageView.csv\")\n"
     ]
    }
   ],
   "source": [
    "pageview_logs = pd.read_csv(\"../../data/Salesforce/ELF/LightningPageView/2022-06-04_LightningPageView.csv\")"
   ]
  },
  {
   "cell_type": "code",
   "execution_count": 4,
   "id": "30791a69",
   "metadata": {},
   "outputs": [
    {
     "data": {
      "text/plain": [
       "(792349, 50)"
      ]
     },
     "execution_count": 4,
     "metadata": {},
     "output_type": "execute_result"
    }
   ],
   "source": [
    "pageview_logs.shape"
   ]
  },
  {
   "cell_type": "markdown",
   "id": "16290411",
   "metadata": {},
   "source": [
    "### 1.1. Retrieving Repord ID from PAGE_URL"
   ]
  },
  {
   "cell_type": "markdown",
   "id": "80e5facd",
   "metadata": {},
   "source": [
    "Removing missing values for `PAGE_URL`."
   ]
  },
  {
   "cell_type": "code",
   "execution_count": 5,
   "id": "c525475a",
   "metadata": {},
   "outputs": [],
   "source": [
    "pageview_logs.dropna(subset=['PAGE_URL'], inplace=True)"
   ]
  },
  {
   "cell_type": "code",
   "execution_count": 6,
   "id": "368ec7dc",
   "metadata": {},
   "outputs": [
    {
     "data": {
      "text/plain": [
       "(789728, 50)"
      ]
     },
     "execution_count": 6,
     "metadata": {},
     "output_type": "execute_result"
    }
   ],
   "source": [
    "pageview_logs.shape"
   ]
  },
  {
   "cell_type": "markdown",
   "id": "3d856477",
   "metadata": {},
   "source": [
    "Filtering only run reports from endpoints."
   ]
  },
  {
   "cell_type": "code",
   "execution_count": 7,
   "id": "cfb374f6",
   "metadata": {},
   "outputs": [],
   "source": [
    "import re\n",
    "\n",
    "pattern = re.compile(r'\\/lightning\\/r\\/(?P<report_type>[a-zA-Z]{4,})\\/(?P<report_id>[0-9a-zA-Z]{18})')\n",
    "\n",
    "def filter_run_report_endpoints(pattern, url, field):\n",
    "    m = re.match(pattern, url)\n",
    "    if m:\n",
    "        return m.group(field)"
   ]
  },
  {
   "cell_type": "code",
   "execution_count": 8,
   "id": "c607876a",
   "metadata": {},
   "outputs": [],
   "source": [
    "pageview_logs['REPORT_ID_DERIVED'] =\\\n",
    "    pageview_logs.PAGE_URL.apply(lambda url: filter_run_report_endpoints(pattern, url, 'report_id'))"
   ]
  },
  {
   "cell_type": "code",
   "execution_count": 9,
   "id": "b873156e",
   "metadata": {},
   "outputs": [],
   "source": [
    "pageview_logs['REPORT_TYPE_DERIVED'] =\\\n",
    "    pageview_logs.PAGE_URL.apply(lambda url: filter_run_report_endpoints(pattern, url, 'report_type'))"
   ]
  },
  {
   "cell_type": "markdown",
   "id": "70a5a0c5",
   "metadata": {},
   "source": [
    "Removing missing values after endpoint filter."
   ]
  },
  {
   "cell_type": "code",
   "execution_count": 10,
   "id": "1e8a8d95",
   "metadata": {},
   "outputs": [],
   "source": [
    "pageview_logs.dropna(subset=['REPORT_ID_DERIVED'], inplace=True)"
   ]
  },
  {
   "cell_type": "code",
   "execution_count": 11,
   "id": "64e6cfb7",
   "metadata": {},
   "outputs": [
    {
     "data": {
      "text/plain": [
       "(478779, 52)"
      ]
     },
     "execution_count": 11,
     "metadata": {},
     "output_type": "execute_result"
    }
   ],
   "source": [
    "pageview_logs.shape"
   ]
  },
  {
   "cell_type": "markdown",
   "id": "6c2cb66c",
   "metadata": {},
   "source": [
    "Checking for inconsistent report IDs."
   ]
  },
  {
   "cell_type": "code",
   "execution_count": 12,
   "id": "11a7eed4",
   "metadata": {},
   "outputs": [],
   "source": [
    "assert pageview_logs[pageview_logs.REPORT_ID_DERIVED.str.len()==18].shape == pageview_logs.shape"
   ]
  },
  {
   "cell_type": "markdown",
   "id": "ff54b15f",
   "metadata": {},
   "source": [
    "### 1.2. Filtering pages that take longer to load\n",
    "\n",
    "Reports that takes more than 60s to load or that reaches in an error have a `Nan` inside the column `EFFECTIVE_PAGE_TIME`."
   ]
  },
  {
   "cell_type": "code",
   "execution_count": 13,
   "id": "89bb7c0c",
   "metadata": {},
   "outputs": [],
   "source": [
    "take_longer_to_load_pageview_logs = pageview_logs[pageview_logs.EFFECTIVE_PAGE_TIME.isna()]"
   ]
  },
  {
   "cell_type": "markdown",
   "id": "06531608",
   "metadata": {},
   "source": [
    "To capture those that take longer than 60s we can check the `DURATION` column. We get the max duration for reports that have more than one pageview logs."
   ]
  },
  {
   "cell_type": "code",
   "execution_count": 14,
   "id": "c72618ff",
   "metadata": {},
   "outputs": [],
   "source": [
    "take_longer_to_load_pageview_logs = take_longer_to_load_pageview_logs[['REPORT_ID_DERIVED', 'DURATION']]\\\n",
    "    .groupby('REPORT_ID_DERIVED')\\\n",
    "    .max()\\\n",
    "    .reset_index()"
   ]
  },
  {
   "cell_type": "code",
   "execution_count": 15,
   "id": "37004d14",
   "metadata": {},
   "outputs": [],
   "source": [
    "take_longer_to_load_pageview_logs =\\\n",
    "    take_longer_to_load_pageview_logs[take_longer_to_load_pageview_logs.DURATION > 60000] # 60000ms = 60s"
   ]
  },
  {
   "cell_type": "code",
   "execution_count": 16,
   "id": "ebfff4e3",
   "metadata": {},
   "outputs": [
    {
     "data": {
      "text/plain": [
       "(777, 2)"
      ]
     },
     "execution_count": 16,
     "metadata": {},
     "output_type": "execute_result"
    }
   ],
   "source": [
    "take_longer_to_load_pageview_logs.shape"
   ]
  },
  {
   "cell_type": "code",
   "execution_count": 17,
   "id": "a825fd3a",
   "metadata": {},
   "outputs": [],
   "source": [
    "reports_on_pages_that_take_longer_to_load =\\\n",
    "    take_longer_to_load_pageview_logs.REPORT_ID_DERIVED.unique()"
   ]
  },
  {
   "cell_type": "code",
   "execution_count": 18,
   "id": "bb13c39f",
   "metadata": {},
   "outputs": [
    {
     "data": {
      "text/plain": [
       "(777,)"
      ]
     },
     "execution_count": 18,
     "metadata": {},
     "output_type": "execute_result"
    }
   ],
   "source": [
    "reports_on_pages_that_take_longer_to_load.shape"
   ]
  },
  {
   "cell_type": "markdown",
   "id": "56eea38e",
   "metadata": {},
   "source": [
    "### 1.3. Active & problematic reports"
   ]
  },
  {
   "cell_type": "code",
   "execution_count": 19,
   "id": "b8051258",
   "metadata": {
    "scrolled": false
   },
   "outputs": [],
   "source": [
    "active_and_problematic_reports =\\\n",
    "    active_reports[active_reports.Id.apply(lambda report_id: report_id in reports_on_pages_that_take_longer_to_load)]"
   ]
  },
  {
   "cell_type": "code",
   "execution_count": 20,
   "id": "e47f056d",
   "metadata": {},
   "outputs": [
    {
     "data": {
      "text/plain": [
       "(60, 20)"
      ]
     },
     "execution_count": 20,
     "metadata": {},
     "output_type": "execute_result"
    }
   ],
   "source": [
    "active_and_problematic_reports.shape"
   ]
  },
  {
   "cell_type": "markdown",
   "id": "7f2f02c7",
   "metadata": {},
   "source": [
    "Adding a flag for this problematic feature"
   ]
  },
  {
   "cell_type": "code",
   "execution_count": 22,
   "id": "cec28a84",
   "metadata": {},
   "outputs": [],
   "source": [
    "active_and_problematic_reports['IsPageViewProblematic'] = True"
   ]
  },
  {
   "cell_type": "markdown",
   "id": "9232054d",
   "metadata": {},
   "source": [
    "Storing a dataset with only active and problematic reports regarding page load time."
   ]
  },
  {
   "cell_type": "code",
   "execution_count": 23,
   "id": "2f7e055d",
   "metadata": {},
   "outputs": [],
   "source": [
    "active_and_problematic_reports.to_csv('datasets/pageview_problematic_reports.csv', index=False)"
   ]
  }
 ],
 "metadata": {
  "kernelspec": {
   "display_name": "Python 3 (ipykernel)",
   "language": "python",
   "name": "python3"
  },
  "language_info": {
   "codemirror_mode": {
    "name": "ipython",
    "version": 3
   },
   "file_extension": ".py",
   "mimetype": "text/x-python",
   "name": "python",
   "nbconvert_exporter": "python",
   "pygments_lexer": "ipython3",
   "version": "3.9.12"
  }
 },
 "nbformat": 4,
 "nbformat_minor": 5
}

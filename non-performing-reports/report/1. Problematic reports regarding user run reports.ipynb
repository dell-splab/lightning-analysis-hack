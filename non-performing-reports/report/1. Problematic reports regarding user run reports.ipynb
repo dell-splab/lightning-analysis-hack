{
 "cells": [
  {
   "cell_type": "markdown",
   "id": "05a3d937",
   "metadata": {},
   "source": [
    "#  Problematic Reports Regarding User Run Reports\n",
    "\n",
    "---\n",
    "\n",
    ">Questions being answered in this notebook:\n",
    ">- [x] What is a problematic report regarding user run reports?"
   ]
  },
  {
   "cell_type": "code",
   "execution_count": 45,
   "id": "8edbac8b",
   "metadata": {},
   "outputs": [],
   "source": [
    "import pandas as pd"
   ]
  },
  {
   "cell_type": "code",
   "execution_count": 46,
   "id": "e4120893",
   "metadata": {},
   "outputs": [],
   "source": [
    "active_reports = pd.read_csv(\"../../datasets/active_reports.csv\", low_memory=False)"
   ]
  },
  {
   "cell_type": "code",
   "execution_count": 47,
   "id": "a89b7b41",
   "metadata": {},
   "outputs": [],
   "source": [
    "database_related_logs = pd.read_csv(\"datasets/Report_newlogs.csv\")"
   ]
  },
  {
   "cell_type": "code",
   "execution_count": 48,
   "id": "af783b4a",
   "metadata": {},
   "outputs": [
    {
     "data": {
      "text/plain": [
       "(9479, 4)"
      ]
     },
     "execution_count": 48,
     "metadata": {},
     "output_type": "execute_result"
    }
   ],
   "source": [
    "active_reports.shape"
   ]
  },
  {
   "cell_type": "code",
   "execution_count": 49,
   "id": "60598594",
   "metadata": {},
   "outputs": [
    {
     "data": {
      "text/plain": [
       "(367182, 31)"
      ]
     },
     "execution_count": 49,
     "metadata": {},
     "output_type": "execute_result"
    }
   ],
   "source": [
    "database_related_logs.shape"
   ]
  },
  {
   "cell_type": "code",
   "execution_count": 50,
   "id": "bc4b8ef6",
   "metadata": {},
   "outputs": [],
   "source": [
    "full_logs = pd.merge(left=active_reports, right=database_related_logs, left_on='Id', right_on='ReportId', indicator=True)"
   ]
  },
  {
   "cell_type": "code",
   "execution_count": null,
   "id": "0cfc3f65",
   "metadata": {},
   "outputs": [],
   "source": []
  },
  {
   "cell_type": "code",
   "execution_count": 51,
   "id": "d3263c2d",
   "metadata": {},
   "outputs": [],
   "source": [
    "full_logs['EstimatedDataConsumedBytes'] = full_logs.AVERAGE_ROW_SIZE * full_logs.ROW_COUNT "
   ]
  },
  {
   "cell_type": "code",
   "execution_count": 52,
   "id": "040bba14",
   "metadata": {},
   "outputs": [
    {
     "data": {
      "text/plain": [
       "2399376.952019355"
      ]
     },
     "execution_count": 52,
     "metadata": {},
     "output_type": "execute_result"
    }
   ],
   "source": [
    "avg_bytes = full_logs.EstimatedDataConsumedBytes.mean()\n",
    "avg_bytes"
   ]
  },
  {
   "cell_type": "code",
   "execution_count": 53,
   "id": "2670ad31",
   "metadata": {},
   "outputs": [
    {
     "data": {
      "text/plain": [
       "2.28822417451797"
      ]
     },
     "execution_count": 53,
     "metadata": {},
     "output_type": "execute_result"
    }
   ],
   "source": [
    "# converting to MB\n",
    "# 1 MB = 1048576 Bytes ~ 1e6\n",
    "avg_bytes / 1048576"
   ]
  },
  {
   "cell_type": "code",
   "execution_count": 54,
   "id": "cda34275",
   "metadata": {},
   "outputs": [],
   "source": [
    "problematics_regarding_database = full_logs[full_logs.EstimatedDataConsumedBytes > avg_bytes]"
   ]
  },
  {
   "cell_type": "code",
   "execution_count": 55,
   "id": "c78dc617",
   "metadata": {},
   "outputs": [
    {
     "name": "stderr",
     "output_type": "stream",
     "text": [
      "C:\\Users\\jefer\\AppData\\Local\\Temp\\ipykernel_12820\\2986280985.py:1: SettingWithCopyWarning: \n",
      "A value is trying to be set on a copy of a slice from a DataFrame.\n",
      "Try using .loc[row_indexer,col_indexer] = value instead\n",
      "\n",
      "See the caveats in the documentation: https://pandas.pydata.org/pandas-docs/stable/user_guide/indexing.html#returning-a-view-versus-a-copy\n",
      "  problematics_regarding_database['EstimatedDataConsumedMegabytes'] =\\\n"
     ]
    }
   ],
   "source": [
    "problematics_regarding_database['EstimatedDataConsumedMegabytes'] =\\\n",
    "    problematics_regarding_database.EstimatedDataConsumedBytes / 1e6"
   ]
  },
  {
   "cell_type": "code",
   "execution_count": 61,
   "id": "a4ea5bde",
   "metadata": {},
   "outputs": [
    {
     "data": {
      "text/plain": [
       "Index(['Id', 'Name', 'Format', 'LastRunDate', 'EVENT_TYPE', 'TIMESTAMP',\n",
       "       'REQUEST_ID', 'ORGANIZATION_ID', 'USER_ID', 'RUN_TIME', 'CPU_TIME',\n",
       "       'URI', 'SESSION_KEY', 'LOGIN_KEY', 'USER_TYPE', 'REQUEST_STATUS',\n",
       "       'DB_TOTAL_TIME', 'ENTITY_NAME', 'DISPLAY_TYPE', 'RENDERING_TYPE',\n",
       "       'REPORT_ID', 'ROW_COUNT', 'NUMBER_EXCEPTION_FILTERS', 'NUMBER_COLUMNS',\n",
       "       'AVERAGE_ROW_SIZE', 'SORT', 'DB_BLOCKS', 'DB_CPU_TIME',\n",
       "       'NUMBER_BUCKETS', 'TIMESTAMP_DERIVED', 'USER_ID_DERIVED', 'CLIENT_IP',\n",
       "       'URI_ID_DERIVED', 'ReportId', 'ORIGIN', '_merge',\n",
       "       'EstimatedDataConsumedBytes', 'EstimatedDataConsumedMegabytes'],\n",
       "      dtype='object')"
      ]
     },
     "execution_count": 61,
     "metadata": {},
     "output_type": "execute_result"
    }
   ],
   "source": [
    "problematics_regarding_database.columns"
   ]
  },
  {
   "cell_type": "code",
   "execution_count": 63,
   "id": "565dd1f1",
   "metadata": {},
   "outputs": [],
   "source": [
    "agg_map = {\n",
    "    'EVENT_TYPE': ['count', 'nunique', 'unique'], \n",
    "    'USER_ID': ['count', 'nunique', 'unique'], \n",
    "    'RUN_TIME': ['sum', 'mean', 'min', 'max', 'std', 'count', 'nunique'], \n",
    "    'CPU_TIME': ['sum', 'mean', 'min', 'max', 'std', 'count', 'nunique'],\n",
    "    'URI': ['count', 'nunique', 'unique'], \n",
    "    'SESSION_KEY': ['count', 'nunique', 'unique'], \n",
    "    'LOGIN_KEY': ['count', 'nunique', 'unique'], \n",
    "    'USER_TYPE': ['count', 'nunique', 'unique'], \n",
    "    'REQUEST_STATUS': ['count', 'nunique', 'unique'],\n",
    "    'DB_TOTAL_TIME': ['sum', 'mean', 'min', 'max', 'std', 'count', 'nunique'],\n",
    "    'ENTITY_NAME': ['count', 'nunique', 'unique'], \n",
    "    'DISPLAY_TYPE': ['count', 'nunique', 'unique'],\n",
    "    'RENDERING_TYPE': ['count', 'nunique', 'unique'],\n",
    "    'ROW_COUNT': ['sum', 'mean', 'min', 'max', 'std', 'count', 'nunique'], \n",
    "    'NUMBER_EXCEPTION_FILTERS': ['mean', 'min', 'max', 'std', 'nunique'], \n",
    "    'NUMBER_COLUMNS': ['mean', 'min', 'max', 'std', 'nunique'],\n",
    "    'AVERAGE_ROW_SIZE': ['sum', 'mean', 'min', 'max', 'std'], \n",
    "    'DB_BLOCKS': ['sum', 'mean', 'min', 'max', 'std'], \n",
    "    'DB_CPU_TIME': ['sum', 'mean', 'min', 'max', 'std'],\n",
    "    'NUMBER_BUCKETS': ['sum', 'mean', 'min', 'max', 'std'],\n",
    "    'USER_ID_DERIVED': ['count', 'nunique', 'unique'],\n",
    "    'CLIENT_IP': ['count', 'nunique', 'unique'],\n",
    "    'URI_ID_DERIVED': ['count', 'nunique', 'unique'],\n",
    "    'ORIGIN': ['count', 'nunique', 'unique'], \n",
    "    'EstimatedDataConsumedBytes': ['sum', 'mean', 'min', 'max', 'std'], \n",
    "    'EstimatedDataConsumedMegabytes': ['sum', 'mean', 'min', 'max', 'std']\n",
    "}"
   ]
  },
  {
   "cell_type": "code",
   "execution_count": 74,
   "id": "ebe66342",
   "metadata": {},
   "outputs": [],
   "source": [
    "summary = problematics_regarding_database.groupby(['ReportId', 'Name'])\\\n",
    "    .agg(agg_map)"
   ]
  },
  {
   "cell_type": "code",
   "execution_count": 83,
   "id": "a9f20d40",
   "metadata": {},
   "outputs": [],
   "source": [
    "col_names = []\n",
    "level1 = list(summary.columns.get_level_values(0))\n",
    "level2 = list(summary.columns.get_level_values(1))\n",
    "for i in range(len(level1)):\n",
    "    col_names.append(level1[i] + \"_\" + level2[i].capitalize())"
   ]
  },
  {
   "cell_type": "code",
   "execution_count": 90,
   "id": "85a4300d",
   "metadata": {},
   "outputs": [],
   "source": [
    "summary.columns = col_names"
   ]
  },
  {
   "cell_type": "code",
   "execution_count": 93,
   "id": "745067a0",
   "metadata": {},
   "outputs": [
    {
     "data": {
      "text/plain": [
       "(337, 110)"
      ]
     },
     "execution_count": 93,
     "metadata": {},
     "output_type": "execute_result"
    }
   ],
   "source": [
    "summary.shape"
   ]
  },
  {
   "cell_type": "code",
   "execution_count": 96,
   "id": "42eed917",
   "metadata": {},
   "outputs": [],
   "source": [
    "summary.reset_index(inplace=True)"
   ]
  },
  {
   "cell_type": "code",
   "execution_count": 97,
   "id": "19331e96",
   "metadata": {},
   "outputs": [
    {
     "data": {
      "text/plain": [
       "(337, 112)"
      ]
     },
     "execution_count": 97,
     "metadata": {},
     "output_type": "execute_result"
    }
   ],
   "source": [
    "summary.shape"
   ]
  },
  {
   "cell_type": "code",
   "execution_count": 98,
   "id": "ff02c619",
   "metadata": {},
   "outputs": [
    {
     "data": {
      "text/html": [
       "<div>\n",
       "<style scoped>\n",
       "    .dataframe tbody tr th:only-of-type {\n",
       "        vertical-align: middle;\n",
       "    }\n",
       "\n",
       "    .dataframe tbody tr th {\n",
       "        vertical-align: top;\n",
       "    }\n",
       "\n",
       "    .dataframe thead th {\n",
       "        text-align: right;\n",
       "    }\n",
       "</style>\n",
       "<table border=\"1\" class=\"dataframe\">\n",
       "  <thead>\n",
       "    <tr style=\"text-align: right;\">\n",
       "      <th></th>\n",
       "      <th>ReportId</th>\n",
       "      <th>Name</th>\n",
       "      <th>EVENT_TYPE_Count</th>\n",
       "      <th>EVENT_TYPE_Nunique</th>\n",
       "      <th>EVENT_TYPE_Unique</th>\n",
       "      <th>USER_ID_Count</th>\n",
       "      <th>USER_ID_Nunique</th>\n",
       "      <th>USER_ID_Unique</th>\n",
       "      <th>RUN_TIME_Sum</th>\n",
       "      <th>RUN_TIME_Mean</th>\n",
       "      <th>...</th>\n",
       "      <th>EstimatedDataConsumedBytes_Sum</th>\n",
       "      <th>EstimatedDataConsumedBytes_Mean</th>\n",
       "      <th>EstimatedDataConsumedBytes_Min</th>\n",
       "      <th>EstimatedDataConsumedBytes_Max</th>\n",
       "      <th>EstimatedDataConsumedBytes_Std</th>\n",
       "      <th>EstimatedDataConsumedMegabytes_Sum</th>\n",
       "      <th>EstimatedDataConsumedMegabytes_Mean</th>\n",
       "      <th>EstimatedDataConsumedMegabytes_Min</th>\n",
       "      <th>EstimatedDataConsumedMegabytes_Max</th>\n",
       "      <th>EstimatedDataConsumedMegabytes_Std</th>\n",
       "    </tr>\n",
       "  </thead>\n",
       "  <tbody>\n",
       "    <tr>\n",
       "      <th>0</th>\n",
       "      <td>00O0b000004AmRiEAK</td>\n",
       "      <td>DELL Agent Work Report</td>\n",
       "      <td>128</td>\n",
       "      <td>1</td>\n",
       "      <td>[Report]</td>\n",
       "      <td>128</td>\n",
       "      <td>23</td>\n",
       "      <td>[0051P000003jYHi, 0050b000004K7gf, 0056P000000...</td>\n",
       "      <td>417142</td>\n",
       "      <td>3258.921875</td>\n",
       "      <td>...</td>\n",
       "      <td>1.145561e+09</td>\n",
       "      <td>8.949694e+06</td>\n",
       "      <td>3999639.0</td>\n",
       "      <td>14890375.0</td>\n",
       "      <td>3.346542e+06</td>\n",
       "      <td>1145.560840</td>\n",
       "      <td>8.949694</td>\n",
       "      <td>3.999639</td>\n",
       "      <td>14.890375</td>\n",
       "      <td>3.346542</td>\n",
       "    </tr>\n",
       "    <tr>\n",
       "      <th>1</th>\n",
       "      <td>00O0b000004AmRjEAK</td>\n",
       "      <td>Agent Work for Supervisor</td>\n",
       "      <td>68</td>\n",
       "      <td>1</td>\n",
       "      <td>[Report]</td>\n",
       "      <td>68</td>\n",
       "      <td>14</td>\n",
       "      <td>[0051P000003jYWf, 0051P000003gAoM, 0051P000003...</td>\n",
       "      <td>174599</td>\n",
       "      <td>2567.632353</td>\n",
       "      <td>...</td>\n",
       "      <td>3.500165e+08</td>\n",
       "      <td>5.147301e+06</td>\n",
       "      <td>2491110.0</td>\n",
       "      <td>9256521.0</td>\n",
       "      <td>2.040283e+06</td>\n",
       "      <td>350.016497</td>\n",
       "      <td>5.147301</td>\n",
       "      <td>2.491110</td>\n",
       "      <td>9.256521</td>\n",
       "      <td>2.040283</td>\n",
       "    </tr>\n",
       "    <tr>\n",
       "      <th>2</th>\n",
       "      <td>00O0b000004AmRmEAK</td>\n",
       "      <td>Completed Chat Sessions</td>\n",
       "      <td>18</td>\n",
       "      <td>1</td>\n",
       "      <td>[Report]</td>\n",
       "      <td>18</td>\n",
       "      <td>6</td>\n",
       "      <td>[0050b000004K3yo, 0052R000009Tm6f, 0050b000004...</td>\n",
       "      <td>1523271</td>\n",
       "      <td>84626.166667</td>\n",
       "      <td>...</td>\n",
       "      <td>5.294120e+07</td>\n",
       "      <td>2.941178e+06</td>\n",
       "      <td>2537920.0</td>\n",
       "      <td>3896154.0</td>\n",
       "      <td>4.478155e+05</td>\n",
       "      <td>52.941198</td>\n",
       "      <td>2.941178</td>\n",
       "      <td>2.537920</td>\n",
       "      <td>3.896154</td>\n",
       "      <td>0.447815</td>\n",
       "    </tr>\n",
       "    <tr>\n",
       "      <th>3</th>\n",
       "      <td>00O0b000004AmRnEAK</td>\n",
       "      <td>Agent Chat Performance</td>\n",
       "      <td>25</td>\n",
       "      <td>1</td>\n",
       "      <td>[Report]</td>\n",
       "      <td>25</td>\n",
       "      <td>9</td>\n",
       "      <td>[0050b000004KWWz, 0050b000004KDLk, 0050b000004...</td>\n",
       "      <td>613660</td>\n",
       "      <td>24546.400000</td>\n",
       "      <td>...</td>\n",
       "      <td>1.356453e+09</td>\n",
       "      <td>5.425813e+07</td>\n",
       "      <td>3959280.0</td>\n",
       "      <td>265083858.0</td>\n",
       "      <td>5.144364e+07</td>\n",
       "      <td>1356.453205</td>\n",
       "      <td>54.258128</td>\n",
       "      <td>3.959280</td>\n",
       "      <td>265.083858</td>\n",
       "      <td>51.443644</td>\n",
       "    </tr>\n",
       "    <tr>\n",
       "      <th>4</th>\n",
       "      <td>00O0b000004AmRrEAK</td>\n",
       "      <td>Chat Average Handle Time</td>\n",
       "      <td>910</td>\n",
       "      <td>1</td>\n",
       "      <td>[Report]</td>\n",
       "      <td>910</td>\n",
       "      <td>180</td>\n",
       "      <td>[0052R00000A00Gq, 0050b000004KEAZ, 0050b000004...</td>\n",
       "      <td>2638869</td>\n",
       "      <td>2899.856044</td>\n",
       "      <td>...</td>\n",
       "      <td>3.085156e+09</td>\n",
       "      <td>3.390282e+06</td>\n",
       "      <td>2400372.0</td>\n",
       "      <td>27538475.0</td>\n",
       "      <td>1.963039e+06</td>\n",
       "      <td>3085.156298</td>\n",
       "      <td>3.390282</td>\n",
       "      <td>2.400372</td>\n",
       "      <td>27.538475</td>\n",
       "      <td>1.963039</td>\n",
       "    </tr>\n",
       "  </tbody>\n",
       "</table>\n",
       "<p>5 rows × 112 columns</p>\n",
       "</div>"
      ],
      "text/plain": [
       "             ReportId                       Name  EVENT_TYPE_Count  \\\n",
       "0  00O0b000004AmRiEAK     DELL Agent Work Report               128   \n",
       "1  00O0b000004AmRjEAK  Agent Work for Supervisor                68   \n",
       "2  00O0b000004AmRmEAK    Completed Chat Sessions                18   \n",
       "3  00O0b000004AmRnEAK     Agent Chat Performance                25   \n",
       "4  00O0b000004AmRrEAK   Chat Average Handle Time               910   \n",
       "\n",
       "   EVENT_TYPE_Nunique EVENT_TYPE_Unique  USER_ID_Count  USER_ID_Nunique  \\\n",
       "0                   1          [Report]            128               23   \n",
       "1                   1          [Report]             68               14   \n",
       "2                   1          [Report]             18                6   \n",
       "3                   1          [Report]             25                9   \n",
       "4                   1          [Report]            910              180   \n",
       "\n",
       "                                      USER_ID_Unique  RUN_TIME_Sum  \\\n",
       "0  [0051P000003jYHi, 0050b000004K7gf, 0056P000000...        417142   \n",
       "1  [0051P000003jYWf, 0051P000003gAoM, 0051P000003...        174599   \n",
       "2  [0050b000004K3yo, 0052R000009Tm6f, 0050b000004...       1523271   \n",
       "3  [0050b000004KWWz, 0050b000004KDLk, 0050b000004...        613660   \n",
       "4  [0052R00000A00Gq, 0050b000004KEAZ, 0050b000004...       2638869   \n",
       "\n",
       "   RUN_TIME_Mean  ...  EstimatedDataConsumedBytes_Sum  \\\n",
       "0    3258.921875  ...                    1.145561e+09   \n",
       "1    2567.632353  ...                    3.500165e+08   \n",
       "2   84626.166667  ...                    5.294120e+07   \n",
       "3   24546.400000  ...                    1.356453e+09   \n",
       "4    2899.856044  ...                    3.085156e+09   \n",
       "\n",
       "   EstimatedDataConsumedBytes_Mean  EstimatedDataConsumedBytes_Min  \\\n",
       "0                     8.949694e+06                       3999639.0   \n",
       "1                     5.147301e+06                       2491110.0   \n",
       "2                     2.941178e+06                       2537920.0   \n",
       "3                     5.425813e+07                       3959280.0   \n",
       "4                     3.390282e+06                       2400372.0   \n",
       "\n",
       "   EstimatedDataConsumedBytes_Max  EstimatedDataConsumedBytes_Std  \\\n",
       "0                      14890375.0                    3.346542e+06   \n",
       "1                       9256521.0                    2.040283e+06   \n",
       "2                       3896154.0                    4.478155e+05   \n",
       "3                     265083858.0                    5.144364e+07   \n",
       "4                      27538475.0                    1.963039e+06   \n",
       "\n",
       "   EstimatedDataConsumedMegabytes_Sum  EstimatedDataConsumedMegabytes_Mean  \\\n",
       "0                         1145.560840                             8.949694   \n",
       "1                          350.016497                             5.147301   \n",
       "2                           52.941198                             2.941178   \n",
       "3                         1356.453205                            54.258128   \n",
       "4                         3085.156298                             3.390282   \n",
       "\n",
       "   EstimatedDataConsumedMegabytes_Min  EstimatedDataConsumedMegabytes_Max  \\\n",
       "0                            3.999639                           14.890375   \n",
       "1                            2.491110                            9.256521   \n",
       "2                            2.537920                            3.896154   \n",
       "3                            3.959280                          265.083858   \n",
       "4                            2.400372                           27.538475   \n",
       "\n",
       "   EstimatedDataConsumedMegabytes_Std  \n",
       "0                            3.346542  \n",
       "1                            2.040283  \n",
       "2                            0.447815  \n",
       "3                           51.443644  \n",
       "4                            1.963039  \n",
       "\n",
       "[5 rows x 112 columns]"
      ]
     },
     "execution_count": 98,
     "metadata": {},
     "output_type": "execute_result"
    }
   ],
   "source": [
    "summary.head()"
   ]
  },
  {
   "cell_type": "code",
   "execution_count": 9,
   "id": "1a81e7c3",
   "metadata": {},
   "outputs": [],
   "source": [
    "summary.to_csv(\"../../datasets/problematics_regarding_database_usage.csv\")"
   ]
  },
  {
   "cell_type": "code",
   "execution_count": null,
   "id": "25f314ef",
   "metadata": {},
   "outputs": [],
   "source": []
  }
 ],
 "metadata": {
  "kernelspec": {
   "display_name": "Python 3 (ipykernel)",
   "language": "python",
   "name": "python3"
  },
  "language_info": {
   "codemirror_mode": {
    "name": "ipython",
    "version": 3
   },
   "file_extension": ".py",
   "mimetype": "text/x-python",
   "name": "python",
   "nbconvert_exporter": "python",
   "pygments_lexer": "ipython3",
   "version": "3.9.12"
  }
 },
 "nbformat": 4,
 "nbformat_minor": 5
}

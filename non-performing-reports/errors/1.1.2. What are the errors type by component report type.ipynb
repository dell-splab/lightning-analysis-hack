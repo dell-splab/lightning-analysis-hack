{
 "cells": [
  {
   "cell_type": "markdown",
   "id": "8b0b9f37",
   "metadata": {},
   "source": [
    "# 1.1.3. What are the errors type by component/report type?\n",
    "Questions being answered in this notebook.\n",
    ">- [x] How are the error types related to the report types?"
   ]
  },
  {
   "cell_type": "code",
   "execution_count": 1,
   "id": "cfbb7b52",
   "metadata": {},
   "outputs": [],
   "source": [
    "import os\n",
    "import pandas as pd\n",
    "import numpy as np \n",
    "import matplotlib.pyplot as plt "
   ]
  },
  {
   "cell_type": "markdown",
   "id": "17df72db",
   "metadata": {},
   "source": [
    "## Loading Data from problematics regarding Errors\n"
   ]
  },
  {
   "cell_type": "code",
   "execution_count": 2,
   "id": "b939d900",
   "metadata": {},
   "outputs": [],
   "source": [
    "ltng_error_filtered = pd.read_csv(\"../../data/ELF-v4/errors/LightningError_newlogs.csv\", low_memory=False)"
   ]
  },
  {
   "cell_type": "code",
   "execution_count": 3,
   "id": "1188af4e",
   "metadata": {},
   "outputs": [
    {
     "data": {
      "text/html": [
       "<div>\n",
       "<style scoped>\n",
       "    .dataframe tbody tr th:only-of-type {\n",
       "        vertical-align: middle;\n",
       "    }\n",
       "\n",
       "    .dataframe tbody tr th {\n",
       "        vertical-align: top;\n",
       "    }\n",
       "\n",
       "    .dataframe thead th {\n",
       "        text-align: right;\n",
       "    }\n",
       "</style>\n",
       "<table border=\"1\" class=\"dataframe\">\n",
       "  <thead>\n",
       "    <tr style=\"text-align: right;\">\n",
       "      <th></th>\n",
       "      <th>EVENT_TYPE</th>\n",
       "      <th>TIMESTAMP</th>\n",
       "      <th>REQUEST_ID</th>\n",
       "      <th>ORGANIZATION_ID</th>\n",
       "      <th>USER_ID</th>\n",
       "      <th>CLIENT_ID</th>\n",
       "      <th>SESSION_KEY</th>\n",
       "      <th>LOGIN_KEY</th>\n",
       "      <th>USER_TYPE</th>\n",
       "      <th>APP_NAME</th>\n",
       "      <th>...</th>\n",
       "      <th>PAGE_ENTITY_TYPE</th>\n",
       "      <th>PAGE_CONTEXT</th>\n",
       "      <th>PAGE_URL</th>\n",
       "      <th>PAGE_APP_NAME</th>\n",
       "      <th>COMPONENT_NAME</th>\n",
       "      <th>TIMESTAMP_DERIVED</th>\n",
       "      <th>USER_ID_DERIVED</th>\n",
       "      <th>CLIENT_IP</th>\n",
       "      <th>ReportId</th>\n",
       "      <th>ReportType</th>\n",
       "    </tr>\n",
       "  </thead>\n",
       "  <tbody>\n",
       "    <tr>\n",
       "      <th>0</th>\n",
       "      <td>LightningError</td>\n",
       "      <td>2.022063e+13</td>\n",
       "      <td>TID:2705838300000341a7</td>\n",
       "      <td>00D0b000000GaMp</td>\n",
       "      <td>0050b000004KCcn</td>\n",
       "      <td>NaN</td>\n",
       "      <td>BpZHxxMEsnzYHh14</td>\n",
       "      <td>aScjDiUXiw7NxNFR</td>\n",
       "      <td>Standard</td>\n",
       "      <td>one:one</td>\n",
       "      <td>...</td>\n",
       "      <td>LiveChatTranscript</td>\n",
       "      <td>one:recordHomeFlexipage</td>\n",
       "      <td>/lightning/r/LiveChatTranscript/5706P000001RXN...</td>\n",
       "      <td>LightningService</td>\n",
       "      <td>NaN</td>\n",
       "      <td>2022-06-28T01:14:59.497Z</td>\n",
       "      <td>0050b000004KCcnAAG</td>\n",
       "      <td>163.244.246.215</td>\n",
       "      <td>5706P000001RXN6QAO</td>\n",
       "      <td>LiveChatTranscript</td>\n",
       "    </tr>\n",
       "    <tr>\n",
       "      <th>1</th>\n",
       "      <td>LightningError</td>\n",
       "      <td>2.022063e+13</td>\n",
       "      <td>TID:2705838300000341a7</td>\n",
       "      <td>00D0b000000GaMp</td>\n",
       "      <td>0050b000004KCcn</td>\n",
       "      <td>NaN</td>\n",
       "      <td>BpZHxxMEsnzYHh14</td>\n",
       "      <td>aScjDiUXiw7NxNFR</td>\n",
       "      <td>Standard</td>\n",
       "      <td>one:one</td>\n",
       "      <td>...</td>\n",
       "      <td>LiveChatTranscript</td>\n",
       "      <td>one:recordHomeFlexipage</td>\n",
       "      <td>/lightning/r/LiveChatTranscript/5706P000001RXN...</td>\n",
       "      <td>LightningService</td>\n",
       "      <td>NaN</td>\n",
       "      <td>2022-06-28T01:14:59.502Z</td>\n",
       "      <td>0050b000004KCcnAAG</td>\n",
       "      <td>163.244.246.215</td>\n",
       "      <td>5706P000001RXN6QAO</td>\n",
       "      <td>LiveChatTranscript</td>\n",
       "    </tr>\n",
       "    <tr>\n",
       "      <th>2</th>\n",
       "      <td>LightningError</td>\n",
       "      <td>2.022063e+13</td>\n",
       "      <td>TID:2705838300000341a7</td>\n",
       "      <td>00D0b000000GaMp</td>\n",
       "      <td>0050b000004KCcn</td>\n",
       "      <td>NaN</td>\n",
       "      <td>BpZHxxMEsnzYHh14</td>\n",
       "      <td>aScjDiUXiw7NxNFR</td>\n",
       "      <td>Standard</td>\n",
       "      <td>one:one</td>\n",
       "      <td>...</td>\n",
       "      <td>LiveChatTranscript</td>\n",
       "      <td>one:recordHomeFlexipage</td>\n",
       "      <td>/lightning/r/LiveChatTranscript/5706P000001RXN...</td>\n",
       "      <td>LightningService</td>\n",
       "      <td>NaN</td>\n",
       "      <td>2022-06-28T01:14:59.504Z</td>\n",
       "      <td>0050b000004KCcnAAG</td>\n",
       "      <td>163.244.246.215</td>\n",
       "      <td>5706P000001RXN6QAO</td>\n",
       "      <td>LiveChatTranscript</td>\n",
       "    </tr>\n",
       "    <tr>\n",
       "      <th>3</th>\n",
       "      <td>LightningError</td>\n",
       "      <td>2.022063e+13</td>\n",
       "      <td>TID:26489164000008ad24</td>\n",
       "      <td>00D0b000000GaMp</td>\n",
       "      <td>0050b000004QTRm</td>\n",
       "      <td>NaN</td>\n",
       "      <td>PDdNaapMUYygUmnd</td>\n",
       "      <td>5CkowkBUfnh50w5r</td>\n",
       "      <td>Standard</td>\n",
       "      <td>one:one</td>\n",
       "      <td>...</td>\n",
       "      <td>LiveChatTranscript</td>\n",
       "      <td>one:recordHomeFlexipage</td>\n",
       "      <td>/lightning/r/LiveChatTranscript/5706P000000wJS...</td>\n",
       "      <td>LightningService</td>\n",
       "      <td>NaN</td>\n",
       "      <td>2022-06-28T01:15:09.829Z</td>\n",
       "      <td>0050b000004QTRmAAO</td>\n",
       "      <td>143.166.255.115</td>\n",
       "      <td>5706P000000wJSFQA2</td>\n",
       "      <td>LiveChatTranscript</td>\n",
       "    </tr>\n",
       "    <tr>\n",
       "      <th>4</th>\n",
       "      <td>LightningError</td>\n",
       "      <td>2.022063e+13</td>\n",
       "      <td>TID:816206330000072904</td>\n",
       "      <td>00D0b000000GaMp</td>\n",
       "      <td>0050b000004KM0q</td>\n",
       "      <td>NaN</td>\n",
       "      <td>LXICh6ym15MdDnlC</td>\n",
       "      <td>mKQ4IAkKyOElfAAV</td>\n",
       "      <td>Standard</td>\n",
       "      <td>one:one</td>\n",
       "      <td>...</td>\n",
       "      <td>Report</td>\n",
       "      <td>reports:reportBase</td>\n",
       "      <td>/lightning/r/Report/00O2R000004AmwmUAC/view?qu...</td>\n",
       "      <td>LightningService</td>\n",
       "      <td>NaN</td>\n",
       "      <td>2022-06-28T01:17:00.510Z</td>\n",
       "      <td>0050b000004KM0qAAG</td>\n",
       "      <td>137.69.117.202</td>\n",
       "      <td>00O2R000004AmwmUAC</td>\n",
       "      <td>Report</td>\n",
       "    </tr>\n",
       "  </tbody>\n",
       "</table>\n",
       "<p>5 rows × 41 columns</p>\n",
       "</div>"
      ],
      "text/plain": [
       "       EVENT_TYPE     TIMESTAMP              REQUEST_ID  ORGANIZATION_ID  \\\n",
       "0  LightningError  2.022063e+13  TID:2705838300000341a7  00D0b000000GaMp   \n",
       "1  LightningError  2.022063e+13  TID:2705838300000341a7  00D0b000000GaMp   \n",
       "2  LightningError  2.022063e+13  TID:2705838300000341a7  00D0b000000GaMp   \n",
       "3  LightningError  2.022063e+13  TID:26489164000008ad24  00D0b000000GaMp   \n",
       "4  LightningError  2.022063e+13  TID:816206330000072904  00D0b000000GaMp   \n",
       "\n",
       "           USER_ID  CLIENT_ID       SESSION_KEY         LOGIN_KEY USER_TYPE  \\\n",
       "0  0050b000004KCcn        NaN  BpZHxxMEsnzYHh14  aScjDiUXiw7NxNFR  Standard   \n",
       "1  0050b000004KCcn        NaN  BpZHxxMEsnzYHh14  aScjDiUXiw7NxNFR  Standard   \n",
       "2  0050b000004KCcn        NaN  BpZHxxMEsnzYHh14  aScjDiUXiw7NxNFR  Standard   \n",
       "3  0050b000004QTRm        NaN  PDdNaapMUYygUmnd  5CkowkBUfnh50w5r  Standard   \n",
       "4  0050b000004KM0q        NaN  LXICh6ym15MdDnlC  mKQ4IAkKyOElfAAV  Standard   \n",
       "\n",
       "  APP_NAME  ...    PAGE_ENTITY_TYPE             PAGE_CONTEXT  \\\n",
       "0  one:one  ...  LiveChatTranscript  one:recordHomeFlexipage   \n",
       "1  one:one  ...  LiveChatTranscript  one:recordHomeFlexipage   \n",
       "2  one:one  ...  LiveChatTranscript  one:recordHomeFlexipage   \n",
       "3  one:one  ...  LiveChatTranscript  one:recordHomeFlexipage   \n",
       "4  one:one  ...              Report       reports:reportBase   \n",
       "\n",
       "                                            PAGE_URL     PAGE_APP_NAME  \\\n",
       "0  /lightning/r/LiveChatTranscript/5706P000001RXN...  LightningService   \n",
       "1  /lightning/r/LiveChatTranscript/5706P000001RXN...  LightningService   \n",
       "2  /lightning/r/LiveChatTranscript/5706P000001RXN...  LightningService   \n",
       "3  /lightning/r/LiveChatTranscript/5706P000000wJS...  LightningService   \n",
       "4  /lightning/r/Report/00O2R000004AmwmUAC/view?qu...  LightningService   \n",
       "\n",
       "  COMPONENT_NAME         TIMESTAMP_DERIVED     USER_ID_DERIVED  \\\n",
       "0            NaN  2022-06-28T01:14:59.497Z  0050b000004KCcnAAG   \n",
       "1            NaN  2022-06-28T01:14:59.502Z  0050b000004KCcnAAG   \n",
       "2            NaN  2022-06-28T01:14:59.504Z  0050b000004KCcnAAG   \n",
       "3            NaN  2022-06-28T01:15:09.829Z  0050b000004QTRmAAO   \n",
       "4            NaN  2022-06-28T01:17:00.510Z  0050b000004KM0qAAG   \n",
       "\n",
       "         CLIENT_IP            ReportId          ReportType  \n",
       "0  163.244.246.215  5706P000001RXN6QAO  LiveChatTranscript  \n",
       "1  163.244.246.215  5706P000001RXN6QAO  LiveChatTranscript  \n",
       "2  163.244.246.215  5706P000001RXN6QAO  LiveChatTranscript  \n",
       "3  143.166.255.115  5706P000000wJSFQA2  LiveChatTranscript  \n",
       "4   137.69.117.202  00O2R000004AmwmUAC              Report  \n",
       "\n",
       "[5 rows x 41 columns]"
      ]
     },
     "execution_count": 3,
     "metadata": {},
     "output_type": "execute_result"
    }
   ],
   "source": [
    "ltng_error_filtered.head()"
   ]
  },
  {
   "cell_type": "code",
   "execution_count": 4,
   "id": "35ec262a",
   "metadata": {},
   "outputs": [],
   "source": [
    "above_median_problematic_by_errors = pd.read_csv(\"../../datasets/above_median_problematic_by_errors.csv\", low_memory=False)"
   ]
  },
  {
   "cell_type": "code",
   "execution_count": 5,
   "id": "ac1eab8a",
   "metadata": {},
   "outputs": [
    {
     "data": {
      "text/html": [
       "<div>\n",
       "<style scoped>\n",
       "    .dataframe tbody tr th:only-of-type {\n",
       "        vertical-align: middle;\n",
       "    }\n",
       "\n",
       "    .dataframe tbody tr th {\n",
       "        vertical-align: top;\n",
       "    }\n",
       "\n",
       "    .dataframe thead th {\n",
       "        text-align: right;\n",
       "    }\n",
       "</style>\n",
       "<table border=\"1\" class=\"dataframe\">\n",
       "  <thead>\n",
       "    <tr style=\"text-align: right;\">\n",
       "      <th></th>\n",
       "      <th>ReportId</th>\n",
       "      <th>ErrorCount</th>\n",
       "    </tr>\n",
       "  </thead>\n",
       "  <tbody>\n",
       "    <tr>\n",
       "      <th>0</th>\n",
       "      <td>00O0b000004AmRrEAK</td>\n",
       "      <td>162</td>\n",
       "    </tr>\n",
       "    <tr>\n",
       "      <th>1</th>\n",
       "      <td>00O0b000004keC5EAI</td>\n",
       "      <td>25</td>\n",
       "    </tr>\n",
       "    <tr>\n",
       "      <th>2</th>\n",
       "      <td>00O0b000006iNwdEAE</td>\n",
       "      <td>18</td>\n",
       "    </tr>\n",
       "    <tr>\n",
       "      <th>3</th>\n",
       "      <td>00O2R000004AmwmUAC</td>\n",
       "      <td>9</td>\n",
       "    </tr>\n",
       "    <tr>\n",
       "      <th>4</th>\n",
       "      <td>00O0b000004AmRjEAK</td>\n",
       "      <td>6</td>\n",
       "    </tr>\n",
       "    <tr>\n",
       "      <th>5</th>\n",
       "      <td>00O0b000004AnhWEAS</td>\n",
       "      <td>5</td>\n",
       "    </tr>\n",
       "    <tr>\n",
       "      <th>6</th>\n",
       "      <td>00O0b000004kTazEAE</td>\n",
       "      <td>3</td>\n",
       "    </tr>\n",
       "    <tr>\n",
       "      <th>7</th>\n",
       "      <td>00O2R000004Im5MUAS</td>\n",
       "      <td>3</td>\n",
       "    </tr>\n",
       "    <tr>\n",
       "      <th>8</th>\n",
       "      <td>00O0b000004AoOOEA0</td>\n",
       "      <td>3</td>\n",
       "    </tr>\n",
       "  </tbody>\n",
       "</table>\n",
       "</div>"
      ],
      "text/plain": [
       "             ReportId  ErrorCount\n",
       "0  00O0b000004AmRrEAK         162\n",
       "1  00O0b000004keC5EAI          25\n",
       "2  00O0b000006iNwdEAE          18\n",
       "3  00O2R000004AmwmUAC           9\n",
       "4  00O0b000004AmRjEAK           6\n",
       "5  00O0b000004AnhWEAS           5\n",
       "6  00O0b000004kTazEAE           3\n",
       "7  00O2R000004Im5MUAS           3\n",
       "8  00O0b000004AoOOEA0           3"
      ]
     },
     "execution_count": 5,
     "metadata": {},
     "output_type": "execute_result"
    }
   ],
   "source": [
    "above_median_problematic_by_errors"
   ]
  },
  {
   "cell_type": "markdown",
   "id": "5784bbb0",
   "metadata": {},
   "source": [
    "### Loading active Reports\n"
   ]
  },
  {
   "cell_type": "code",
   "execution_count": 6,
   "id": "e55c194f",
   "metadata": {},
   "outputs": [],
   "source": [
    "active_reports = pd.read_csv(\"../../datasets/active_reports.csv\", low_memory=False)"
   ]
  },
  {
   "cell_type": "code",
   "execution_count": 7,
   "id": "196af514",
   "metadata": {},
   "outputs": [
    {
     "data": {
      "text/plain": [
       "(9479, 4)"
      ]
     },
     "execution_count": 7,
     "metadata": {},
     "output_type": "execute_result"
    }
   ],
   "source": [
    "active_reports.shape"
   ]
  },
  {
   "cell_type": "markdown",
   "id": "0e73c434",
   "metadata": {},
   "source": [
    "### Merging active and problematic reports by error"
   ]
  },
  {
   "cell_type": "code",
   "execution_count": 8,
   "id": "a1b6ad3b",
   "metadata": {},
   "outputs": [],
   "source": [
    "ltng_reports = pd.merge(left=active_reports, right=ltng_error_filtered, left_on=\"Id\", right_on=\"ReportId\")"
   ]
  },
  {
   "cell_type": "code",
   "execution_count": 9,
   "id": "5c9c650f",
   "metadata": {},
   "outputs": [
    {
     "data": {
      "text/plain": [
       "(245, 45)"
      ]
     },
     "execution_count": 9,
     "metadata": {},
     "output_type": "execute_result"
    }
   ],
   "source": [
    "ltng_reports.shape"
   ]
  },
  {
   "cell_type": "code",
   "execution_count": 10,
   "id": "89e135af",
   "metadata": {},
   "outputs": [
    {
     "data": {
      "text/plain": [
       "['Id',\n",
       " 'Name',\n",
       " 'Format',\n",
       " 'LastRunDate',\n",
       " 'EVENT_TYPE',\n",
       " 'TIMESTAMP',\n",
       " 'REQUEST_ID',\n",
       " 'ORGANIZATION_ID',\n",
       " 'USER_ID',\n",
       " 'CLIENT_ID',\n",
       " 'SESSION_KEY',\n",
       " 'LOGIN_KEY',\n",
       " 'USER_TYPE',\n",
       " 'APP_NAME',\n",
       " 'DEVICE_PLATFORM',\n",
       " 'SDK_APP_VERSION',\n",
       " 'OS_NAME',\n",
       " 'OS_VERSION',\n",
       " 'USER_AGENT',\n",
       " 'BROWSER_NAME',\n",
       " 'BROWSER_VERSION',\n",
       " 'SDK_VERSION',\n",
       " 'DEVICE_MODEL',\n",
       " 'DEVICE_ID',\n",
       " 'SDK_APP_TYPE',\n",
       " 'CLIENT_GEO',\n",
       " 'CONNECTION_TYPE',\n",
       " 'UI_EVENT_ID',\n",
       " 'UI_EVENT_TYPE',\n",
       " 'UI_EVENT_SOURCE',\n",
       " 'UI_EVENT_TIMESTAMP',\n",
       " 'PAGE_START_TIME',\n",
       " 'DEVICE_SESSION_ID',\n",
       " 'UI_EVENT_SEQUENCE_NUM',\n",
       " 'PAGE_ENTITY_ID',\n",
       " 'PAGE_ENTITY_TYPE',\n",
       " 'PAGE_CONTEXT',\n",
       " 'PAGE_URL',\n",
       " 'PAGE_APP_NAME',\n",
       " 'COMPONENT_NAME',\n",
       " 'TIMESTAMP_DERIVED',\n",
       " 'USER_ID_DERIVED',\n",
       " 'CLIENT_IP',\n",
       " 'ReportId',\n",
       " 'ReportType']"
      ]
     },
     "execution_count": 10,
     "metadata": {},
     "output_type": "execute_result"
    }
   ],
   "source": [
    "list(ltng_reports.columns)"
   ]
  },
  {
   "cell_type": "code",
   "execution_count": 11,
   "id": "21e746fe",
   "metadata": {},
   "outputs": [],
   "source": [
    "interest_columns = ['Name', 'ReportId', 'PAGE_URL', 'PAGE_CONTEXT', 'PAGE_ENTITY_TYPE', 'UI_EVENT_SOURCE', 'UI_EVENT_TYPE']"
   ]
  },
  {
   "cell_type": "code",
   "execution_count": 12,
   "id": "d47d1d5d",
   "metadata": {},
   "outputs": [],
   "source": [
    "ltng_reports = ltng_reports[interest_columns]"
   ]
  },
  {
   "cell_type": "code",
   "execution_count": 13,
   "id": "8acdf167",
   "metadata": {},
   "outputs": [],
   "source": [
    "problematics_id = list(above_median_problematic_by_errors['ReportId'])"
   ]
  },
  {
   "cell_type": "code",
   "execution_count": 14,
   "id": "4596947c",
   "metadata": {},
   "outputs": [],
   "source": [
    "ltng_reports_filtered = ltng_reports[ltng_reports['ReportId'].isin(problematics_id)]"
   ]
  },
  {
   "cell_type": "code",
   "execution_count": 15,
   "id": "af9e943f",
   "metadata": {},
   "outputs": [
    {
     "data": {
      "text/plain": [
       "(234, 7)"
      ]
     },
     "execution_count": 15,
     "metadata": {},
     "output_type": "execute_result"
    }
   ],
   "source": [
    "ltng_reports_filtered.shape"
   ]
  },
  {
   "cell_type": "code",
   "execution_count": 16,
   "id": "a6382454",
   "metadata": {
    "scrolled": true
   },
   "outputs": [
    {
     "data": {
      "text/html": [
       "<div>\n",
       "<style scoped>\n",
       "    .dataframe tbody tr th:only-of-type {\n",
       "        vertical-align: middle;\n",
       "    }\n",
       "\n",
       "    .dataframe tbody tr th {\n",
       "        vertical-align: top;\n",
       "    }\n",
       "\n",
       "    .dataframe thead th {\n",
       "        text-align: right;\n",
       "    }\n",
       "</style>\n",
       "<table border=\"1\" class=\"dataframe\">\n",
       "  <thead>\n",
       "    <tr style=\"text-align: right;\">\n",
       "      <th></th>\n",
       "      <th>Name</th>\n",
       "      <th>ReportId</th>\n",
       "      <th>PAGE_URL</th>\n",
       "      <th>PAGE_CONTEXT</th>\n",
       "      <th>PAGE_ENTITY_TYPE</th>\n",
       "      <th>UI_EVENT_SOURCE</th>\n",
       "      <th>UI_EVENT_TYPE</th>\n",
       "    </tr>\n",
       "  </thead>\n",
       "  <tbody>\n",
       "    <tr>\n",
       "      <th>0</th>\n",
       "      <td>S&amp;AS Reactive Queues</td>\n",
       "      <td>00O2R000004AmwmUAC</td>\n",
       "      <td>/lightning/r/Report/00O2R000004AmwmUAC/view?qu...</td>\n",
       "      <td>reports:reportBase</td>\n",
       "      <td>Report</td>\n",
       "      <td>Error</td>\n",
       "      <td>error</td>\n",
       "    </tr>\n",
       "    <tr>\n",
       "      <th>1</th>\n",
       "      <td>S&amp;AS Reactive Queues</td>\n",
       "      <td>00O2R000004AmwmUAC</td>\n",
       "      <td>/lightning/r/Report/00O2R000004AmwmUAC/view?qu...</td>\n",
       "      <td>reports:reportBase</td>\n",
       "      <td>Report</td>\n",
       "      <td>Error</td>\n",
       "      <td>error</td>\n",
       "    </tr>\n",
       "    <tr>\n",
       "      <th>2</th>\n",
       "      <td>S&amp;AS Reactive Queues</td>\n",
       "      <td>00O2R000004AmwmUAC</td>\n",
       "      <td>/lightning/r/Report/00O2R000004AmwmUAC/view</td>\n",
       "      <td>reports:reportBase</td>\n",
       "      <td>Report</td>\n",
       "      <td>Error</td>\n",
       "      <td>error</td>\n",
       "    </tr>\n",
       "    <tr>\n",
       "      <th>3</th>\n",
       "      <td>S&amp;AS Reactive Queues</td>\n",
       "      <td>00O2R000004AmwmUAC</td>\n",
       "      <td>/lightning/r/Report/00O2R000004AmwmUAC/view?qu...</td>\n",
       "      <td>reports:reportBase</td>\n",
       "      <td>Report</td>\n",
       "      <td>Error</td>\n",
       "      <td>error</td>\n",
       "    </tr>\n",
       "    <tr>\n",
       "      <th>4</th>\n",
       "      <td>S&amp;AS Reactive Queues</td>\n",
       "      <td>00O2R000004AmwmUAC</td>\n",
       "      <td>/lightning/r/Report/00O2R000004AmwmUAC/view?qu...</td>\n",
       "      <td>reports:reportBase</td>\n",
       "      <td>Report</td>\n",
       "      <td>unknown</td>\n",
       "      <td>error</td>\n",
       "    </tr>\n",
       "    <tr>\n",
       "      <th>...</th>\n",
       "      <td>...</td>\n",
       "      <td>...</td>\n",
       "      <td>...</td>\n",
       "      <td>...</td>\n",
       "      <td>...</td>\n",
       "      <td>...</td>\n",
       "      <td>...</td>\n",
       "    </tr>\n",
       "    <tr>\n",
       "      <th>239</th>\n",
       "      <td>SLA - Average Handle Time (Sept)</td>\n",
       "      <td>00O0b000004keC5EAI</td>\n",
       "      <td>/lightning/r/Report/00O0b000004keC5EAI/view?qu...</td>\n",
       "      <td>reports:reportBase</td>\n",
       "      <td>Report</td>\n",
       "      <td>Error</td>\n",
       "      <td>error</td>\n",
       "    </tr>\n",
       "    <tr>\n",
       "      <th>240</th>\n",
       "      <td>SLA - Average Handle Time (Sept)</td>\n",
       "      <td>00O0b000004keC5EAI</td>\n",
       "      <td>/lightning/r/Report/00O0b000004keC5EAI/view?qu...</td>\n",
       "      <td>reports:reportBase</td>\n",
       "      <td>Report</td>\n",
       "      <td>Error</td>\n",
       "      <td>error</td>\n",
       "    </tr>\n",
       "    <tr>\n",
       "      <th>241</th>\n",
       "      <td>SLA - Average Handle Time (Sept)</td>\n",
       "      <td>00O0b000004keC5EAI</td>\n",
       "      <td>/lightning/r/Report/00O0b000004keC5EAI/view?qu...</td>\n",
       "      <td>reports:reportBase</td>\n",
       "      <td>Report</td>\n",
       "      <td>Error</td>\n",
       "      <td>error</td>\n",
       "    </tr>\n",
       "    <tr>\n",
       "      <th>242</th>\n",
       "      <td>SLA - Average Handle Time (Sept)</td>\n",
       "      <td>00O0b000004keC5EAI</td>\n",
       "      <td>/lightning/r/Report/00O0b000004keC5EAI/view?qu...</td>\n",
       "      <td>reports:reportBase</td>\n",
       "      <td>Report</td>\n",
       "      <td>Error</td>\n",
       "      <td>error</td>\n",
       "    </tr>\n",
       "    <tr>\n",
       "      <th>243</th>\n",
       "      <td>SLA - Average Handle Time (Sept)</td>\n",
       "      <td>00O0b000004keC5EAI</td>\n",
       "      <td>/lightning/r/Report/00O0b000004keC5EAI/view?qu...</td>\n",
       "      <td>reports:reportBase</td>\n",
       "      <td>Report</td>\n",
       "      <td>Error</td>\n",
       "      <td>error</td>\n",
       "    </tr>\n",
       "  </tbody>\n",
       "</table>\n",
       "<p>234 rows × 7 columns</p>\n",
       "</div>"
      ],
      "text/plain": [
       "                                 Name            ReportId  \\\n",
       "0                S&AS Reactive Queues  00O2R000004AmwmUAC   \n",
       "1                S&AS Reactive Queues  00O2R000004AmwmUAC   \n",
       "2                S&AS Reactive Queues  00O2R000004AmwmUAC   \n",
       "3                S&AS Reactive Queues  00O2R000004AmwmUAC   \n",
       "4                S&AS Reactive Queues  00O2R000004AmwmUAC   \n",
       "..                                ...                 ...   \n",
       "239  SLA - Average Handle Time (Sept)  00O0b000004keC5EAI   \n",
       "240  SLA - Average Handle Time (Sept)  00O0b000004keC5EAI   \n",
       "241  SLA - Average Handle Time (Sept)  00O0b000004keC5EAI   \n",
       "242  SLA - Average Handle Time (Sept)  00O0b000004keC5EAI   \n",
       "243  SLA - Average Handle Time (Sept)  00O0b000004keC5EAI   \n",
       "\n",
       "                                              PAGE_URL        PAGE_CONTEXT  \\\n",
       "0    /lightning/r/Report/00O2R000004AmwmUAC/view?qu...  reports:reportBase   \n",
       "1    /lightning/r/Report/00O2R000004AmwmUAC/view?qu...  reports:reportBase   \n",
       "2          /lightning/r/Report/00O2R000004AmwmUAC/view  reports:reportBase   \n",
       "3    /lightning/r/Report/00O2R000004AmwmUAC/view?qu...  reports:reportBase   \n",
       "4    /lightning/r/Report/00O2R000004AmwmUAC/view?qu...  reports:reportBase   \n",
       "..                                                 ...                 ...   \n",
       "239  /lightning/r/Report/00O0b000004keC5EAI/view?qu...  reports:reportBase   \n",
       "240  /lightning/r/Report/00O0b000004keC5EAI/view?qu...  reports:reportBase   \n",
       "241  /lightning/r/Report/00O0b000004keC5EAI/view?qu...  reports:reportBase   \n",
       "242  /lightning/r/Report/00O0b000004keC5EAI/view?qu...  reports:reportBase   \n",
       "243  /lightning/r/Report/00O0b000004keC5EAI/view?qu...  reports:reportBase   \n",
       "\n",
       "    PAGE_ENTITY_TYPE UI_EVENT_SOURCE UI_EVENT_TYPE  \n",
       "0             Report           Error         error  \n",
       "1             Report           Error         error  \n",
       "2             Report           Error         error  \n",
       "3             Report           Error         error  \n",
       "4             Report         unknown         error  \n",
       "..               ...             ...           ...  \n",
       "239           Report           Error         error  \n",
       "240           Report           Error         error  \n",
       "241           Report           Error         error  \n",
       "242           Report           Error         error  \n",
       "243           Report           Error         error  \n",
       "\n",
       "[234 rows x 7 columns]"
      ]
     },
     "execution_count": 16,
     "metadata": {},
     "output_type": "execute_result"
    }
   ],
   "source": [
    "ltng_reports_filtered"
   ]
  },
  {
   "cell_type": "markdown",
   "id": "df51a9b9",
   "metadata": {},
   "source": [
    "### Listing the report and error types"
   ]
  },
  {
   "cell_type": "code",
   "execution_count": 17,
   "id": "0ae62488",
   "metadata": {},
   "outputs": [
    {
     "data": {
      "text/plain": [
       "array(['Report'], dtype=object)"
      ]
     },
     "execution_count": 17,
     "metadata": {},
     "output_type": "execute_result"
    }
   ],
   "source": [
    "ltng_reports_filtered['PAGE_ENTITY_TYPE'].unique()"
   ]
  },
  {
   "cell_type": "code",
   "execution_count": 18,
   "id": "3f5cd2fd",
   "metadata": {},
   "outputs": [
    {
     "data": {
      "text/plain": [
       "array(['Error', 'unknown', 'TypeError'], dtype=object)"
      ]
     },
     "execution_count": 18,
     "metadata": {},
     "output_type": "execute_result"
    }
   ],
   "source": [
    "ltng_reports_filtered['UI_EVENT_SOURCE'].unique()"
   ]
  },
  {
   "cell_type": "code",
   "execution_count": 19,
   "id": "a126ff70",
   "metadata": {},
   "outputs": [],
   "source": [
    "ltng_reports_filtered = ltng_reports_filtered.rename(columns={'Name': 'Report Name', 'PAGE_CONTEXT': 'UI Component', 'PAGE_ENTITY_TYPE': 'Report Type', 'UI_EVENT_SOURCE': 'Error Type'})"
   ]
  },
  {
   "cell_type": "code",
   "execution_count": 20,
   "id": "91ce7af0",
   "metadata": {},
   "outputs": [],
   "source": [
    "ltng_reports_group = ltng_reports_filtered.groupby(['Report Type', 'UI Component','Report Name', 'Error Type']).agg({'Error Type': 'count'})"
   ]
  },
  {
   "cell_type": "code",
   "execution_count": 21,
   "id": "453a6248",
   "metadata": {
    "scrolled": true
   },
   "outputs": [
    {
     "data": {
      "text/html": [
       "<div>\n",
       "<style scoped>\n",
       "    .dataframe tbody tr th:only-of-type {\n",
       "        vertical-align: middle;\n",
       "    }\n",
       "\n",
       "    .dataframe tbody tr th {\n",
       "        vertical-align: top;\n",
       "    }\n",
       "\n",
       "    .dataframe thead th {\n",
       "        text-align: right;\n",
       "    }\n",
       "</style>\n",
       "<table border=\"1\" class=\"dataframe\">\n",
       "  <thead>\n",
       "    <tr style=\"text-align: right;\">\n",
       "      <th></th>\n",
       "      <th></th>\n",
       "      <th></th>\n",
       "      <th></th>\n",
       "      <th>Error Count</th>\n",
       "    </tr>\n",
       "    <tr>\n",
       "      <th>Report Type</th>\n",
       "      <th>UI Component</th>\n",
       "      <th>Report Name</th>\n",
       "      <th>Error Type</th>\n",
       "      <th></th>\n",
       "    </tr>\n",
       "  </thead>\n",
       "  <tbody>\n",
       "    <tr>\n",
       "      <th rowspan=\"11\" valign=\"top\">Report</th>\n",
       "      <th rowspan=\"11\" valign=\"top\">reports:reportBase</th>\n",
       "      <th>Agent Work for Supervisor</th>\n",
       "      <th>Error</th>\n",
       "      <td>6</td>\n",
       "    </tr>\n",
       "    <tr>\n",
       "      <th>Average Chat Duration</th>\n",
       "      <th>Error</th>\n",
       "      <td>5</td>\n",
       "    </tr>\n",
       "    <tr>\n",
       "      <th rowspan=\"2\" valign=\"top\">Chat Average Handle Time</th>\n",
       "      <th>Error</th>\n",
       "      <td>161</td>\n",
       "    </tr>\n",
       "    <tr>\n",
       "      <th>TypeError</th>\n",
       "      <td>1</td>\n",
       "    </tr>\n",
       "    <tr>\n",
       "      <th>Chat SLA - Wait Time</th>\n",
       "      <th>Error</th>\n",
       "      <td>6</td>\n",
       "    </tr>\n",
       "    <tr>\n",
       "      <th>My Cases and Tasks</th>\n",
       "      <th>TypeError</th>\n",
       "      <td>3</td>\n",
       "    </tr>\n",
       "    <tr>\n",
       "      <th rowspan=\"2\" valign=\"top\">New Email By Team - w\\o Sup filter</th>\n",
       "      <th>Error</th>\n",
       "      <td>1</td>\n",
       "    </tr>\n",
       "    <tr>\n",
       "      <th>TypeError</th>\n",
       "      <td>17</td>\n",
       "    </tr>\n",
       "    <tr>\n",
       "      <th rowspan=\"2\" valign=\"top\">S&amp;AS Reactive Queues</th>\n",
       "      <th>Error</th>\n",
       "      <td>8</td>\n",
       "    </tr>\n",
       "    <tr>\n",
       "      <th>unknown</th>\n",
       "      <td>1</td>\n",
       "    </tr>\n",
       "    <tr>\n",
       "      <th>SLA - Average Handle Time (Sept)</th>\n",
       "      <th>Error</th>\n",
       "      <td>25</td>\n",
       "    </tr>\n",
       "  </tbody>\n",
       "</table>\n",
       "</div>"
      ],
      "text/plain": [
       "                                                                              Error Count\n",
       "Report Type UI Component       Report Name                        Error Type             \n",
       "Report      reports:reportBase Agent Work for Supervisor          Error                 6\n",
       "                               Average Chat Duration              Error                 5\n",
       "                               Chat Average Handle Time           Error               161\n",
       "                                                                  TypeError             1\n",
       "                               Chat SLA - Wait Time               Error                 6\n",
       "                               My Cases and Tasks                 TypeError             3\n",
       "                               New Email By Team - w\\o Sup filter Error                 1\n",
       "                                                                  TypeError            17\n",
       "                               S&AS Reactive Queues               Error                 8\n",
       "                                                                  unknown               1\n",
       "                               SLA - Average Handle Time (Sept)   Error                25"
      ]
     },
     "execution_count": 21,
     "metadata": {},
     "output_type": "execute_result"
    }
   ],
   "source": [
    "ltng_reports_group = ltng_reports_group.rename(columns={'Error Type': 'Error Count'})\n",
    "ltng_reports_group"
   ]
  },
  {
   "cell_type": "markdown",
   "id": "03169ed7",
   "metadata": {},
   "source": [
    "In this sample, all the values of PAGE_ENTITY_TYPE are 'Report', but we can confirm this by filtering the PAGE_URL"
   ]
  },
  {
   "cell_type": "code",
   "execution_count": 22,
   "id": "b9298183",
   "metadata": {},
   "outputs": [
    {
     "data": {
      "text/plain": [
       "array(['/lightning/r/Report/00O2R000004AmwmUAC/view?queryScope=userFolders',\n",
       "       '/lightning/r/Report/00O2R000004AmwmUAC/view',\n",
       "       '/lightning/r/Report/00O0b000006iNwdEAE/view?queryScope=userFolders',\n",
       "       '/lightning/r/Report/00O0b000006iNwdEAE/view',\n",
       "       '/lightning/r/Report/00O0b000004kTazEAE/view',\n",
       "       '/lightning/r/Report/00O0b000004AmRrEAK/view?queryScope=userFolders',\n",
       "       '/lightning/r/Report/00O0b000004AmRrEAK/view',\n",
       "       '/lightning/r/Report/00O0b000004AnhWEAS/view?queryScope=userFolders',\n",
       "       '/lightning/r/Report/00O0b000004AmRjEAK/view?queryScope=userFolders%27',\n",
       "       '/lightning/r/Report/00O0b000004AmRjEAK/view',\n",
       "       '/lightning/r/Report/00O2R000004Im5MUAS/view?queryScope=userFolders',\n",
       "       '/lightning/r/Report/00O0b000004AoOOEA0/view?queryScope=userFolders',\n",
       "       '/lightning/r/Report/00O0b000004keC5EAI/view?queryScope=userFolders'],\n",
       "      dtype=object)"
      ]
     },
     "execution_count": 22,
     "metadata": {},
     "output_type": "execute_result"
    }
   ],
   "source": [
    "ltng_reports_filtered['PAGE_URL'].unique()"
   ]
  },
  {
   "cell_type": "markdown",
   "id": "103c522a",
   "metadata": {},
   "source": [
    "## Analyzing Report Type from the Page Url"
   ]
  },
  {
   "cell_type": "code",
   "execution_count": 23,
   "id": "8ec59bd2",
   "metadata": {},
   "outputs": [],
   "source": [
    "import re\n",
    "\n",
    "pattern = re.compile(r'\\/lightning\\/r\\/(?P<report_type>[a-zA-Z]{4,})\\/(?P<report_id>[0-9a-zA-Z]{18})')\n",
    "\n",
    "def filter_run_report_endpoints(pattern, field, url):\n",
    "    m = re.match(pattern, url)\n",
    "    if m:\n",
    "        return m.group(field)"
   ]
  },
  {
   "cell_type": "code",
   "execution_count": 24,
   "id": "1ee3dbcb",
   "metadata": {},
   "outputs": [],
   "source": [
    "tmp = ltng_reports_filtered.copy()\n",
    "tmp.dropna(subset=[\"PAGE_URL\"], inplace=True)"
   ]
  },
  {
   "cell_type": "code",
   "execution_count": 25,
   "id": "7c3699f3",
   "metadata": {},
   "outputs": [],
   "source": [
    "tmp[\"ReportTypeURL\"] = tmp.PAGE_URL.apply(lambda url: filter_run_report_endpoints(pattern, \"report_type\", url))"
   ]
  },
  {
   "cell_type": "code",
   "execution_count": 26,
   "id": "816ca8d8",
   "metadata": {},
   "outputs": [
    {
     "data": {
      "text/html": [
       "<div>\n",
       "<style scoped>\n",
       "    .dataframe tbody tr th:only-of-type {\n",
       "        vertical-align: middle;\n",
       "    }\n",
       "\n",
       "    .dataframe tbody tr th {\n",
       "        vertical-align: top;\n",
       "    }\n",
       "\n",
       "    .dataframe thead th {\n",
       "        text-align: right;\n",
       "    }\n",
       "</style>\n",
       "<table border=\"1\" class=\"dataframe\">\n",
       "  <thead>\n",
       "    <tr style=\"text-align: right;\">\n",
       "      <th></th>\n",
       "      <th>ReportTypeURL</th>\n",
       "    </tr>\n",
       "    <tr>\n",
       "      <th>ReportTypeURL</th>\n",
       "      <th></th>\n",
       "    </tr>\n",
       "  </thead>\n",
       "  <tbody>\n",
       "    <tr>\n",
       "      <th>Report</th>\n",
       "      <td>234</td>\n",
       "    </tr>\n",
       "  </tbody>\n",
       "</table>\n",
       "</div>"
      ],
      "text/plain": [
       "               ReportTypeURL\n",
       "ReportTypeURL               \n",
       "Report                   234"
      ]
     },
     "execution_count": 26,
     "metadata": {},
     "output_type": "execute_result"
    }
   ],
   "source": [
    "tmp_group = tmp.groupby('ReportTypeURL').agg({'ReportTypeURL': 'count'})\n",
    "tmp_group"
   ]
  },
  {
   "cell_type": "code",
   "execution_count": 27,
   "id": "316a1d09",
   "metadata": {},
   "outputs": [],
   "source": [
    "list_report_type = tmp.ReportTypeURL.unique()\n",
    "list_count_report_type = tmp_group.ReportTypeURL.head().tolist()"
   ]
  },
  {
   "cell_type": "code",
   "execution_count": 28,
   "id": "3b6ff161",
   "metadata": {},
   "outputs": [
    {
     "data": {
      "image/png": "[encoded data removed]",
      "text/plain": [
       "<Figure size 432x432 with 1 Axes>"
      ]
     },
     "metadata": {},
     "output_type": "display_data"
    }
   ],
   "source": [
    "cmap = plt.get_cmap(\"tab20c\")\n",
    "outer_colors = cmap(np.arange(len(list_report_type))*2)\n",
    "wp = { 'linewidth' : 1, 'edgecolor' : \"white\" }\n",
    "\n",
    "def func(pct, allvalues): \n",
    "    absolute = pct / 100.0*np.sum(allvalues) \n",
    "    return \"{:.1f}%\\n({:.1f})\".format(pct, absolute)\n",
    "fig, ax = plt.subplots(figsize =(6, 6))\n",
    "\n",
    "wedges, texts, autotexts = ax.pie(list_count_report_type,  \n",
    "                                  autopct = lambda pct: func(pct, list_count_report_type),\n",
    "                                  shadow = True, \n",
    "                                  colors = outer_colors,\n",
    "                                  startangle = 90, \n",
    "                                  wedgeprops = wp, \n",
    "                                  textprops = dict(color =\"black\"))\n",
    "\n",
    "ax.legend(wedges, list_report_type, \n",
    "          title =\"Report Type\", \n",
    "          loc =\"center left\", \n",
    "          bbox_to_anchor =(1, 0, 0.5, 1))\n",
    "\n",
    "plt.setp(autotexts, size = 10, weight =\"bold\") \n",
    "ax.set_title(\"Report Types\", size = 16, weight =\"bold\")\n",
    "plt.show()"
   ]
  },
  {
   "cell_type": "markdown",
   "id": "43940e67",
   "metadata": {},
   "source": [
    "### Regarding this dataset, all the Report Types are the type \"Report\"."
   ]
  }
 ],
 "metadata": {
  "kernelspec": {
   "display_name": "Python 3 (ipykernel)",
   "language": "python",
   "name": "python3"
  },
  "language_info": {
   "codemirror_mode": {
    "name": "ipython",
    "version": 3
   },
   "file_extension": ".py",
   "mimetype": "text/x-python",
   "name": "python",
   "nbconvert_exporter": "python",
   "pygments_lexer": "ipython3",
   "version": "3.9.12"
  }
 },
 "nbformat": 4,
 "nbformat_minor": 5
}

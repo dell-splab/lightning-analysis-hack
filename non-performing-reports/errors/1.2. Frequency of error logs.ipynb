{
 "cells": [
  {
   "cell_type": "markdown",
   "id": "31d97192",
   "metadata": {},
   "source": [
    "# Frequency of error logs\n",
    "\n",
    "Questions being answered in this notebook.\n",
    ">- [x] Frequency of error logs by *COMPONENT_NAME*\n",
    ">- [x] Frequency of error logs by *PAGE_ENTITY_TYPE*\n",
    ">- [x] Frequency of error logs by *PAGE_URL*"
   ]
  },
  {
   "cell_type": "code",
   "execution_count": 84,
   "id": "da49da09",
   "metadata": {},
   "outputs": [],
   "source": [
    "import pandas as pd"
   ]
  },
  {
   "cell_type": "markdown",
   "id": "b3d20d03",
   "metadata": {},
   "source": [
    "## Loading error datasets"
   ]
  },
  {
   "cell_type": "code",
   "execution_count": 85,
   "id": "c0635567",
   "metadata": {},
   "outputs": [],
   "source": [
    "ltng_error_filtered = pd.read_csv(\"../../datasets/ltng_error_filtered.csv\", low_memory=False)"
   ]
  },
  {
   "cell_type": "code",
   "execution_count": 86,
   "id": "e78b23a4",
   "metadata": {},
   "outputs": [
    {
     "data": {
      "text/html": [
       "<div>\n",
       "<style scoped>\n",
       "    .dataframe tbody tr th:only-of-type {\n",
       "        vertical-align: middle;\n",
       "    }\n",
       "\n",
       "    .dataframe tbody tr th {\n",
       "        vertical-align: top;\n",
       "    }\n",
       "\n",
       "    .dataframe thead th {\n",
       "        text-align: right;\n",
       "    }\n",
       "</style>\n",
       "<table border=\"1\" class=\"dataframe\">\n",
       "  <thead>\n",
       "    <tr style=\"text-align: right;\">\n",
       "      <th></th>\n",
       "      <th>CLIENT_GEO</th>\n",
       "      <th>PAGE_URL</th>\n",
       "      <th>PAGE_CONTEXT</th>\n",
       "      <th>PAGE_ENTITY_TYPE</th>\n",
       "      <th>TIMESTAMP</th>\n",
       "      <th>TIMESTAMP_DERIVED</th>\n",
       "      <th>UI_EVENT_SOURCE</th>\n",
       "      <th>UI_EVENT_TYPE</th>\n",
       "      <th>USER_AGENT</th>\n",
       "      <th>COMPONENT_NAME</th>\n",
       "      <th>REPORT_ID_DERIVED</th>\n",
       "    </tr>\n",
       "  </thead>\n",
       "  <tbody>\n",
       "    <tr>\n",
       "      <th>0</th>\n",
       "      <td>China/Fujian</td>\n",
       "      <td>/lightning/r/LiveChatTranscript/5706P000001RXN...</td>\n",
       "      <td>one:recordHomeFlexipage</td>\n",
       "      <td>LiveChatTranscript</td>\n",
       "      <td>2.022063e+13</td>\n",
       "      <td>2022-06-28T01:14:59.497Z</td>\n",
       "      <td>Error</td>\n",
       "      <td>error</td>\n",
       "      <td>\"Mozilla/5.0 (Windows NT 10.0; Win64; x64) App...</td>\n",
       "      <td>NaN</td>\n",
       "      <td>5706P000001RXN6QAO</td>\n",
       "    </tr>\n",
       "    <tr>\n",
       "      <th>1</th>\n",
       "      <td>China/Fujian</td>\n",
       "      <td>/lightning/r/LiveChatTranscript/5706P000001RXN...</td>\n",
       "      <td>one:recordHomeFlexipage</td>\n",
       "      <td>LiveChatTranscript</td>\n",
       "      <td>2.022063e+13</td>\n",
       "      <td>2022-06-28T01:14:59.502Z</td>\n",
       "      <td>Error</td>\n",
       "      <td>error</td>\n",
       "      <td>\"Mozilla/5.0 (Windows NT 10.0; Win64; x64) App...</td>\n",
       "      <td>NaN</td>\n",
       "      <td>5706P000001RXN6QAO</td>\n",
       "    </tr>\n",
       "    <tr>\n",
       "      <th>2</th>\n",
       "      <td>China/Fujian</td>\n",
       "      <td>/lightning/r/LiveChatTranscript/5706P000001RXN...</td>\n",
       "      <td>one:recordHomeFlexipage</td>\n",
       "      <td>LiveChatTranscript</td>\n",
       "      <td>2.022063e+13</td>\n",
       "      <td>2022-06-28T01:14:59.504Z</td>\n",
       "      <td>Error</td>\n",
       "      <td>error</td>\n",
       "      <td>\"Mozilla/5.0 (Windows NT 10.0; Win64; x64) App...</td>\n",
       "      <td>NaN</td>\n",
       "      <td>5706P000001RXN6QAO</td>\n",
       "    </tr>\n",
       "    <tr>\n",
       "      <th>3</th>\n",
       "      <td>United States/Texas</td>\n",
       "      <td>/lightning/r/LiveChatTranscript/5706P000000wJS...</td>\n",
       "      <td>one:recordHomeFlexipage</td>\n",
       "      <td>LiveChatTranscript</td>\n",
       "      <td>2.022063e+13</td>\n",
       "      <td>2022-06-28T01:15:09.829Z</td>\n",
       "      <td>TypeError</td>\n",
       "      <td>error</td>\n",
       "      <td>\"Mozilla/5.0 (Windows NT 10.0; Win64; x64) App...</td>\n",
       "      <td>NaN</td>\n",
       "      <td>5706P000000wJSFQA2</td>\n",
       "    </tr>\n",
       "    <tr>\n",
       "      <th>4</th>\n",
       "      <td>United States/Utah</td>\n",
       "      <td>/lightning/r/Report/00O2R000004AmwmUAC/view?qu...</td>\n",
       "      <td>reports:reportBase</td>\n",
       "      <td>Report</td>\n",
       "      <td>2.022063e+13</td>\n",
       "      <td>2022-06-28T01:17:00.510Z</td>\n",
       "      <td>Error</td>\n",
       "      <td>error</td>\n",
       "      <td>\"Mozilla/5.0 (Windows NT 10.0; Win64; x64) App...</td>\n",
       "      <td>NaN</td>\n",
       "      <td>00O2R000004AmwmUAC</td>\n",
       "    </tr>\n",
       "  </tbody>\n",
       "</table>\n",
       "</div>"
      ],
      "text/plain": [
       "            CLIENT_GEO                                           PAGE_URL  \\\n",
       "0         China/Fujian  /lightning/r/LiveChatTranscript/5706P000001RXN...   \n",
       "1         China/Fujian  /lightning/r/LiveChatTranscript/5706P000001RXN...   \n",
       "2         China/Fujian  /lightning/r/LiveChatTranscript/5706P000001RXN...   \n",
       "3  United States/Texas  /lightning/r/LiveChatTranscript/5706P000000wJS...   \n",
       "4   United States/Utah  /lightning/r/Report/00O2R000004AmwmUAC/view?qu...   \n",
       "\n",
       "              PAGE_CONTEXT    PAGE_ENTITY_TYPE     TIMESTAMP  \\\n",
       "0  one:recordHomeFlexipage  LiveChatTranscript  2.022063e+13   \n",
       "1  one:recordHomeFlexipage  LiveChatTranscript  2.022063e+13   \n",
       "2  one:recordHomeFlexipage  LiveChatTranscript  2.022063e+13   \n",
       "3  one:recordHomeFlexipage  LiveChatTranscript  2.022063e+13   \n",
       "4       reports:reportBase              Report  2.022063e+13   \n",
       "\n",
       "          TIMESTAMP_DERIVED UI_EVENT_SOURCE UI_EVENT_TYPE  \\\n",
       "0  2022-06-28T01:14:59.497Z           Error         error   \n",
       "1  2022-06-28T01:14:59.502Z           Error         error   \n",
       "2  2022-06-28T01:14:59.504Z           Error         error   \n",
       "3  2022-06-28T01:15:09.829Z       TypeError         error   \n",
       "4  2022-06-28T01:17:00.510Z           Error         error   \n",
       "\n",
       "                                          USER_AGENT  COMPONENT_NAME  \\\n",
       "0  \"Mozilla/5.0 (Windows NT 10.0; Win64; x64) App...             NaN   \n",
       "1  \"Mozilla/5.0 (Windows NT 10.0; Win64; x64) App...             NaN   \n",
       "2  \"Mozilla/5.0 (Windows NT 10.0; Win64; x64) App...             NaN   \n",
       "3  \"Mozilla/5.0 (Windows NT 10.0; Win64; x64) App...             NaN   \n",
       "4  \"Mozilla/5.0 (Windows NT 10.0; Win64; x64) App...             NaN   \n",
       "\n",
       "    REPORT_ID_DERIVED  \n",
       "0  5706P000001RXN6QAO  \n",
       "1  5706P000001RXN6QAO  \n",
       "2  5706P000001RXN6QAO  \n",
       "3  5706P000000wJSFQA2  \n",
       "4  00O2R000004AmwmUAC  "
      ]
     },
     "execution_count": 86,
     "metadata": {},
     "output_type": "execute_result"
    }
   ],
   "source": [
    "ltng_error_filtered.head()"
   ]
  },
  {
   "cell_type": "code",
   "execution_count": 87,
   "id": "2d039dec",
   "metadata": {},
   "outputs": [],
   "source": [
    "top_five_problematic_by_errors = pd.read_csv(\"../../datasets/top_five_problematic_by_errors.csv\", low_memory=False)"
   ]
  },
  {
   "cell_type": "code",
   "execution_count": 88,
   "id": "a7ff21eb",
   "metadata": {},
   "outputs": [
    {
     "data": {
      "text/html": [
       "<div>\n",
       "<style scoped>\n",
       "    .dataframe tbody tr th:only-of-type {\n",
       "        vertical-align: middle;\n",
       "    }\n",
       "\n",
       "    .dataframe tbody tr th {\n",
       "        vertical-align: top;\n",
       "    }\n",
       "\n",
       "    .dataframe thead th {\n",
       "        text-align: right;\n",
       "    }\n",
       "</style>\n",
       "<table border=\"1\" class=\"dataframe\">\n",
       "  <thead>\n",
       "    <tr style=\"text-align: right;\">\n",
       "      <th></th>\n",
       "      <th>ReportId</th>\n",
       "      <th>ErrorCount</th>\n",
       "    </tr>\n",
       "  </thead>\n",
       "  <tbody>\n",
       "    <tr>\n",
       "      <th>0</th>\n",
       "      <td>00O0b000004AmRrEAK</td>\n",
       "      <td>162</td>\n",
       "    </tr>\n",
       "    <tr>\n",
       "      <th>1</th>\n",
       "      <td>00O0b000004keC5EAI</td>\n",
       "      <td>25</td>\n",
       "    </tr>\n",
       "    <tr>\n",
       "      <th>2</th>\n",
       "      <td>00O0b000006iNwdEAE</td>\n",
       "      <td>18</td>\n",
       "    </tr>\n",
       "    <tr>\n",
       "      <th>3</th>\n",
       "      <td>00O2R000004AmwmUAC</td>\n",
       "      <td>9</td>\n",
       "    </tr>\n",
       "    <tr>\n",
       "      <th>4</th>\n",
       "      <td>00O0b000004AmRjEAK</td>\n",
       "      <td>6</td>\n",
       "    </tr>\n",
       "  </tbody>\n",
       "</table>\n",
       "</div>"
      ],
      "text/plain": [
       "             ReportId  ErrorCount\n",
       "0  00O0b000004AmRrEAK         162\n",
       "1  00O0b000004keC5EAI          25\n",
       "2  00O0b000006iNwdEAE          18\n",
       "3  00O2R000004AmwmUAC           9\n",
       "4  00O0b000004AmRjEAK           6"
      ]
     },
     "execution_count": 88,
     "metadata": {},
     "output_type": "execute_result"
    }
   ],
   "source": [
    "top_five_problematic_by_errors"
   ]
  },
  {
   "cell_type": "code",
   "execution_count": 89,
   "id": "2ba2f660",
   "metadata": {},
   "outputs": [],
   "source": [
    "above_median_problematic_by_errors = pd.read_csv(\"../../datasets/above_median_problematic_by_errors.csv\", low_memory=False)"
   ]
  },
  {
   "cell_type": "code",
   "execution_count": 90,
   "id": "d2af9452",
   "metadata": {},
   "outputs": [
    {
     "data": {
      "text/html": [
       "<div>\n",
       "<style scoped>\n",
       "    .dataframe tbody tr th:only-of-type {\n",
       "        vertical-align: middle;\n",
       "    }\n",
       "\n",
       "    .dataframe tbody tr th {\n",
       "        vertical-align: top;\n",
       "    }\n",
       "\n",
       "    .dataframe thead th {\n",
       "        text-align: right;\n",
       "    }\n",
       "</style>\n",
       "<table border=\"1\" class=\"dataframe\">\n",
       "  <thead>\n",
       "    <tr style=\"text-align: right;\">\n",
       "      <th></th>\n",
       "      <th>ReportId</th>\n",
       "      <th>ErrorCount</th>\n",
       "    </tr>\n",
       "  </thead>\n",
       "  <tbody>\n",
       "    <tr>\n",
       "      <th>0</th>\n",
       "      <td>00O0b000004AmRrEAK</td>\n",
       "      <td>162</td>\n",
       "    </tr>\n",
       "    <tr>\n",
       "      <th>1</th>\n",
       "      <td>00O0b000004keC5EAI</td>\n",
       "      <td>25</td>\n",
       "    </tr>\n",
       "    <tr>\n",
       "      <th>2</th>\n",
       "      <td>00O0b000006iNwdEAE</td>\n",
       "      <td>18</td>\n",
       "    </tr>\n",
       "    <tr>\n",
       "      <th>3</th>\n",
       "      <td>00O2R000004AmwmUAC</td>\n",
       "      <td>9</td>\n",
       "    </tr>\n",
       "    <tr>\n",
       "      <th>4</th>\n",
       "      <td>00O0b000004AmRjEAK</td>\n",
       "      <td>6</td>\n",
       "    </tr>\n",
       "    <tr>\n",
       "      <th>5</th>\n",
       "      <td>00O0b000004AnhWEAS</td>\n",
       "      <td>5</td>\n",
       "    </tr>\n",
       "    <tr>\n",
       "      <th>6</th>\n",
       "      <td>00O0b000004kTazEAE</td>\n",
       "      <td>3</td>\n",
       "    </tr>\n",
       "    <tr>\n",
       "      <th>7</th>\n",
       "      <td>00O2R000004Im5MUAS</td>\n",
       "      <td>3</td>\n",
       "    </tr>\n",
       "    <tr>\n",
       "      <th>8</th>\n",
       "      <td>00O0b000004AoOOEA0</td>\n",
       "      <td>3</td>\n",
       "    </tr>\n",
       "  </tbody>\n",
       "</table>\n",
       "</div>"
      ],
      "text/plain": [
       "             ReportId  ErrorCount\n",
       "0  00O0b000004AmRrEAK         162\n",
       "1  00O0b000004keC5EAI          25\n",
       "2  00O0b000006iNwdEAE          18\n",
       "3  00O2R000004AmwmUAC           9\n",
       "4  00O0b000004AmRjEAK           6\n",
       "5  00O0b000004AnhWEAS           5\n",
       "6  00O0b000004kTazEAE           3\n",
       "7  00O2R000004Im5MUAS           3\n",
       "8  00O0b000004AoOOEA0           3"
      ]
     },
     "execution_count": 90,
     "metadata": {},
     "output_type": "execute_result"
    }
   ],
   "source": [
    "above_median_problematic_by_errors"
   ]
  },
  {
   "cell_type": "markdown",
   "id": "40cfef13",
   "metadata": {},
   "source": [
    "## Loading active reports"
   ]
  },
  {
   "cell_type": "code",
   "execution_count": 91,
   "id": "fa0eff15",
   "metadata": {},
   "outputs": [],
   "source": [
    "active_reports = pd.read_csv(\"../../datasets/active_reports.csv\", low_memory=False)"
   ]
  },
  {
   "cell_type": "code",
   "execution_count": 92,
   "id": "8cca4f41",
   "metadata": {},
   "outputs": [
    {
     "data": {
      "text/plain": [
       "(9479, 4)"
      ]
     },
     "execution_count": 92,
     "metadata": {},
     "output_type": "execute_result"
    }
   ],
   "source": [
    "active_reports.shape"
   ]
  },
  {
   "cell_type": "markdown",
   "id": "2cd4fa2c",
   "metadata": {},
   "source": [
    "## Merging active and problematic reports by error"
   ]
  },
  {
   "cell_type": "code",
   "execution_count": 93,
   "id": "c2c5f724",
   "metadata": {},
   "outputs": [],
   "source": [
    "ltng_reports = pd.merge(left=active_reports, right=ltng_error_filtered, left_on=\"Id\", right_on=\"REPORT_ID_DERIVED\")"
   ]
  },
  {
   "cell_type": "code",
   "execution_count": 94,
   "id": "bb05346e",
   "metadata": {},
   "outputs": [
    {
     "data": {
      "text/plain": [
       "(245, 15)"
      ]
     },
     "execution_count": 94,
     "metadata": {},
     "output_type": "execute_result"
    }
   ],
   "source": [
    "ltng_reports.shape"
   ]
  },
  {
   "cell_type": "code",
   "execution_count": 95,
   "id": "a247e6e5",
   "metadata": {},
   "outputs": [
    {
     "data": {
      "text/plain": [
       "['Id',\n",
       " 'Name',\n",
       " 'Format',\n",
       " 'LastRunDate',\n",
       " 'CLIENT_GEO',\n",
       " 'PAGE_URL',\n",
       " 'PAGE_CONTEXT',\n",
       " 'PAGE_ENTITY_TYPE',\n",
       " 'TIMESTAMP',\n",
       " 'TIMESTAMP_DERIVED',\n",
       " 'UI_EVENT_SOURCE',\n",
       " 'UI_EVENT_TYPE',\n",
       " 'USER_AGENT',\n",
       " 'COMPONENT_NAME',\n",
       " 'REPORT_ID_DERIVED']"
      ]
     },
     "execution_count": 95,
     "metadata": {},
     "output_type": "execute_result"
    }
   ],
   "source": [
    "list(ltng_reports.columns)"
   ]
  },
  {
   "cell_type": "code",
   "execution_count": 96,
   "id": "045799da",
   "metadata": {},
   "outputs": [],
   "source": [
    "interest_columns = ['Name', 'REPORT_ID_DERIVED', 'PAGE_URL', 'PAGE_CONTEXT', 'PAGE_ENTITY_TYPE', 'UI_EVENT_SOURCE', 'UI_EVENT_TYPE', 'COMPONENT_NAME']"
   ]
  },
  {
   "cell_type": "code",
   "execution_count": 97,
   "id": "c6ab80e4",
   "metadata": {},
   "outputs": [],
   "source": [
    "ltng_reports = ltng_reports[interest_columns]"
   ]
  },
  {
   "cell_type": "markdown",
   "id": "3839818e",
   "metadata": {},
   "source": [
    "Filtering by top reports"
   ]
  },
  {
   "cell_type": "code",
   "execution_count": 98,
   "id": "10f07f14",
   "metadata": {},
   "outputs": [],
   "source": [
    "top_five_report_id = list(top_five_problematic_by_errors['ReportId'])"
   ]
  },
  {
   "cell_type": "code",
   "execution_count": 99,
   "id": "c026405c",
   "metadata": {},
   "outputs": [],
   "source": [
    "ltng_reports_filtered = ltng_reports[ltng_reports['REPORT_ID_DERIVED'].isin(top_five_report_id)]"
   ]
  },
  {
   "cell_type": "code",
   "execution_count": 100,
   "id": "28980aa4",
   "metadata": {},
   "outputs": [
    {
     "data": {
      "text/plain": [
       "(220, 8)"
      ]
     },
     "execution_count": 100,
     "metadata": {},
     "output_type": "execute_result"
    }
   ],
   "source": [
    "ltng_reports_filtered.shape"
   ]
  },
  {
   "cell_type": "markdown",
   "id": "ea99d278",
   "metadata": {},
   "source": [
    "## Analyzing Errors"
   ]
  },
  {
   "cell_type": "code",
   "execution_count": 101,
   "id": "7d8c5964",
   "metadata": {
    "scrolled": true
   },
   "outputs": [
    {
     "data": {
      "text/html": [
       "<div>\n",
       "<style scoped>\n",
       "    .dataframe tbody tr th:only-of-type {\n",
       "        vertical-align: middle;\n",
       "    }\n",
       "\n",
       "    .dataframe tbody tr th {\n",
       "        vertical-align: top;\n",
       "    }\n",
       "\n",
       "    .dataframe thead th {\n",
       "        text-align: right;\n",
       "    }\n",
       "</style>\n",
       "<table border=\"1\" class=\"dataframe\">\n",
       "  <thead>\n",
       "    <tr style=\"text-align: right;\">\n",
       "      <th></th>\n",
       "      <th>Name</th>\n",
       "      <th>REPORT_ID_DERIVED</th>\n",
       "      <th>PAGE_URL</th>\n",
       "      <th>PAGE_CONTEXT</th>\n",
       "      <th>PAGE_ENTITY_TYPE</th>\n",
       "      <th>UI_EVENT_SOURCE</th>\n",
       "      <th>UI_EVENT_TYPE</th>\n",
       "      <th>COMPONENT_NAME</th>\n",
       "    </tr>\n",
       "  </thead>\n",
       "  <tbody>\n",
       "    <tr>\n",
       "      <th>0</th>\n",
       "      <td>S&amp;AS Reactive Queues</td>\n",
       "      <td>00O2R000004AmwmUAC</td>\n",
       "      <td>/lightning/r/Report/00O2R000004AmwmUAC/view?qu...</td>\n",
       "      <td>reports:reportBase</td>\n",
       "      <td>Report</td>\n",
       "      <td>Error</td>\n",
       "      <td>error</td>\n",
       "      <td>NaN</td>\n",
       "    </tr>\n",
       "    <tr>\n",
       "      <th>1</th>\n",
       "      <td>S&amp;AS Reactive Queues</td>\n",
       "      <td>00O2R000004AmwmUAC</td>\n",
       "      <td>/lightning/r/Report/00O2R000004AmwmUAC/view?qu...</td>\n",
       "      <td>reports:reportBase</td>\n",
       "      <td>Report</td>\n",
       "      <td>Error</td>\n",
       "      <td>error</td>\n",
       "      <td>NaN</td>\n",
       "    </tr>\n",
       "    <tr>\n",
       "      <th>2</th>\n",
       "      <td>S&amp;AS Reactive Queues</td>\n",
       "      <td>00O2R000004AmwmUAC</td>\n",
       "      <td>/lightning/r/Report/00O2R000004AmwmUAC/view</td>\n",
       "      <td>reports:reportBase</td>\n",
       "      <td>Report</td>\n",
       "      <td>Error</td>\n",
       "      <td>error</td>\n",
       "      <td>NaN</td>\n",
       "    </tr>\n",
       "    <tr>\n",
       "      <th>3</th>\n",
       "      <td>S&amp;AS Reactive Queues</td>\n",
       "      <td>00O2R000004AmwmUAC</td>\n",
       "      <td>/lightning/r/Report/00O2R000004AmwmUAC/view?qu...</td>\n",
       "      <td>reports:reportBase</td>\n",
       "      <td>Report</td>\n",
       "      <td>Error</td>\n",
       "      <td>error</td>\n",
       "      <td>NaN</td>\n",
       "    </tr>\n",
       "    <tr>\n",
       "      <th>4</th>\n",
       "      <td>S&amp;AS Reactive Queues</td>\n",
       "      <td>00O2R000004AmwmUAC</td>\n",
       "      <td>/lightning/r/Report/00O2R000004AmwmUAC/view?qu...</td>\n",
       "      <td>reports:reportBase</td>\n",
       "      <td>Report</td>\n",
       "      <td>unknown</td>\n",
       "      <td>error</td>\n",
       "      <td>NaN</td>\n",
       "    </tr>\n",
       "  </tbody>\n",
       "</table>\n",
       "</div>"
      ],
      "text/plain": [
       "                   Name   REPORT_ID_DERIVED  \\\n",
       "0  S&AS Reactive Queues  00O2R000004AmwmUAC   \n",
       "1  S&AS Reactive Queues  00O2R000004AmwmUAC   \n",
       "2  S&AS Reactive Queues  00O2R000004AmwmUAC   \n",
       "3  S&AS Reactive Queues  00O2R000004AmwmUAC   \n",
       "4  S&AS Reactive Queues  00O2R000004AmwmUAC   \n",
       "\n",
       "                                            PAGE_URL        PAGE_CONTEXT  \\\n",
       "0  /lightning/r/Report/00O2R000004AmwmUAC/view?qu...  reports:reportBase   \n",
       "1  /lightning/r/Report/00O2R000004AmwmUAC/view?qu...  reports:reportBase   \n",
       "2        /lightning/r/Report/00O2R000004AmwmUAC/view  reports:reportBase   \n",
       "3  /lightning/r/Report/00O2R000004AmwmUAC/view?qu...  reports:reportBase   \n",
       "4  /lightning/r/Report/00O2R000004AmwmUAC/view?qu...  reports:reportBase   \n",
       "\n",
       "  PAGE_ENTITY_TYPE UI_EVENT_SOURCE UI_EVENT_TYPE  COMPONENT_NAME  \n",
       "0           Report           Error         error             NaN  \n",
       "1           Report           Error         error             NaN  \n",
       "2           Report           Error         error             NaN  \n",
       "3           Report           Error         error             NaN  \n",
       "4           Report         unknown         error             NaN  "
      ]
     },
     "execution_count": 101,
     "metadata": {},
     "output_type": "execute_result"
    }
   ],
   "source": [
    "ltng_reports.head()"
   ]
  },
  {
   "cell_type": "markdown",
   "id": "55a027a9",
   "metadata": {},
   "source": [
    "### by *COMPONENT_NAME*"
   ]
  },
  {
   "cell_type": "code",
   "execution_count": 102,
   "id": "4a9b74d3",
   "metadata": {},
   "outputs": [
    {
     "data": {
      "text/plain": [
       "array([nan])"
      ]
     },
     "execution_count": 102,
     "metadata": {},
     "output_type": "execute_result"
    }
   ],
   "source": [
    "ltng_reports['COMPONENT_NAME'].unique()"
   ]
  },
  {
   "cell_type": "markdown",
   "id": "1bb157d0",
   "metadata": {},
   "source": [
    "> Looking at the component name column we have only null results"
   ]
  },
  {
   "cell_type": "markdown",
   "id": "80df313c",
   "metadata": {},
   "source": [
    "### by *PAGE_ENTITY_TYPE* "
   ]
  },
  {
   "cell_type": "code",
   "execution_count": 103,
   "id": "a686adac",
   "metadata": {},
   "outputs": [
    {
     "data": {
      "text/plain": [
       "array(['Report'], dtype=object)"
      ]
     },
     "execution_count": 103,
     "metadata": {},
     "output_type": "execute_result"
    }
   ],
   "source": [
    "ltng_reports['PAGE_ENTITY_TYPE'].unique()"
   ]
  },
  {
   "cell_type": "markdown",
   "id": "d2fac8df",
   "metadata": {},
   "source": [
    "> Looking at the page entity type column we have only one result **'Report'**"
   ]
  },
  {
   "cell_type": "markdown",
   "id": "66959d6a",
   "metadata": {},
   "source": [
    "### by *PAGE_URL* "
   ]
  },
  {
   "cell_type": "code",
   "execution_count": 104,
   "id": "536d3a10",
   "metadata": {},
   "outputs": [
    {
     "data": {
      "text/plain": [
       "array(['/lightning/r/Report/00O2R000004AmwmUAC/view?queryScope=userFolders',\n",
       "       '/lightning/r/Report/00O2R000004AmwmUAC/view',\n",
       "       '/lightning/r/Report/00O0b000006iNwdEAE/view?queryScope=userFolders',\n",
       "       '/lightning/r/Report/00O0b000006iNwdEAE/view',\n",
       "       '/lightning/r/Report/00O0b000005yLBGEA2/view?queryScope=userFolders',\n",
       "       '/lightning/r/Report/00O0b000004kkZKEAY/view',\n",
       "       '/lightning/r/Report/00O0b000004kTazEAE/view',\n",
       "       '/lightning/r/Report/00O2R000004F1Y9UAK/view?queryScope=userFolders',\n",
       "       '/lightning/r/Report/00O2R000003s2NZUAY/view',\n",
       "       '/lightning/r/Report/00O0b000004AmRrEAK/view?queryScope=userFolders',\n",
       "       '/lightning/r/Report/00O0b000004AmRrEAK/view',\n",
       "       '/lightning/r/Report/00O0b000004AnhWEAS/view?queryScope=userFolders',\n",
       "       '/lightning/r/Report/00O0b000004AmRjEAK/view?queryScope=userFolders%27',\n",
       "       '/lightning/r/Report/00O0b000004AmRjEAK/view',\n",
       "       '/lightning/r/Report/00O2R000004Im5MUAS/view?queryScope=userFolders',\n",
       "       '/lightning/r/Report/00O0b000004AmRyEAK/view?queryScope=userFolders',\n",
       "       '/lightning/r/Report/00O0b000004AoOOEA0/view?queryScope=userFolders',\n",
       "       '/lightning/r/Report/00O6P000000ZNd9UAG/view?reportFilters=%5B%7B%22value%22%3A%22Peru%2CArgentina%2CVenezuela%2CChile%2CColombia%2CPanama%2CEl%20Salvador%2CCosta%20Rica%2CBolivia%2CParaguay%2CUruguay%2CEcuador%2CVirgin%20Islands%20%28US%29%2CAnguilla%2CAntigua%20%26%20Barbuda%2CAruba%2CBahamas%2CBarbados%2CBermuda%2CBritish%20Virgin%20Islands%2CCayman%20Islands%2CCura%C3%A7ao%2CDominica%2CDominican%20Republic%2CGrenada%2CHaiti%2CJamaica%2CPuerto%20Rico%2CSaint%20Kitts%20%26%20Nevis%2CSaint%20Lucia%2CSaint%20Vincent%20%26%20the%20Grenadines%2CBelize%2CGuatemala%2CHonduras%2CNicaragua%2CTrinidad%20and%20Tobago%2CSuriname%2CGuyana%2CTurks%20and%20Caicos%20Islands%2CAmerican%20Samoa%2CCuba%2CFalkland%20Islands%2CFaroe%20Islands%2CFrench%20Guiana%2CGuadeloupe%2CMartinique%2CSint%20Maarten%22%2C%22operator%22%3A%22contains%22%2C%22column%22%3A%22pse__Proj__c.Region_Name_Chain__c%22%7D%5D',\n",
       "       '/lightning/r/Report/00O6P000000ZNdEUAW/view?reportFilters=%5B%7B%22value%22%3A%22Peru%2CArgentina%2CVenezuela%2CChile%2CColombia%2CPanama%2CEl%20Salvador%2CCosta%20Rica%2CBolivia%2CParaguay%2CUruguay%2CEcuador%2CVirgin%20Islands%20%28US%29%2CAnguilla%2CAntigua%20%26%20Barbuda%2CAruba%2CBahamas%2CBarbados%2CBermuda%2CBritish%20Virgin%20Islands%2CCayman%20Islands%2CCura%C3%A7ao%2CDominica%2CDominican%20Republic%2CGrenada%2CHaiti%2CJamaica%2CPuerto%20Rico%2CSaint%20Kitts%20%26%20Nevis%2CSaint%20Lucia%2CSaint%20Vincent%20%26%20the%20Grenadines%2CBelize%2CGuatemala%2CHonduras%2CNicaragua%2CTrinidad%20and%20Tobago%2CSuriname%2CGuyana%2CTurks%20and%20Caicos%20Islands%2CAmerican%20Samoa%2CCuba%2CFalkland%20Islands%2CFaroe%20Islands%2CFrench%20Guiana%2CGuadeloupe%2CMartinique%2CSint%20Maarten%22%2C%22operator%22%3A%22contains%22%2C%22column%22%3A%22pse__Proj__c.Region_Name_Chain__c%22%7D%5D',\n",
       "       '/lightning/r/Report/00O2R000003zTGDUA2/view?queryScope=userFolders',\n",
       "       '/lightning/r/Report/00O0b000004keC5EAI/view?queryScope=userFolders',\n",
       "       '/lightning/r/Report/00O6P0000012jgSUAQ/view?queryScope=userFolders'],\n",
       "      dtype=object)"
      ]
     },
     "execution_count": 104,
     "metadata": {},
     "output_type": "execute_result"
    }
   ],
   "source": [
    "ltng_reports['PAGE_URL'].unique()"
   ]
  },
  {
   "cell_type": "code",
   "execution_count": 105,
   "id": "baf1a359",
   "metadata": {},
   "outputs": [],
   "source": [
    "ltng_reports_group = ltng_reports.groupby(['PAGE_URL']).agg({'UI_EVENT_TYPE': 'count'})"
   ]
  },
  {
   "cell_type": "code",
   "execution_count": 106,
   "id": "1de3c652",
   "metadata": {},
   "outputs": [
    {
     "data": {
      "text/html": [
       "<div>\n",
       "<style scoped>\n",
       "    .dataframe tbody tr th:only-of-type {\n",
       "        vertical-align: middle;\n",
       "    }\n",
       "\n",
       "    .dataframe tbody tr th {\n",
       "        vertical-align: top;\n",
       "    }\n",
       "\n",
       "    .dataframe thead th {\n",
       "        text-align: right;\n",
       "    }\n",
       "</style>\n",
       "<table border=\"1\" class=\"dataframe\">\n",
       "  <thead>\n",
       "    <tr style=\"text-align: right;\">\n",
       "      <th></th>\n",
       "      <th>UI_EVENT_TYPE</th>\n",
       "    </tr>\n",
       "    <tr>\n",
       "      <th>PAGE_URL</th>\n",
       "      <th></th>\n",
       "    </tr>\n",
       "  </thead>\n",
       "  <tbody>\n",
       "    <tr>\n",
       "      <th>/lightning/r/Report/00O0b000004AmRjEAK/view</th>\n",
       "      <td>5</td>\n",
       "    </tr>\n",
       "    <tr>\n",
       "      <th>/lightning/r/Report/00O0b000004AmRjEAK/view?queryScope=userFolders%27</th>\n",
       "      <td>1</td>\n",
       "    </tr>\n",
       "    <tr>\n",
       "      <th>/lightning/r/Report/00O0b000004AmRrEAK/view</th>\n",
       "      <td>27</td>\n",
       "    </tr>\n",
       "    <tr>\n",
       "      <th>/lightning/r/Report/00O0b000004AmRrEAK/view?queryScope=userFolders</th>\n",
       "      <td>135</td>\n",
       "    </tr>\n",
       "    <tr>\n",
       "      <th>/lightning/r/Report/00O0b000004AmRyEAK/view?queryScope=userFolders</th>\n",
       "      <td>1</td>\n",
       "    </tr>\n",
       "  </tbody>\n",
       "</table>\n",
       "</div>"
      ],
      "text/plain": [
       "                                                    UI_EVENT_TYPE\n",
       "PAGE_URL                                                         \n",
       "/lightning/r/Report/00O0b000004AmRjEAK/view                     5\n",
       "/lightning/r/Report/00O0b000004AmRjEAK/view?que...              1\n",
       "/lightning/r/Report/00O0b000004AmRrEAK/view                    27\n",
       "/lightning/r/Report/00O0b000004AmRrEAK/view?que...            135\n",
       "/lightning/r/Report/00O0b000004AmRyEAK/view?que...              1"
      ]
     },
     "execution_count": 106,
     "metadata": {},
     "output_type": "execute_result"
    }
   ],
   "source": [
    "ltng_reports_group.head()"
   ]
  },
  {
   "cell_type": "code",
   "execution_count": 107,
   "id": "e9255175",
   "metadata": {},
   "outputs": [],
   "source": [
    "ltng_reports_group_sorted = ltng_reports_group.sort_values(by=['UI_EVENT_TYPE'], ascending=False)"
   ]
  },
  {
   "cell_type": "code",
   "execution_count": 108,
   "id": "d90a3f71",
   "metadata": {},
   "outputs": [],
   "source": [
    "ltng_reports_group_sorted.reset_index(inplace=True)"
   ]
  },
  {
   "cell_type": "code",
   "execution_count": 109,
   "id": "9b4de3a4",
   "metadata": {},
   "outputs": [
    {
     "data": {
      "text/html": [
       "<div>\n",
       "<style scoped>\n",
       "    .dataframe tbody tr th:only-of-type {\n",
       "        vertical-align: middle;\n",
       "    }\n",
       "\n",
       "    .dataframe tbody tr th {\n",
       "        vertical-align: top;\n",
       "    }\n",
       "\n",
       "    .dataframe thead th {\n",
       "        text-align: right;\n",
       "    }\n",
       "</style>\n",
       "<table border=\"1\" class=\"dataframe\">\n",
       "  <thead>\n",
       "    <tr style=\"text-align: right;\">\n",
       "      <th></th>\n",
       "      <th>PAGE_URL</th>\n",
       "      <th>UI_EVENT_TYPE</th>\n",
       "    </tr>\n",
       "  </thead>\n",
       "  <tbody>\n",
       "    <tr>\n",
       "      <th>0</th>\n",
       "      <td>/lightning/r/Report/00O0b000004AmRrEAK/view?qu...</td>\n",
       "      <td>135</td>\n",
       "    </tr>\n",
       "    <tr>\n",
       "      <th>1</th>\n",
       "      <td>/lightning/r/Report/00O0b000004AmRrEAK/view</td>\n",
       "      <td>27</td>\n",
       "    </tr>\n",
       "    <tr>\n",
       "      <th>2</th>\n",
       "      <td>/lightning/r/Report/00O0b000004keC5EAI/view?qu...</td>\n",
       "      <td>25</td>\n",
       "    </tr>\n",
       "    <tr>\n",
       "      <th>3</th>\n",
       "      <td>/lightning/r/Report/00O0b000006iNwdEAE/view?qu...</td>\n",
       "      <td>14</td>\n",
       "    </tr>\n",
       "    <tr>\n",
       "      <th>4</th>\n",
       "      <td>/lightning/r/Report/00O2R000004AmwmUAC/view?qu...</td>\n",
       "      <td>6</td>\n",
       "    </tr>\n",
       "  </tbody>\n",
       "</table>\n",
       "</div>"
      ],
      "text/plain": [
       "                                            PAGE_URL  UI_EVENT_TYPE\n",
       "0  /lightning/r/Report/00O0b000004AmRrEAK/view?qu...            135\n",
       "1        /lightning/r/Report/00O0b000004AmRrEAK/view             27\n",
       "2  /lightning/r/Report/00O0b000004keC5EAI/view?qu...             25\n",
       "3  /lightning/r/Report/00O0b000006iNwdEAE/view?qu...             14\n",
       "4  /lightning/r/Report/00O2R000004AmwmUAC/view?qu...              6"
      ]
     },
     "execution_count": 109,
     "metadata": {},
     "output_type": "execute_result"
    }
   ],
   "source": [
    "ltng_reports_group_sorted.head()"
   ]
  },
  {
   "cell_type": "code",
   "execution_count": 110,
   "id": "18fc2800",
   "metadata": {},
   "outputs": [],
   "source": [
    "top_of_page_url = 8\n",
    "list_ui_page_url = ltng_reports_group_sorted['PAGE_URL'].head(top_of_page_url).tolist()\n",
    "list_count = ltng_reports_group_sorted['UI_EVENT_TYPE'].head(top_of_page_url).tolist()"
   ]
  },
  {
   "cell_type": "code",
   "execution_count": 111,
   "id": "b25bb22f",
   "metadata": {},
   "outputs": [],
   "source": [
    "import numpy as np \n",
    "import matplotlib.pyplot as plt "
   ]
  },
  {
   "cell_type": "code",
   "execution_count": 112,
   "id": "8b676497",
   "metadata": {},
   "outputs": [],
   "source": [
    "explode = (0.0, 0.0, 0.0, 0.0, 0.0, 0.1, 0.2, 0.0)\n",
    "cmap = plt.get_cmap(\"tab20c\")\n",
    "outer_colors = cmap(np.arange(len(list_ui_page_url))*3)\n",
    "wp = { 'linewidth' : 1, 'edgecolor' : \"white\" } \n",
    "\n",
    "def func(pct, allvalues): \n",
    "    absolute = int(pct / 100.*np.sum(allvalues)) \n",
    "    return \"{:.1f}%\\n({:d})\".format(pct, absolute)"
   ]
  },
  {
   "cell_type": "code",
   "execution_count": 113,
   "id": "06a2014a",
   "metadata": {
    "scrolled": false
   },
   "outputs": [
    {
     "data": {
      "image/png": "[encoded data removed]",
      "text/plain": [
       "<Figure size 864x576 with 1 Axes>"
      ]
     },
     "metadata": {},
     "output_type": "display_data"
    }
   ],
   "source": [
    "fig, ax = plt.subplots(figsize =(12, 8))\n",
    "\n",
    "wedges, texts, autotexts = ax.pie(list_count,  \n",
    "                                  autopct = lambda pct: func(pct, list_count),\n",
    "                                  explode = explode,\n",
    "                                  shadow = True, \n",
    "                                  colors = outer_colors,\n",
    "                                  startangle = 90, \n",
    "                                  wedgeprops = wp, \n",
    "                                  textprops = dict(color =\"black\"))\n",
    "\n",
    "ax.legend(wedges, list_ui_page_url, \n",
    "          title =\"Page Url\", \n",
    "          loc =\"center left\", \n",
    "          bbox_to_anchor =(1, 0, 0.5, 1))\n",
    "\n",
    "plt.setp(autotexts, size = 10, weight =\"bold\") \n",
    "ax.set_title(\"Frequency of errors for each Page Url by active and problematic reports\") \n",
    "plt.show() "
   ]
  },
  {
   "cell_type": "markdown",
   "id": "6d7f0f21",
   "metadata": {},
   "source": [
    "### by *Report Name*"
   ]
  },
  {
   "cell_type": "code",
   "execution_count": 114,
   "id": "6c895e1e",
   "metadata": {},
   "outputs": [],
   "source": [
    "ltng_reports_group = ltng_reports.groupby(['Name']).agg({'UI_EVENT_TYPE': 'count'})"
   ]
  },
  {
   "cell_type": "code",
   "execution_count": 115,
   "id": "8f756685",
   "metadata": {},
   "outputs": [],
   "source": [
    "ltng_reports_group_sorted = ltng_reports_group.sort_values(by=['UI_EVENT_TYPE'], ascending=False)"
   ]
  },
  {
   "cell_type": "code",
   "execution_count": 116,
   "id": "289f0ef4",
   "metadata": {},
   "outputs": [],
   "source": [
    "ltng_reports_group_sorted.rename(columns={'UI_EVENT_TYPE': 'Count Errors'}, inplace = True)"
   ]
  },
  {
   "cell_type": "code",
   "execution_count": 117,
   "id": "cb2a2acd",
   "metadata": {},
   "outputs": [
    {
     "data": {
      "text/html": [
       "<div>\n",
       "<style scoped>\n",
       "    .dataframe tbody tr th:only-of-type {\n",
       "        vertical-align: middle;\n",
       "    }\n",
       "\n",
       "    .dataframe tbody tr th {\n",
       "        vertical-align: top;\n",
       "    }\n",
       "\n",
       "    .dataframe thead th {\n",
       "        text-align: right;\n",
       "    }\n",
       "</style>\n",
       "<table border=\"1\" class=\"dataframe\">\n",
       "  <thead>\n",
       "    <tr style=\"text-align: right;\">\n",
       "      <th></th>\n",
       "      <th>Count Errors</th>\n",
       "    </tr>\n",
       "    <tr>\n",
       "      <th>Name</th>\n",
       "      <th></th>\n",
       "    </tr>\n",
       "  </thead>\n",
       "  <tbody>\n",
       "    <tr>\n",
       "      <th>Chat Average Handle Time</th>\n",
       "      <td>162</td>\n",
       "    </tr>\n",
       "    <tr>\n",
       "      <th>SLA - Average Handle Time (Sept)</th>\n",
       "      <td>25</td>\n",
       "    </tr>\n",
       "    <tr>\n",
       "      <th>New Email By Team - w\\o Sup filter</th>\n",
       "      <td>18</td>\n",
       "    </tr>\n",
       "    <tr>\n",
       "      <th>S&amp;AS Reactive Queues</th>\n",
       "      <td>9</td>\n",
       "    </tr>\n",
       "    <tr>\n",
       "      <th>Agent Work for Supervisor</th>\n",
       "      <td>6</td>\n",
       "    </tr>\n",
       "    <tr>\n",
       "      <th>Chat SLA - Wait Time</th>\n",
       "      <td>6</td>\n",
       "    </tr>\n",
       "    <tr>\n",
       "      <th>Average Chat Duration</th>\n",
       "      <td>5</td>\n",
       "    </tr>\n",
       "    <tr>\n",
       "      <th>My Cases and Tasks</th>\n",
       "      <td>4</td>\n",
       "    </tr>\n",
       "    <tr>\n",
       "      <th>Agent Timesheet_Omni</th>\n",
       "      <td>2</td>\n",
       "    </tr>\n",
       "    <tr>\n",
       "      <th>S&amp;AS - Account Services (Incoming)</th>\n",
       "      <td>2</td>\n",
       "    </tr>\n",
       "    <tr>\n",
       "      <th>Cases by Status</th>\n",
       "      <td>1</td>\n",
       "    </tr>\n",
       "    <tr>\n",
       "      <th>Cases with Tasks, Calendar &amp; Reminders</th>\n",
       "      <td>1</td>\n",
       "    </tr>\n",
       "    <tr>\n",
       "      <th>Copy of My Cases and Tasks</th>\n",
       "      <td>1</td>\n",
       "    </tr>\n",
       "    <tr>\n",
       "      <th>GAM Unassigned cases</th>\n",
       "      <td>1</td>\n",
       "    </tr>\n",
       "    <tr>\n",
       "      <th>LATAM ACTUAL EDT/HES FY23Q2</th>\n",
       "      <td>1</td>\n",
       "    </tr>\n",
       "    <tr>\n",
       "      <th>LATAM ACTUAL EIS FY23Q2</th>\n",
       "      <td>1</td>\n",
       "    </tr>\n",
       "  </tbody>\n",
       "</table>\n",
       "</div>"
      ],
      "text/plain": [
       "                                        Count Errors\n",
       "Name                                                \n",
       "Chat Average Handle Time                         162\n",
       "SLA - Average Handle Time (Sept)                  25\n",
       "New Email By Team - w\\o Sup filter                18\n",
       "S&AS Reactive Queues                               9\n",
       "Agent Work for Supervisor                          6\n",
       "Chat SLA - Wait Time                               6\n",
       "Average Chat Duration                              5\n",
       "My Cases and Tasks                                 4\n",
       "Agent Timesheet_Omni                               2\n",
       "S&AS - Account Services (Incoming)                 2\n",
       "Cases by Status                                    1\n",
       "Cases with Tasks, Calendar & Reminders             1\n",
       "Copy of My Cases and Tasks                         1\n",
       "GAM Unassigned cases                               1\n",
       "LATAM ACTUAL EDT/HES FY23Q2                        1\n",
       "LATAM ACTUAL EIS FY23Q2                            1"
      ]
     },
     "execution_count": 117,
     "metadata": {},
     "output_type": "execute_result"
    }
   ],
   "source": [
    "ltng_reports_group_sorted"
   ]
  }
 ],
 "metadata": {
  "kernelspec": {
   "display_name": "Python 3 (ipykernel)",
   "language": "python",
   "name": "python3"
  },
  "language_info": {
   "codemirror_mode": {
    "name": "ipython",
    "version": 3
   },
   "file_extension": ".py",
   "mimetype": "text/x-python",
   "name": "python",
   "nbconvert_exporter": "python",
   "pygments_lexer": "ipython3",
   "version": "3.9.7"
  }
 },
 "nbformat": 4,
 "nbformat_minor": 5
}

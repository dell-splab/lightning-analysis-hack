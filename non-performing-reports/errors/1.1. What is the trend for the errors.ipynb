{
 "cells": [
  {
   "cell_type": "markdown",
   "id": "80754f2a",
   "metadata": {},
   "source": [
    "# The trend for the errors\n",
    "This notebook answers the following questions:\n",
    "\n",
    "- [X] What type of errors happend?\n",
    "- [X] Hours of the day that more errors occurred?"
   ]
  },
  {
   "cell_type": "code",
   "execution_count": 78,
   "id": "c5b55c0c",
   "metadata": {},
   "outputs": [],
   "source": [
    "import pandas as pd"
   ]
  },
  {
   "cell_type": "markdown",
   "id": "c046c6b2",
   "metadata": {},
   "source": [
    "## Loading lightning error"
   ]
  },
  {
   "cell_type": "code",
   "execution_count": 79,
   "id": "f7386743",
   "metadata": {},
   "outputs": [],
   "source": [
    "ltng_error_filtered = pd.read_csv(\"../../datasets/ltng_error_filtered.csv\", low_memory=False)"
   ]
  },
  {
   "cell_type": "code",
   "execution_count": 80,
   "id": "aa885274",
   "metadata": {},
   "outputs": [
    {
     "data": {
      "text/html": [
       "<div>\n",
       "<style scoped>\n",
       "    .dataframe tbody tr th:only-of-type {\n",
       "        vertical-align: middle;\n",
       "    }\n",
       "\n",
       "    .dataframe tbody tr th {\n",
       "        vertical-align: top;\n",
       "    }\n",
       "\n",
       "    .dataframe thead th {\n",
       "        text-align: right;\n",
       "    }\n",
       "</style>\n",
       "<table border=\"1\" class=\"dataframe\">\n",
       "  <thead>\n",
       "    <tr style=\"text-align: right;\">\n",
       "      <th></th>\n",
       "      <th>CLIENT_GEO</th>\n",
       "      <th>PAGE_URL</th>\n",
       "      <th>PAGE_CONTEXT</th>\n",
       "      <th>PAGE_ENTITY_TYPE</th>\n",
       "      <th>TIMESTAMP</th>\n",
       "      <th>TIMESTAMP_DERIVED</th>\n",
       "      <th>UI_EVENT_SOURCE</th>\n",
       "      <th>UI_EVENT_TYPE</th>\n",
       "      <th>UI_EVENT_ID</th>\n",
       "      <th>USER_AGENT</th>\n",
       "      <th>COMPONENT_NAME</th>\n",
       "      <th>REPORT_ID_DERIVED</th>\n",
       "    </tr>\n",
       "  </thead>\n",
       "  <tbody>\n",
       "    <tr>\n",
       "      <th>0</th>\n",
       "      <td>China/Fujian</td>\n",
       "      <td>/lightning/r/LiveChatTranscript/5706P000001RXN...</td>\n",
       "      <td>one:recordHomeFlexipage</td>\n",
       "      <td>LiveChatTranscript</td>\n",
       "      <td>2.022063e+13</td>\n",
       "      <td>2022-06-28T01:14:59.497Z</td>\n",
       "      <td>Error</td>\n",
       "      <td>error</td>\n",
       "      <td>ltng:error</td>\n",
       "      <td>\"Mozilla/5.0 (Windows NT 10.0; Win64; x64) App...</td>\n",
       "      <td>NaN</td>\n",
       "      <td>5706P000001RXN6QAO</td>\n",
       "    </tr>\n",
       "    <tr>\n",
       "      <th>1</th>\n",
       "      <td>China/Fujian</td>\n",
       "      <td>/lightning/r/LiveChatTranscript/5706P000001RXN...</td>\n",
       "      <td>one:recordHomeFlexipage</td>\n",
       "      <td>LiveChatTranscript</td>\n",
       "      <td>2.022063e+13</td>\n",
       "      <td>2022-06-28T01:14:59.502Z</td>\n",
       "      <td>Error</td>\n",
       "      <td>error</td>\n",
       "      <td>ltng:error</td>\n",
       "      <td>\"Mozilla/5.0 (Windows NT 10.0; Win64; x64) App...</td>\n",
       "      <td>NaN</td>\n",
       "      <td>5706P000001RXN6QAO</td>\n",
       "    </tr>\n",
       "    <tr>\n",
       "      <th>2</th>\n",
       "      <td>China/Fujian</td>\n",
       "      <td>/lightning/r/LiveChatTranscript/5706P000001RXN...</td>\n",
       "      <td>one:recordHomeFlexipage</td>\n",
       "      <td>LiveChatTranscript</td>\n",
       "      <td>2.022063e+13</td>\n",
       "      <td>2022-06-28T01:14:59.504Z</td>\n",
       "      <td>Error</td>\n",
       "      <td>error</td>\n",
       "      <td>ltng:error</td>\n",
       "      <td>\"Mozilla/5.0 (Windows NT 10.0; Win64; x64) App...</td>\n",
       "      <td>NaN</td>\n",
       "      <td>5706P000001RXN6QAO</td>\n",
       "    </tr>\n",
       "    <tr>\n",
       "      <th>3</th>\n",
       "      <td>United States/Texas</td>\n",
       "      <td>/lightning/r/LiveChatTranscript/5706P000000wJS...</td>\n",
       "      <td>one:recordHomeFlexipage</td>\n",
       "      <td>LiveChatTranscript</td>\n",
       "      <td>2.022063e+13</td>\n",
       "      <td>2022-06-28T01:15:09.829Z</td>\n",
       "      <td>TypeError</td>\n",
       "      <td>error</td>\n",
       "      <td>ltng:error</td>\n",
       "      <td>\"Mozilla/5.0 (Windows NT 10.0; Win64; x64) App...</td>\n",
       "      <td>NaN</td>\n",
       "      <td>5706P000000wJSFQA2</td>\n",
       "    </tr>\n",
       "    <tr>\n",
       "      <th>4</th>\n",
       "      <td>United States/Utah</td>\n",
       "      <td>/lightning/r/Report/00O2R000004AmwmUAC/view?qu...</td>\n",
       "      <td>reports:reportBase</td>\n",
       "      <td>Report</td>\n",
       "      <td>2.022063e+13</td>\n",
       "      <td>2022-06-28T01:17:00.510Z</td>\n",
       "      <td>Error</td>\n",
       "      <td>error</td>\n",
       "      <td>ltng:error</td>\n",
       "      <td>\"Mozilla/5.0 (Windows NT 10.0; Win64; x64) App...</td>\n",
       "      <td>NaN</td>\n",
       "      <td>00O2R000004AmwmUAC</td>\n",
       "    </tr>\n",
       "  </tbody>\n",
       "</table>\n",
       "</div>"
      ],
      "text/plain": [
       "            CLIENT_GEO                                           PAGE_URL  \\\n",
       "0         China/Fujian  /lightning/r/LiveChatTranscript/5706P000001RXN...   \n",
       "1         China/Fujian  /lightning/r/LiveChatTranscript/5706P000001RXN...   \n",
       "2         China/Fujian  /lightning/r/LiveChatTranscript/5706P000001RXN...   \n",
       "3  United States/Texas  /lightning/r/LiveChatTranscript/5706P000000wJS...   \n",
       "4   United States/Utah  /lightning/r/Report/00O2R000004AmwmUAC/view?qu...   \n",
       "\n",
       "              PAGE_CONTEXT    PAGE_ENTITY_TYPE     TIMESTAMP  \\\n",
       "0  one:recordHomeFlexipage  LiveChatTranscript  2.022063e+13   \n",
       "1  one:recordHomeFlexipage  LiveChatTranscript  2.022063e+13   \n",
       "2  one:recordHomeFlexipage  LiveChatTranscript  2.022063e+13   \n",
       "3  one:recordHomeFlexipage  LiveChatTranscript  2.022063e+13   \n",
       "4       reports:reportBase              Report  2.022063e+13   \n",
       "\n",
       "          TIMESTAMP_DERIVED UI_EVENT_SOURCE UI_EVENT_TYPE UI_EVENT_ID  \\\n",
       "0  2022-06-28T01:14:59.497Z           Error         error  ltng:error   \n",
       "1  2022-06-28T01:14:59.502Z           Error         error  ltng:error   \n",
       "2  2022-06-28T01:14:59.504Z           Error         error  ltng:error   \n",
       "3  2022-06-28T01:15:09.829Z       TypeError         error  ltng:error   \n",
       "4  2022-06-28T01:17:00.510Z           Error         error  ltng:error   \n",
       "\n",
       "                                          USER_AGENT  COMPONENT_NAME  \\\n",
       "0  \"Mozilla/5.0 (Windows NT 10.0; Win64; x64) App...             NaN   \n",
       "1  \"Mozilla/5.0 (Windows NT 10.0; Win64; x64) App...             NaN   \n",
       "2  \"Mozilla/5.0 (Windows NT 10.0; Win64; x64) App...             NaN   \n",
       "3  \"Mozilla/5.0 (Windows NT 10.0; Win64; x64) App...             NaN   \n",
       "4  \"Mozilla/5.0 (Windows NT 10.0; Win64; x64) App...             NaN   \n",
       "\n",
       "    REPORT_ID_DERIVED  \n",
       "0  5706P000001RXN6QAO  \n",
       "1  5706P000001RXN6QAO  \n",
       "2  5706P000001RXN6QAO  \n",
       "3  5706P000000wJSFQA2  \n",
       "4  00O2R000004AmwmUAC  "
      ]
     },
     "execution_count": 80,
     "metadata": {},
     "output_type": "execute_result"
    }
   ],
   "source": [
    "ltng_error_filtered.head()"
   ]
  },
  {
   "cell_type": "markdown",
   "id": "4d6bf224",
   "metadata": {},
   "source": [
    "## Loading problematics (by error) above median"
   ]
  },
  {
   "cell_type": "code",
   "execution_count": 81,
   "id": "ccb3a387",
   "metadata": {},
   "outputs": [],
   "source": [
    "above_median_problematic_by_errors = pd.read_csv(\"../../datasets/above_median_problematic_by_errors.csv\", low_memory=False)"
   ]
  },
  {
   "cell_type": "code",
   "execution_count": 82,
   "id": "5527a3cb",
   "metadata": {},
   "outputs": [
    {
     "data": {
      "text/html": [
       "<div>\n",
       "<style scoped>\n",
       "    .dataframe tbody tr th:only-of-type {\n",
       "        vertical-align: middle;\n",
       "    }\n",
       "\n",
       "    .dataframe tbody tr th {\n",
       "        vertical-align: top;\n",
       "    }\n",
       "\n",
       "    .dataframe thead th {\n",
       "        text-align: right;\n",
       "    }\n",
       "</style>\n",
       "<table border=\"1\" class=\"dataframe\">\n",
       "  <thead>\n",
       "    <tr style=\"text-align: right;\">\n",
       "      <th></th>\n",
       "      <th>ReportId</th>\n",
       "      <th>ErrorCount</th>\n",
       "    </tr>\n",
       "  </thead>\n",
       "  <tbody>\n",
       "    <tr>\n",
       "      <th>0</th>\n",
       "      <td>00O0b000004AmRrEAK</td>\n",
       "      <td>162</td>\n",
       "    </tr>\n",
       "    <tr>\n",
       "      <th>1</th>\n",
       "      <td>00O0b000004keC5EAI</td>\n",
       "      <td>25</td>\n",
       "    </tr>\n",
       "    <tr>\n",
       "      <th>2</th>\n",
       "      <td>00O0b000006iNwdEAE</td>\n",
       "      <td>18</td>\n",
       "    </tr>\n",
       "    <tr>\n",
       "      <th>3</th>\n",
       "      <td>00O2R000004AmwmUAC</td>\n",
       "      <td>9</td>\n",
       "    </tr>\n",
       "    <tr>\n",
       "      <th>4</th>\n",
       "      <td>00O0b000004AmRjEAK</td>\n",
       "      <td>6</td>\n",
       "    </tr>\n",
       "    <tr>\n",
       "      <th>5</th>\n",
       "      <td>00O0b000004AnhWEAS</td>\n",
       "      <td>5</td>\n",
       "    </tr>\n",
       "    <tr>\n",
       "      <th>6</th>\n",
       "      <td>00O0b000004kTazEAE</td>\n",
       "      <td>3</td>\n",
       "    </tr>\n",
       "    <tr>\n",
       "      <th>7</th>\n",
       "      <td>00O2R000004Im5MUAS</td>\n",
       "      <td>3</td>\n",
       "    </tr>\n",
       "    <tr>\n",
       "      <th>8</th>\n",
       "      <td>00O0b000004AoOOEA0</td>\n",
       "      <td>3</td>\n",
       "    </tr>\n",
       "  </tbody>\n",
       "</table>\n",
       "</div>"
      ],
      "text/plain": [
       "             ReportId  ErrorCount\n",
       "0  00O0b000004AmRrEAK         162\n",
       "1  00O0b000004keC5EAI          25\n",
       "2  00O0b000006iNwdEAE          18\n",
       "3  00O2R000004AmwmUAC           9\n",
       "4  00O0b000004AmRjEAK           6\n",
       "5  00O0b000004AnhWEAS           5\n",
       "6  00O0b000004kTazEAE           3\n",
       "7  00O2R000004Im5MUAS           3\n",
       "8  00O0b000004AoOOEA0           3"
      ]
     },
     "execution_count": 82,
     "metadata": {},
     "output_type": "execute_result"
    }
   ],
   "source": [
    "above_median_problematic_by_errors"
   ]
  },
  {
   "cell_type": "markdown",
   "id": "727d37a3",
   "metadata": {},
   "source": [
    "## Loading active reports"
   ]
  },
  {
   "cell_type": "code",
   "execution_count": 83,
   "id": "7b7d27fa",
   "metadata": {},
   "outputs": [],
   "source": [
    "active_reports = pd.read_csv(\"../../datasets/active_reports.csv\", low_memory=False)"
   ]
  },
  {
   "cell_type": "code",
   "execution_count": 84,
   "id": "e13dcbe4",
   "metadata": {},
   "outputs": [
    {
     "data": {
      "text/plain": [
       "(9479, 4)"
      ]
     },
     "execution_count": 84,
     "metadata": {},
     "output_type": "execute_result"
    }
   ],
   "source": [
    "active_reports.shape"
   ]
  },
  {
   "cell_type": "markdown",
   "id": "420b6361",
   "metadata": {},
   "source": [
    "## Merging lightning error and active reports"
   ]
  },
  {
   "cell_type": "code",
   "execution_count": 85,
   "id": "c42218d9",
   "metadata": {},
   "outputs": [],
   "source": [
    "ltng_reports = pd.merge(left=active_reports, right=ltng_error_filtered, left_on=\"Id\", right_on=\"REPORT_ID_DERIVED\")"
   ]
  },
  {
   "cell_type": "code",
   "execution_count": 86,
   "id": "c624047b",
   "metadata": {},
   "outputs": [
    {
     "data": {
      "text/plain": [
       "(245, 16)"
      ]
     },
     "execution_count": 86,
     "metadata": {},
     "output_type": "execute_result"
    }
   ],
   "source": [
    "ltng_reports.shape"
   ]
  },
  {
   "cell_type": "markdown",
   "id": "4271353e",
   "metadata": {},
   "source": [
    "Removing useless columns"
   ]
  },
  {
   "cell_type": "code",
   "execution_count": 87,
   "id": "9ab62d95",
   "metadata": {},
   "outputs": [
    {
     "data": {
      "text/plain": [
       "['Id',\n",
       " 'Name',\n",
       " 'Format',\n",
       " 'LastRunDate',\n",
       " 'CLIENT_GEO',\n",
       " 'PAGE_URL',\n",
       " 'PAGE_CONTEXT',\n",
       " 'PAGE_ENTITY_TYPE',\n",
       " 'TIMESTAMP',\n",
       " 'TIMESTAMP_DERIVED',\n",
       " 'UI_EVENT_SOURCE',\n",
       " 'UI_EVENT_TYPE',\n",
       " 'UI_EVENT_ID',\n",
       " 'USER_AGENT',\n",
       " 'COMPONENT_NAME',\n",
       " 'REPORT_ID_DERIVED']"
      ]
     },
     "execution_count": 87,
     "metadata": {},
     "output_type": "execute_result"
    }
   ],
   "source": [
    "list(ltng_reports.columns)"
   ]
  },
  {
   "cell_type": "code",
   "execution_count": 88,
   "id": "76ff928d",
   "metadata": {},
   "outputs": [],
   "source": [
    "interest_columns = ['REPORT_ID_DERIVED', 'UI_EVENT_SOURCE', 'UI_EVENT_TYPE','UI_EVENT_ID','TIMESTAMP_DERIVED']"
   ]
  },
  {
   "cell_type": "code",
   "execution_count": 89,
   "id": "327f89da",
   "metadata": {},
   "outputs": [],
   "source": [
    "ltng_reports = ltng_reports[interest_columns]"
   ]
  },
  {
   "cell_type": "markdown",
   "id": "b013b063",
   "metadata": {},
   "source": [
    "Getting the ids of problematic reports above the median"
   ]
  },
  {
   "cell_type": "code",
   "execution_count": 90,
   "id": "09ba2358",
   "metadata": {},
   "outputs": [],
   "source": [
    "above_median_problematic_by_errors_id = list(above_median_problematic_by_errors['ReportId'])"
   ]
  },
  {
   "cell_type": "markdown",
   "id": "7c8a27c6",
   "metadata": {},
   "source": [
    "Filtering problematic reports by those above the median"
   ]
  },
  {
   "cell_type": "code",
   "execution_count": 91,
   "id": "b7669d40",
   "metadata": {},
   "outputs": [],
   "source": [
    "ltng_reports_filtered = ltng_reports[ltng_reports['REPORT_ID_DERIVED'].isin(above_median_problematic_by_errors_id)]"
   ]
  },
  {
   "cell_type": "code",
   "execution_count": 92,
   "id": "16ff0b94",
   "metadata": {},
   "outputs": [
    {
     "data": {
      "text/plain": [
       "(234, 5)"
      ]
     },
     "execution_count": 92,
     "metadata": {},
     "output_type": "execute_result"
    }
   ],
   "source": [
    "ltng_reports_filtered.shape"
   ]
  },
  {
   "cell_type": "code",
   "execution_count": 93,
   "id": "18d05bb6",
   "metadata": {
    "scrolled": false
   },
   "outputs": [
    {
     "data": {
      "text/html": [
       "<div>\n",
       "<style scoped>\n",
       "    .dataframe tbody tr th:only-of-type {\n",
       "        vertical-align: middle;\n",
       "    }\n",
       "\n",
       "    .dataframe tbody tr th {\n",
       "        vertical-align: top;\n",
       "    }\n",
       "\n",
       "    .dataframe thead th {\n",
       "        text-align: right;\n",
       "    }\n",
       "</style>\n",
       "<table border=\"1\" class=\"dataframe\">\n",
       "  <thead>\n",
       "    <tr style=\"text-align: right;\">\n",
       "      <th></th>\n",
       "      <th>REPORT_ID_DERIVED</th>\n",
       "      <th>UI_EVENT_SOURCE</th>\n",
       "      <th>UI_EVENT_TYPE</th>\n",
       "      <th>UI_EVENT_ID</th>\n",
       "      <th>TIMESTAMP_DERIVED</th>\n",
       "    </tr>\n",
       "  </thead>\n",
       "  <tbody>\n",
       "    <tr>\n",
       "      <th>0</th>\n",
       "      <td>00O2R000004AmwmUAC</td>\n",
       "      <td>Error</td>\n",
       "      <td>error</td>\n",
       "      <td>ltng:error</td>\n",
       "      <td>2022-06-28T01:17:00.510Z</td>\n",
       "    </tr>\n",
       "    <tr>\n",
       "      <th>1</th>\n",
       "      <td>00O2R000004AmwmUAC</td>\n",
       "      <td>Error</td>\n",
       "      <td>error</td>\n",
       "      <td>ltng:error</td>\n",
       "      <td>2022-06-28T01:17:00.509Z</td>\n",
       "    </tr>\n",
       "    <tr>\n",
       "      <th>2</th>\n",
       "      <td>00O2R000004AmwmUAC</td>\n",
       "      <td>Error</td>\n",
       "      <td>error</td>\n",
       "      <td>ltng:error</td>\n",
       "      <td>2022-07-05T07:21:35.026Z</td>\n",
       "    </tr>\n",
       "    <tr>\n",
       "      <th>3</th>\n",
       "      <td>00O2R000004AmwmUAC</td>\n",
       "      <td>Error</td>\n",
       "      <td>error</td>\n",
       "      <td>ltng:error</td>\n",
       "      <td>2022-07-05T07:46:29.681Z</td>\n",
       "    </tr>\n",
       "    <tr>\n",
       "      <th>4</th>\n",
       "      <td>00O2R000004AmwmUAC</td>\n",
       "      <td>unknown</td>\n",
       "      <td>error</td>\n",
       "      <td>ltng:error</td>\n",
       "      <td>2022-07-05T17:06:18.837Z</td>\n",
       "    </tr>\n",
       "  </tbody>\n",
       "</table>\n",
       "</div>"
      ],
      "text/plain": [
       "    REPORT_ID_DERIVED UI_EVENT_SOURCE UI_EVENT_TYPE UI_EVENT_ID  \\\n",
       "0  00O2R000004AmwmUAC           Error         error  ltng:error   \n",
       "1  00O2R000004AmwmUAC           Error         error  ltng:error   \n",
       "2  00O2R000004AmwmUAC           Error         error  ltng:error   \n",
       "3  00O2R000004AmwmUAC           Error         error  ltng:error   \n",
       "4  00O2R000004AmwmUAC         unknown         error  ltng:error   \n",
       "\n",
       "          TIMESTAMP_DERIVED  \n",
       "0  2022-06-28T01:17:00.510Z  \n",
       "1  2022-06-28T01:17:00.509Z  \n",
       "2  2022-07-05T07:21:35.026Z  \n",
       "3  2022-07-05T07:46:29.681Z  \n",
       "4  2022-07-05T17:06:18.837Z  "
      ]
     },
     "execution_count": 93,
     "metadata": {},
     "output_type": "execute_result"
    }
   ],
   "source": [
    "ltng_reports_filtered.head()"
   ]
  },
  {
   "cell_type": "markdown",
   "id": "a96b725c",
   "metadata": {},
   "source": [
    "## Getting the hours of the day that more errors occured"
   ]
  },
  {
   "cell_type": "markdown",
   "id": "cf9c0167",
   "metadata": {},
   "source": [
    "Converting *TIMESTAMP_DERIVED* from type str to type date"
   ]
  },
  {
   "cell_type": "code",
   "execution_count": 94,
   "id": "e2e4a713",
   "metadata": {},
   "outputs": [
    {
     "data": {
      "text/plain": [
       "str"
      ]
     },
     "execution_count": 94,
     "metadata": {},
     "output_type": "execute_result"
    }
   ],
   "source": [
    "type(ltng_reports_filtered['TIMESTAMP_DERIVED'][0])"
   ]
  },
  {
   "cell_type": "code",
   "execution_count": 95,
   "id": "1dc59ef1",
   "metadata": {},
   "outputs": [
    {
     "name": "stderr",
     "output_type": "stream",
     "text": [
      "C:\\Users\\Matheus\\AppData\\Local\\Temp/ipykernel_20764/1208685902.py:4: SettingWithCopyWarning: \n",
      "A value is trying to be set on a copy of a slice from a DataFrame.\n",
      "Try using .loc[row_indexer,col_indexer] = value instead\n",
      "\n",
      "See the caveats in the documentation: https://pandas.pydata.org/pandas-docs/stable/user_guide/indexing.html#returning-a-view-versus-a-copy\n",
      "  ltng_reports_filtered['TIMESTAMP_DERIVED'] = pd.to_datetime(ltng_reports_filtered['TIMESTAMP_DERIVED']\n"
     ]
    }
   ],
   "source": [
    "import datetime\n",
    "from datetime import date\n",
    "\n",
    "ltng_reports_filtered['TIMESTAMP_DERIVED'] = pd.to_datetime(ltng_reports_filtered['TIMESTAMP_DERIVED']\n",
    "                                                                     , infer_datetime_format=True)"
   ]
  },
  {
   "cell_type": "code",
   "execution_count": 96,
   "id": "c3ad503d",
   "metadata": {},
   "outputs": [
    {
     "data": {
      "text/plain": [
       "pandas._libs.tslibs.timestamps.Timestamp"
      ]
     },
     "execution_count": 96,
     "metadata": {},
     "output_type": "execute_result"
    }
   ],
   "source": [
    "type(ltng_reports_filtered['TIMESTAMP_DERIVED'][0])"
   ]
  },
  {
   "cell_type": "markdown",
   "id": "71f9ad54",
   "metadata": {},
   "source": [
    "Getting the hours and the days from *TIMESTAMP_DERIVED* column"
   ]
  },
  {
   "cell_type": "code",
   "execution_count": 97,
   "id": "499b7439",
   "metadata": {},
   "outputs": [],
   "source": [
    "hour_rows = []\n",
    "day_rows = []\n",
    "\n",
    "for i in ltng_reports_filtered.index:\n",
    "    hour_rows.append(ltng_reports_filtered['TIMESTAMP_DERIVED'][i].hour)\n",
    "    day_rows.append(ltng_reports_filtered['TIMESTAMP_DERIVED'][i].day)"
   ]
  },
  {
   "cell_type": "code",
   "execution_count": 98,
   "id": "c26f693f",
   "metadata": {},
   "outputs": [
    {
     "name": "stdout",
     "output_type": "stream",
     "text": [
      "Hours: 234, days: 234\n"
     ]
    }
   ],
   "source": [
    "print(f\"Hours: {len(hour_rows)}, days: {len(day_rows)}\")"
   ]
  },
  {
   "cell_type": "markdown",
   "id": "eb494d43",
   "metadata": {},
   "source": [
    "Creating a column with the hour and day data"
   ]
  },
  {
   "cell_type": "code",
   "execution_count": 99,
   "id": "a51696b8",
   "metadata": {},
   "outputs": [
    {
     "name": "stderr",
     "output_type": "stream",
     "text": [
      "C:\\Users\\Matheus\\AppData\\Local\\Temp/ipykernel_20764/1465563336.py:1: SettingWithCopyWarning: \n",
      "A value is trying to be set on a copy of a slice from a DataFrame.\n",
      "Try using .loc[row_indexer,col_indexer] = value instead\n",
      "\n",
      "See the caveats in the documentation: https://pandas.pydata.org/pandas-docs/stable/user_guide/indexing.html#returning-a-view-versus-a-copy\n",
      "  ltng_reports_filtered['TIMESTAMP_DERIVED_HOUR'] = hour_rows\n",
      "C:\\Users\\Matheus\\AppData\\Local\\Temp/ipykernel_20764/1465563336.py:2: SettingWithCopyWarning: \n",
      "A value is trying to be set on a copy of a slice from a DataFrame.\n",
      "Try using .loc[row_indexer,col_indexer] = value instead\n",
      "\n",
      "See the caveats in the documentation: https://pandas.pydata.org/pandas-docs/stable/user_guide/indexing.html#returning-a-view-versus-a-copy\n",
      "  ltng_reports_filtered['TIMESTAMP_DERIVED_DAY'] = day_rows\n"
     ]
    }
   ],
   "source": [
    "ltng_reports_filtered['TIMESTAMP_DERIVED_HOUR'] = hour_rows\n",
    "ltng_reports_filtered['TIMESTAMP_DERIVED_DAY'] = day_rows"
   ]
  },
  {
   "cell_type": "code",
   "execution_count": 100,
   "id": "6eba5d00",
   "metadata": {},
   "outputs": [
    {
     "data": {
      "text/plain": [
       "['REPORT_ID_DERIVED',\n",
       " 'UI_EVENT_SOURCE',\n",
       " 'UI_EVENT_TYPE',\n",
       " 'UI_EVENT_ID',\n",
       " 'TIMESTAMP_DERIVED',\n",
       " 'TIMESTAMP_DERIVED_HOUR',\n",
       " 'TIMESTAMP_DERIVED_DAY']"
      ]
     },
     "execution_count": 100,
     "metadata": {},
     "output_type": "execute_result"
    }
   ],
   "source": [
    "list(ltng_reports_filtered.columns)"
   ]
  },
  {
   "cell_type": "markdown",
   "id": "3e7ff145",
   "metadata": {},
   "source": [
    "Getting a count of erros by hour"
   ]
  },
  {
   "cell_type": "code",
   "execution_count": 101,
   "id": "30342528",
   "metadata": {},
   "outputs": [],
   "source": [
    "ltng_reports_filtered_group_by_hour = ltng_reports_filtered.groupby([\n",
    "    'TIMESTAMP_DERIVED_HOUR']).agg({'UI_EVENT_ID': 'count'})"
   ]
  },
  {
   "cell_type": "markdown",
   "id": "d6910fe7",
   "metadata": {},
   "source": [
    "Renaming the column of *UI_EVENT_ID* to *UI_EVENT_COUNT*"
   ]
  },
  {
   "cell_type": "code",
   "execution_count": 102,
   "id": "64b61eca",
   "metadata": {},
   "outputs": [],
   "source": [
    "ltng_reports_filtered_group_by_hour.rename(columns={'UI_EVENT_ID': 'UI_EVENT_COUNT'}, inplace = True)"
   ]
  },
  {
   "cell_type": "markdown",
   "id": "ecb6cfaf",
   "metadata": {},
   "source": [
    "Reseting index"
   ]
  },
  {
   "cell_type": "code",
   "execution_count": 103,
   "id": "4d864b66",
   "metadata": {},
   "outputs": [],
   "source": [
    "ltng_reports_filtered_group_by_hour.reset_index(inplace=True)"
   ]
  },
  {
   "cell_type": "code",
   "execution_count": 104,
   "id": "65bf465a",
   "metadata": {
    "scrolled": false
   },
   "outputs": [
    {
     "data": {
      "text/html": [
       "<div>\n",
       "<style scoped>\n",
       "    .dataframe tbody tr th:only-of-type {\n",
       "        vertical-align: middle;\n",
       "    }\n",
       "\n",
       "    .dataframe tbody tr th {\n",
       "        vertical-align: top;\n",
       "    }\n",
       "\n",
       "    .dataframe thead th {\n",
       "        text-align: right;\n",
       "    }\n",
       "</style>\n",
       "<table border=\"1\" class=\"dataframe\">\n",
       "  <thead>\n",
       "    <tr style=\"text-align: right;\">\n",
       "      <th></th>\n",
       "      <th>TIMESTAMP_DERIVED_HOUR</th>\n",
       "      <th>UI_EVENT_COUNT</th>\n",
       "    </tr>\n",
       "  </thead>\n",
       "  <tbody>\n",
       "    <tr>\n",
       "      <th>0</th>\n",
       "      <td>1</td>\n",
       "      <td>7</td>\n",
       "    </tr>\n",
       "    <tr>\n",
       "      <th>1</th>\n",
       "      <td>2</td>\n",
       "      <td>6</td>\n",
       "    </tr>\n",
       "    <tr>\n",
       "      <th>2</th>\n",
       "      <td>4</td>\n",
       "      <td>5</td>\n",
       "    </tr>\n",
       "    <tr>\n",
       "      <th>3</th>\n",
       "      <td>7</td>\n",
       "      <td>144</td>\n",
       "    </tr>\n",
       "    <tr>\n",
       "      <th>4</th>\n",
       "      <td>8</td>\n",
       "      <td>35</td>\n",
       "    </tr>\n",
       "    <tr>\n",
       "      <th>5</th>\n",
       "      <td>9</td>\n",
       "      <td>28</td>\n",
       "    </tr>\n",
       "    <tr>\n",
       "      <th>6</th>\n",
       "      <td>17</td>\n",
       "      <td>9</td>\n",
       "    </tr>\n",
       "  </tbody>\n",
       "</table>\n",
       "</div>"
      ],
      "text/plain": [
       "   TIMESTAMP_DERIVED_HOUR  UI_EVENT_COUNT\n",
       "0                       1               7\n",
       "1                       2               6\n",
       "2                       4               5\n",
       "3                       7             144\n",
       "4                       8              35\n",
       "5                       9              28\n",
       "6                      17               9"
      ]
     },
     "execution_count": 104,
     "metadata": {},
     "output_type": "execute_result"
    }
   ],
   "source": [
    "ltng_reports_filtered_group_by_hour"
   ]
  },
  {
   "cell_type": "markdown",
   "id": "5f279a53",
   "metadata": {},
   "source": [
    "Getting the data for the visualization"
   ]
  },
  {
   "cell_type": "code",
   "execution_count": 105,
   "id": "c64f9464",
   "metadata": {},
   "outputs": [],
   "source": [
    "list_of_hour = ltng_reports_filtered_group_by_hour['TIMESTAMP_DERIVED_HOUR'].tolist()\n",
    "list_of_ui_event_id_count = ltng_reports_filtered_group_by_hour['UI_EVENT_COUNT'].tolist()"
   ]
  },
  {
   "cell_type": "markdown",
   "id": "cbcf76a5",
   "metadata": {},
   "source": [
    "Graph relating the number of errors and the hour of the day"
   ]
  },
  {
   "cell_type": "code",
   "execution_count": 106,
   "id": "30b7331f",
   "metadata": {},
   "outputs": [],
   "source": [
    "import numpy as np\n",
    "import matplotlib.pyplot as plt"
   ]
  },
  {
   "cell_type": "code",
   "execution_count": 107,
   "id": "b4c8fb8d",
   "metadata": {
    "scrolled": false
   },
   "outputs": [
    {
     "data": {
      "text/plain": [
       "[<matplotlib.lines.Line2D at 0x1e0695d57c0>]"
      ]
     },
     "execution_count": 107,
     "metadata": {},
     "output_type": "execute_result"
    },
    {
     "data": {
      "image/png": "[encoded data removed]",
      "text/plain": [
       "<Figure size 1080x576 with 1 Axes>"
      ]
     },
     "metadata": {
      "needs_background": "light"
     },
     "output_type": "display_data"
    }
   ],
   "source": [
    "plt.figure(figsize=(15, 8))\n",
    "plt.title(\"Number of erros per time of day\")\n",
    "plt.xlabel(\"Hour\")\n",
    "plt.ylabel(\"Number of errors\")\n",
    "plt.scatter(list_of_hour, list_of_ui_event_id_count, label = \"Number of errors\", color = \"black\", s =\n",
    "70)\n",
    "plt.xticks(list_of_hour,list_of_hour)\n",
    "plt.plot(list_of_hour, list_of_ui_event_id_count, color = \"blue\", linestyle = \"-\", linewidth = 3)"
   ]
  },
  {
   "cell_type": "markdown",
   "id": "92fc8f7c",
   "metadata": {},
   "source": [
    "### by Days"
   ]
  },
  {
   "cell_type": "code",
   "execution_count": 108,
   "id": "dfbed389",
   "metadata": {},
   "outputs": [
    {
     "data": {
      "text/plain": [
       "array([28,  5, 11, 22, 27,  4], dtype=int64)"
      ]
     },
     "execution_count": 108,
     "metadata": {},
     "output_type": "execute_result"
    }
   ],
   "source": [
    "ltng_reports_filtered['TIMESTAMP_DERIVED_DAY'].unique()"
   ]
  },
  {
   "cell_type": "code",
   "execution_count": 109,
   "id": "88614de0",
   "metadata": {},
   "outputs": [],
   "source": [
    "ltng_reports_filtered_group_by_day = ltng_reports_filtered.groupby([\n",
    "    'TIMESTAMP_DERIVED_DAY']).agg({'UI_EVENT_ID': 'count'})"
   ]
  },
  {
   "cell_type": "code",
   "execution_count": 110,
   "id": "7ce935f2",
   "metadata": {},
   "outputs": [],
   "source": [
    "ltng_reports_filtered_group_by_day.reset_index(inplace=True)"
   ]
  },
  {
   "cell_type": "code",
   "execution_count": 111,
   "id": "5148b6fd",
   "metadata": {},
   "outputs": [
    {
     "data": {
      "text/html": [
       "<div>\n",
       "<style scoped>\n",
       "    .dataframe tbody tr th:only-of-type {\n",
       "        vertical-align: middle;\n",
       "    }\n",
       "\n",
       "    .dataframe tbody tr th {\n",
       "        vertical-align: top;\n",
       "    }\n",
       "\n",
       "    .dataframe thead th {\n",
       "        text-align: right;\n",
       "    }\n",
       "</style>\n",
       "<table border=\"1\" class=\"dataframe\">\n",
       "  <thead>\n",
       "    <tr style=\"text-align: right;\">\n",
       "      <th></th>\n",
       "      <th>TIMESTAMP_DERIVED_DAY</th>\n",
       "      <th>UI_EVENT_ID</th>\n",
       "    </tr>\n",
       "  </thead>\n",
       "  <tbody>\n",
       "    <tr>\n",
       "      <th>0</th>\n",
       "      <td>4</td>\n",
       "      <td>5</td>\n",
       "    </tr>\n",
       "    <tr>\n",
       "      <th>1</th>\n",
       "      <td>5</td>\n",
       "      <td>34</td>\n",
       "    </tr>\n",
       "    <tr>\n",
       "      <th>2</th>\n",
       "      <td>11</td>\n",
       "      <td>51</td>\n",
       "    </tr>\n",
       "    <tr>\n",
       "      <th>3</th>\n",
       "      <td>22</td>\n",
       "      <td>6</td>\n",
       "    </tr>\n",
       "    <tr>\n",
       "      <th>4</th>\n",
       "      <td>27</td>\n",
       "      <td>131</td>\n",
       "    </tr>\n",
       "    <tr>\n",
       "      <th>5</th>\n",
       "      <td>28</td>\n",
       "      <td>7</td>\n",
       "    </tr>\n",
       "  </tbody>\n",
       "</table>\n",
       "</div>"
      ],
      "text/plain": [
       "   TIMESTAMP_DERIVED_DAY  UI_EVENT_ID\n",
       "0                      4            5\n",
       "1                      5           34\n",
       "2                     11           51\n",
       "3                     22            6\n",
       "4                     27          131\n",
       "5                     28            7"
      ]
     },
     "execution_count": 111,
     "metadata": {},
     "output_type": "execute_result"
    }
   ],
   "source": [
    "ltng_reports_filtered_group_by_day"
   ]
  },
  {
   "cell_type": "code",
   "execution_count": 112,
   "id": "b5673fc4",
   "metadata": {},
   "outputs": [],
   "source": [
    "list_of_day = ltng_reports_filtered_group_by_day['TIMESTAMP_DERIVED_DAY'].tolist()\n",
    "list_of_ui_event_id_count = ltng_reports_filtered_group_by_day['UI_EVENT_ID'].tolist()"
   ]
  },
  {
   "cell_type": "code",
   "execution_count": 113,
   "id": "e5b1235a",
   "metadata": {},
   "outputs": [
    {
     "data": {
      "text/plain": [
       "[<matplotlib.lines.Line2D at 0x1e06965d760>]"
      ]
     },
     "execution_count": 113,
     "metadata": {},
     "output_type": "execute_result"
    },
    {
     "data": {
      "image/png": "[encoded data removed]",
      "text/plain": [
       "<Figure size 1080x576 with 1 Axes>"
      ]
     },
     "metadata": {
      "needs_background": "light"
     },
     "output_type": "display_data"
    }
   ],
   "source": [
    "plt.figure(figsize=(15, 8))\n",
    "plt.title(\"Number of erros per day\")\n",
    "plt.xlabel(\"Day\")\n",
    "plt.ylabel(\"Number of errors\")\n",
    "plt.scatter(list_of_day, list_of_ui_event_id_count, label = \"Number of errors\", color = \"black\", s =\n",
    "70)\n",
    "plt.xticks(list_of_day,list_of_day)\n",
    "plt.plot(list_of_day, list_of_ui_event_id_count, color = \"blue\", linestyle = \"-\", linewidth = 3)"
   ]
  },
  {
   "cell_type": "markdown",
   "id": "9a97eeb3",
   "metadata": {},
   "source": [
    "Sorting hours by count"
   ]
  },
  {
   "cell_type": "code",
   "execution_count": 114,
   "id": "4b7edbf7",
   "metadata": {},
   "outputs": [],
   "source": [
    "ltng_reports_filtered_group_sorted = ltng_reports_filtered_group_by_hour.sort_values(by='UI_EVENT_COUNT', ascending=False)"
   ]
  },
  {
   "cell_type": "code",
   "execution_count": 115,
   "id": "4ec07180",
   "metadata": {},
   "outputs": [
    {
     "data": {
      "text/html": [
       "<div>\n",
       "<style scoped>\n",
       "    .dataframe tbody tr th:only-of-type {\n",
       "        vertical-align: middle;\n",
       "    }\n",
       "\n",
       "    .dataframe tbody tr th {\n",
       "        vertical-align: top;\n",
       "    }\n",
       "\n",
       "    .dataframe thead th {\n",
       "        text-align: right;\n",
       "    }\n",
       "</style>\n",
       "<table border=\"1\" class=\"dataframe\">\n",
       "  <thead>\n",
       "    <tr style=\"text-align: right;\">\n",
       "      <th></th>\n",
       "      <th>TIMESTAMP_DERIVED_HOUR</th>\n",
       "      <th>UI_EVENT_COUNT</th>\n",
       "    </tr>\n",
       "  </thead>\n",
       "  <tbody>\n",
       "    <tr>\n",
       "      <th>3</th>\n",
       "      <td>7</td>\n",
       "      <td>144</td>\n",
       "    </tr>\n",
       "    <tr>\n",
       "      <th>4</th>\n",
       "      <td>8</td>\n",
       "      <td>35</td>\n",
       "    </tr>\n",
       "    <tr>\n",
       "      <th>5</th>\n",
       "      <td>9</td>\n",
       "      <td>28</td>\n",
       "    </tr>\n",
       "    <tr>\n",
       "      <th>6</th>\n",
       "      <td>17</td>\n",
       "      <td>9</td>\n",
       "    </tr>\n",
       "    <tr>\n",
       "      <th>0</th>\n",
       "      <td>1</td>\n",
       "      <td>7</td>\n",
       "    </tr>\n",
       "    <tr>\n",
       "      <th>1</th>\n",
       "      <td>2</td>\n",
       "      <td>6</td>\n",
       "    </tr>\n",
       "    <tr>\n",
       "      <th>2</th>\n",
       "      <td>4</td>\n",
       "      <td>5</td>\n",
       "    </tr>\n",
       "  </tbody>\n",
       "</table>\n",
       "</div>"
      ],
      "text/plain": [
       "   TIMESTAMP_DERIVED_HOUR  UI_EVENT_COUNT\n",
       "3                       7             144\n",
       "4                       8              35\n",
       "5                       9              28\n",
       "6                      17               9\n",
       "0                       1               7\n",
       "1                       2               6\n",
       "2                       4               5"
      ]
     },
     "execution_count": 115,
     "metadata": {},
     "output_type": "execute_result"
    }
   ],
   "source": [
    "ltng_reports_filtered_group_sorted"
   ]
  },
  {
   "cell_type": "markdown",
   "id": "0b50b3d6",
   "metadata": {},
   "source": [
    "Considering 5 hours as the peak time"
   ]
  },
  {
   "cell_type": "code",
   "execution_count": 116,
   "id": "d8d724e3",
   "metadata": {},
   "outputs": [],
   "source": [
    "number_of_top_hours = 3\n",
    "\n",
    "top_hours = ltng_reports_filtered_group_sorted.head(number_of_top_hours)"
   ]
  },
  {
   "cell_type": "code",
   "execution_count": 117,
   "id": "27070de8",
   "metadata": {},
   "outputs": [],
   "source": [
    "top_hours = top_hours.sort_values(by=['TIMESTAMP_DERIVED_HOUR'])"
   ]
  },
  {
   "cell_type": "code",
   "execution_count": 118,
   "id": "52c86879",
   "metadata": {},
   "outputs": [],
   "source": [
    "top_hours = top_hours.reset_index()"
   ]
  },
  {
   "cell_type": "code",
   "execution_count": 119,
   "id": "9d427bf9",
   "metadata": {},
   "outputs": [
    {
     "name": "stdout",
     "output_type": "stream",
     "text": [
      "The top hours are: 7, 8 and 9"
     ]
    }
   ],
   "source": [
    "top_hours_values = []\n",
    "\n",
    "print(\"The top hours are: \", end=\"\")\n",
    "for i in top_hours.index:\n",
    "    value = top_hours['TIMESTAMP_DERIVED_HOUR'][i]\n",
    "    \n",
    "    top_hours_values.append(value)\n",
    "    \n",
    "    if i == len(top_hours) - 1:\n",
    "        print(f\"{value}\", end=\"\")\n",
    "    elif i == len(top_hours) - 2:\n",
    "        print(f\"{value} and \", end=\"\")\n",
    "    else:\n",
    "        print(f\"{value}, \", end=\"\")"
   ]
  },
  {
   "cell_type": "markdown",
   "id": "ee0ebe27",
   "metadata": {},
   "source": [
    "---"
   ]
  },
  {
   "cell_type": "markdown",
   "id": "cfd18289",
   "metadata": {},
   "source": [
    "## Analyzing the most common error types by day"
   ]
  },
  {
   "cell_type": "markdown",
   "id": "23ec6223",
   "metadata": {},
   "source": [
    "Getting the count of errors for each type of error"
   ]
  },
  {
   "cell_type": "code",
   "execution_count": 120,
   "id": "ccac4205",
   "metadata": {},
   "outputs": [],
   "source": [
    "ltng_reports_filtered_group_error = ltng_reports_filtered.groupby(['UI_EVENT_SOURCE']).agg({'UI_EVENT_ID': 'count'})"
   ]
  },
  {
   "cell_type": "code",
   "execution_count": 121,
   "id": "a5cbb47f",
   "metadata": {},
   "outputs": [],
   "source": [
    "ltng_reports_filtered_group_error.rename(columns={'UI_EVENT_ID': 'UI_EVENT_COUNT'}, inplace = True)"
   ]
  },
  {
   "cell_type": "code",
   "execution_count": 122,
   "id": "4a00af40",
   "metadata": {},
   "outputs": [
    {
     "data": {
      "text/html": [
       "<div>\n",
       "<style scoped>\n",
       "    .dataframe tbody tr th:only-of-type {\n",
       "        vertical-align: middle;\n",
       "    }\n",
       "\n",
       "    .dataframe tbody tr th {\n",
       "        vertical-align: top;\n",
       "    }\n",
       "\n",
       "    .dataframe thead th {\n",
       "        text-align: right;\n",
       "    }\n",
       "</style>\n",
       "<table border=\"1\" class=\"dataframe\">\n",
       "  <thead>\n",
       "    <tr style=\"text-align: right;\">\n",
       "      <th></th>\n",
       "      <th>UI_EVENT_COUNT</th>\n",
       "    </tr>\n",
       "    <tr>\n",
       "      <th>UI_EVENT_SOURCE</th>\n",
       "      <th></th>\n",
       "    </tr>\n",
       "  </thead>\n",
       "  <tbody>\n",
       "    <tr>\n",
       "      <th>Error</th>\n",
       "      <td>212</td>\n",
       "    </tr>\n",
       "    <tr>\n",
       "      <th>TypeError</th>\n",
       "      <td>21</td>\n",
       "    </tr>\n",
       "    <tr>\n",
       "      <th>unknown</th>\n",
       "      <td>1</td>\n",
       "    </tr>\n",
       "  </tbody>\n",
       "</table>\n",
       "</div>"
      ],
      "text/plain": [
       "                 UI_EVENT_COUNT\n",
       "UI_EVENT_SOURCE                \n",
       "Error                       212\n",
       "TypeError                    21\n",
       "unknown                       1"
      ]
     },
     "execution_count": 122,
     "metadata": {},
     "output_type": "execute_result"
    }
   ],
   "source": [
    "ltng_reports_filtered_group_error"
   ]
  },
  {
   "cell_type": "markdown",
   "id": "326ae846",
   "metadata": {},
   "source": [
    "Viewing the data"
   ]
  },
  {
   "cell_type": "code",
   "execution_count": 123,
   "id": "76fcade1",
   "metadata": {},
   "outputs": [
    {
     "data": {
      "text/plain": [
       "Text(0.5, 1.0, 'Types of errors that appear the most during the day')"
      ]
     },
     "execution_count": 123,
     "metadata": {},
     "output_type": "execute_result"
    },
    {
     "data": {
      "image/png": "[encoded data removed]",
      "text/plain": [
       "<Figure size 864x576 with 1 Axes>"
      ]
     },
     "metadata": {
      "needs_background": "light"
     },
     "output_type": "display_data"
    }
   ],
   "source": [
    "graph = ltng_reports_filtered_group_error.plot.barh(figsize=(12, 8))\n",
    "graph.set_ylabel('Error types')\n",
    "graph.set_xlabel('Count')\n",
    "graph.set_title('Types of errors that appear the most during the day')"
   ]
  },
  {
   "cell_type": "markdown",
   "id": "6be1a9bf",
   "metadata": {},
   "source": [
    "### Getting top error types by day"
   ]
  },
  {
   "cell_type": "code",
   "execution_count": 124,
   "id": "01940b14",
   "metadata": {},
   "outputs": [],
   "source": [
    "ltng_reports_filtered_group_error.reset_index(inplace=True)"
   ]
  },
  {
   "cell_type": "code",
   "execution_count": 125,
   "id": "b0435553",
   "metadata": {},
   "outputs": [
    {
     "name": "stdout",
     "output_type": "stream",
     "text": [
      "1 - Error\n",
      "2 - TypeError\n",
      "3 - unknown\n"
     ]
    }
   ],
   "source": [
    "error_types_by_day_values = []\n",
    "\n",
    "for i in ltng_reports_filtered_group_error.index:\n",
    "    value = ltng_reports_filtered_group_error['UI_EVENT_SOURCE'][i]\n",
    "    \n",
    "    error_types_by_day_values.append(value)\n",
    "    \n",
    "    print(f\"{i + 1} - {value}\")"
   ]
  },
  {
   "cell_type": "markdown",
   "id": "f059b177",
   "metadata": {},
   "source": [
    "---"
   ]
  },
  {
   "cell_type": "markdown",
   "id": "3efaa2b8",
   "metadata": {},
   "source": [
    "## Analyzing the most common error types by peak time"
   ]
  },
  {
   "cell_type": "markdown",
   "id": "9e1023f6",
   "metadata": {},
   "source": [
    "Peak time hours"
   ]
  },
  {
   "cell_type": "code",
   "execution_count": 126,
   "id": "aac06d13",
   "metadata": {},
   "outputs": [
    {
     "data": {
      "text/plain": [
       "[7, 8, 9]"
      ]
     },
     "execution_count": 126,
     "metadata": {},
     "output_type": "execute_result"
    }
   ],
   "source": [
    "top_hours_values"
   ]
  },
  {
   "cell_type": "markdown",
   "id": "9e72f756",
   "metadata": {},
   "source": [
    "Filtering the data by top hours"
   ]
  },
  {
   "cell_type": "code",
   "execution_count": 127,
   "id": "38874c81",
   "metadata": {},
   "outputs": [
    {
     "data": {
      "text/plain": [
       "(234, 7)"
      ]
     },
     "execution_count": 127,
     "metadata": {},
     "output_type": "execute_result"
    }
   ],
   "source": [
    "ltng_reports_filtered.shape\n"
   ]
  },
  {
   "cell_type": "code",
   "execution_count": 128,
   "id": "1e998f11",
   "metadata": {},
   "outputs": [],
   "source": [
    "ltng_reports_filtered_by_hour = ltng_reports_filtered[ltng_reports_filtered\n",
    "                                                                         .TIMESTAMP_DERIVED_HOUR.isin(top_hours_values)]"
   ]
  },
  {
   "cell_type": "code",
   "execution_count": 129,
   "id": "42161712",
   "metadata": {},
   "outputs": [
    {
     "data": {
      "text/plain": [
       "(207, 7)"
      ]
     },
     "execution_count": 129,
     "metadata": {},
     "output_type": "execute_result"
    }
   ],
   "source": [
    "ltng_reports_filtered_by_hour.shape\n"
   ]
  },
  {
   "cell_type": "markdown",
   "id": "e584af08",
   "metadata": {},
   "source": [
    "Grouping the count of errors by *UI_EVENT_SOURCE*"
   ]
  },
  {
   "cell_type": "code",
   "execution_count": 130,
   "id": "53e9c2cf",
   "metadata": {},
   "outputs": [],
   "source": [
    "ltng_reports_filtered_by_hour_group = ltng_reports_filtered_by_hour.groupby([\n",
    "    'UI_EVENT_SOURCE']).agg({'UI_EVENT_ID': 'count'})"
   ]
  },
  {
   "cell_type": "code",
   "execution_count": 131,
   "id": "5f6ee060",
   "metadata": {},
   "outputs": [],
   "source": [
    "ltng_reports_filtered_by_hour_group.rename(columns={'UI_EVENT_ID': 'UI_EVENT_COUNT'}, inplace = True)"
   ]
  },
  {
   "cell_type": "code",
   "execution_count": 132,
   "id": "4b763018",
   "metadata": {},
   "outputs": [
    {
     "data": {
      "text/html": [
       "<div>\n",
       "<style scoped>\n",
       "    .dataframe tbody tr th:only-of-type {\n",
       "        vertical-align: middle;\n",
       "    }\n",
       "\n",
       "    .dataframe tbody tr th {\n",
       "        vertical-align: top;\n",
       "    }\n",
       "\n",
       "    .dataframe thead th {\n",
       "        text-align: right;\n",
       "    }\n",
       "</style>\n",
       "<table border=\"1\" class=\"dataframe\">\n",
       "  <thead>\n",
       "    <tr style=\"text-align: right;\">\n",
       "      <th></th>\n",
       "      <th>UI_EVENT_COUNT</th>\n",
       "    </tr>\n",
       "    <tr>\n",
       "      <th>UI_EVENT_SOURCE</th>\n",
       "      <th></th>\n",
       "    </tr>\n",
       "  </thead>\n",
       "  <tbody>\n",
       "    <tr>\n",
       "      <th>Error</th>\n",
       "      <td>197</td>\n",
       "    </tr>\n",
       "    <tr>\n",
       "      <th>TypeError</th>\n",
       "      <td>10</td>\n",
       "    </tr>\n",
       "  </tbody>\n",
       "</table>\n",
       "</div>"
      ],
      "text/plain": [
       "                 UI_EVENT_COUNT\n",
       "UI_EVENT_SOURCE                \n",
       "Error                       197\n",
       "TypeError                    10"
      ]
     },
     "execution_count": 132,
     "metadata": {},
     "output_type": "execute_result"
    }
   ],
   "source": [
    "ltng_reports_filtered_by_hour_group"
   ]
  },
  {
   "cell_type": "markdown",
   "id": "60be55b7",
   "metadata": {},
   "source": [
    "Viewing the data"
   ]
  },
  {
   "cell_type": "code",
   "execution_count": 133,
   "id": "aaecbaf4",
   "metadata": {
    "scrolled": false
   },
   "outputs": [
    {
     "data": {
      "text/plain": [
       "Text(0.5, 1.0, 'Types of errors that appear the most during the day')"
      ]
     },
     "execution_count": 133,
     "metadata": {},
     "output_type": "execute_result"
    },
    {
     "data": {
      "image/png": "[encoded data removed]",
      "text/plain": [
       "<Figure size 864x576 with 1 Axes>"
      ]
     },
     "metadata": {
      "needs_background": "light"
     },
     "output_type": "display_data"
    }
   ],
   "source": [
    "graph = ltng_reports_filtered_by_hour_group.plot.barh(figsize=(12, 8))\n",
    "graph.set_ylabel('Error types')\n",
    "graph.set_xlabel('Count')\n",
    "graph.set_title('Types of errors that appear the most during the day')"
   ]
  },
  {
   "cell_type": "markdown",
   "id": "6343c772",
   "metadata": {},
   "source": [
    "### Getting top error types by peak time"
   ]
  },
  {
   "cell_type": "code",
   "execution_count": 134,
   "id": "7f5b2ef7",
   "metadata": {},
   "outputs": [],
   "source": [
    "ltng_reports_filtered_by_hour_group.reset_index(inplace=True)"
   ]
  },
  {
   "cell_type": "code",
   "execution_count": 135,
   "id": "12005608",
   "metadata": {},
   "outputs": [
    {
     "name": "stdout",
     "output_type": "stream",
     "text": [
      "1 - Error\n",
      "2 - TypeError\n"
     ]
    }
   ],
   "source": [
    "error_types_by_peak_time_values = []\n",
    "\n",
    "for i in ltng_reports_filtered_by_hour_group.index:\n",
    "    value = ltng_reports_filtered_by_hour_group['UI_EVENT_SOURCE'][i]\n",
    "    \n",
    "    error_types_by_peak_time_values.append(value)\n",
    "    print(f\"{i + 1} - {value}\")"
   ]
  },
  {
   "cell_type": "markdown",
   "id": "e70cdc43",
   "metadata": {},
   "source": [
    "---"
   ]
  },
  {
   "cell_type": "markdown",
   "id": "1a0649a1",
   "metadata": {},
   "source": [
    "## Analyzing types of errors by peak time"
   ]
  },
  {
   "cell_type": "markdown",
   "id": "39f126eb",
   "metadata": {},
   "source": [
    "Getting the count of erros for each group of type and peak time hour"
   ]
  },
  {
   "cell_type": "code",
   "execution_count": 136,
   "id": "d3eee159",
   "metadata": {},
   "outputs": [],
   "source": [
    "ltng_reports_filtered_by_hour_group = ltng_reports_filtered_by_hour.groupby(['TIMESTAMP_DERIVED_HOUR', \n",
    "                                                     'UI_EVENT_SOURCE']).agg({'UI_EVENT_ID': 'count'})"
   ]
  },
  {
   "cell_type": "markdown",
   "id": "782ba49c",
   "metadata": {},
   "source": [
    "Reseting index"
   ]
  },
  {
   "cell_type": "code",
   "execution_count": 137,
   "id": "3d2021d8",
   "metadata": {},
   "outputs": [],
   "source": [
    "ltng_reports_filtered_by_hour_group = ltng_reports_filtered_by_hour_group.reset_index()"
   ]
  },
  {
   "cell_type": "code",
   "execution_count": 138,
   "id": "20b9f907",
   "metadata": {},
   "outputs": [
    {
     "data": {
      "text/html": [
       "<div>\n",
       "<style scoped>\n",
       "    .dataframe tbody tr th:only-of-type {\n",
       "        vertical-align: middle;\n",
       "    }\n",
       "\n",
       "    .dataframe tbody tr th {\n",
       "        vertical-align: top;\n",
       "    }\n",
       "\n",
       "    .dataframe thead th {\n",
       "        text-align: right;\n",
       "    }\n",
       "</style>\n",
       "<table border=\"1\" class=\"dataframe\">\n",
       "  <thead>\n",
       "    <tr style=\"text-align: right;\">\n",
       "      <th></th>\n",
       "      <th>TIMESTAMP_DERIVED_HOUR</th>\n",
       "      <th>UI_EVENT_SOURCE</th>\n",
       "      <th>UI_EVENT_ID</th>\n",
       "    </tr>\n",
       "  </thead>\n",
       "  <tbody>\n",
       "    <tr>\n",
       "      <th>0</th>\n",
       "      <td>7</td>\n",
       "      <td>Error</td>\n",
       "      <td>139</td>\n",
       "    </tr>\n",
       "    <tr>\n",
       "      <th>1</th>\n",
       "      <td>7</td>\n",
       "      <td>TypeError</td>\n",
       "      <td>5</td>\n",
       "    </tr>\n",
       "    <tr>\n",
       "      <th>2</th>\n",
       "      <td>8</td>\n",
       "      <td>Error</td>\n",
       "      <td>33</td>\n",
       "    </tr>\n",
       "    <tr>\n",
       "      <th>3</th>\n",
       "      <td>8</td>\n",
       "      <td>TypeError</td>\n",
       "      <td>2</td>\n",
       "    </tr>\n",
       "    <tr>\n",
       "      <th>4</th>\n",
       "      <td>9</td>\n",
       "      <td>Error</td>\n",
       "      <td>25</td>\n",
       "    </tr>\n",
       "    <tr>\n",
       "      <th>5</th>\n",
       "      <td>9</td>\n",
       "      <td>TypeError</td>\n",
       "      <td>3</td>\n",
       "    </tr>\n",
       "  </tbody>\n",
       "</table>\n",
       "</div>"
      ],
      "text/plain": [
       "   TIMESTAMP_DERIVED_HOUR UI_EVENT_SOURCE  UI_EVENT_ID\n",
       "0                       7           Error          139\n",
       "1                       7       TypeError            5\n",
       "2                       8           Error           33\n",
       "3                       8       TypeError            2\n",
       "4                       9           Error           25\n",
       "5                       9       TypeError            3"
      ]
     },
     "execution_count": 138,
     "metadata": {},
     "output_type": "execute_result"
    }
   ],
   "source": [
    "ltng_reports_filtered_by_hour_group"
   ]
  },
  {
   "cell_type": "markdown",
   "id": "8baa0345",
   "metadata": {},
   "source": [
    "Getting the data for the visualization "
   ]
  },
  {
   "cell_type": "code",
   "execution_count": 139,
   "id": "fc283f07",
   "metadata": {},
   "outputs": [],
   "source": [
    "list_of_hour = ltng_reports_filtered_by_hour_group['TIMESTAMP_DERIVED_HOUR'].tolist()\n",
    "list_of_ui_event_source = ltng_reports_filtered_by_hour_group['UI_EVENT_SOURCE'].tolist()\n",
    "list_of_ui_event_id_count = ltng_reports_filtered_by_hour_group['UI_EVENT_ID'].tolist()"
   ]
  },
  {
   "cell_type": "markdown",
   "id": "0f4ace55",
   "metadata": {},
   "source": [
    "Getting the result dictionary format"
   ]
  },
  {
   "cell_type": "code",
   "execution_count": 140,
   "id": "d08eca4c",
   "metadata": {},
   "outputs": [
    {
     "data": {
      "text/plain": [
       "{7: [0, 0], 8: [0, 0], 9: [0, 0]}"
      ]
     },
     "execution_count": 140,
     "metadata": {},
     "output_type": "execute_result"
    }
   ],
   "source": [
    "result = {}\n",
    "\n",
    "def dictionary_format(list_types_of_erros, list_elements): \n",
    "    result = {}\n",
    "    \n",
    "    for element in list_elements:\n",
    "        result[element] = []\n",
    "        for i in range(len(list_types_of_erros)):\n",
    "            result[element].append(0)\n",
    "    \n",
    "    return result\n",
    "\n",
    "result = dictionary_format(error_types_by_peak_time_values, top_hours_values)\n",
    "result"
   ]
  },
  {
   "cell_type": "markdown",
   "id": "43961b25",
   "metadata": {},
   "source": [
    "Mapping type of error to position"
   ]
  },
  {
   "cell_type": "code",
   "execution_count": 141,
   "id": "3ce56534",
   "metadata": {},
   "outputs": [
    {
     "data": {
      "text/plain": [
       "{'Error': 0, 'TypeError': 1}"
      ]
     },
     "execution_count": 141,
     "metadata": {},
     "output_type": "execute_result"
    }
   ],
   "source": [
    "map_types = {}\n",
    "\n",
    "def mapping_type_to_position(list_types_of_erros):\n",
    "    for i in range(len(list_types_of_erros)):\n",
    "        map_types[list_types_of_erros[i]] = i\n",
    "        \n",
    "mapping_type_to_position(error_types_by_peak_time_values)\n",
    "map_types"
   ]
  },
  {
   "cell_type": "markdown",
   "id": "12432b1b",
   "metadata": {},
   "source": [
    "Getting the amount of errors for each type and time"
   ]
  },
  {
   "cell_type": "code",
   "execution_count": 142,
   "id": "3281526d",
   "metadata": {},
   "outputs": [
    {
     "data": {
      "text/plain": [
       "{7: [139, 5], 8: [33, 2], 9: [25, 3]}"
      ]
     },
     "execution_count": 142,
     "metadata": {},
     "output_type": "execute_result"
    }
   ],
   "source": [
    "def get_amount(list_types, list_of_all_types, list_elements, list_of_all_elements):\n",
    "    for unique_type in list_types:\n",
    "        for i in range(len(list_of_all_types)):\n",
    "            if list_of_all_types[i] == unique_type:\n",
    "                if list_of_all_elements[i] in list_elements:\n",
    "                    result[list_of_all_elements[i]][map_types[unique_type]] += list_of_ui_event_id_count[i]\n",
    "                    \n",
    "get_amount(error_types_by_peak_time_values, list_of_ui_event_source, top_hours_values, list_of_hour)\n",
    "result"
   ]
  },
  {
   "cell_type": "markdown",
   "id": "1ab08564",
   "metadata": {},
   "source": [
    "Getting the dictionary relating types of errors and the count by peak hour"
   ]
  },
  {
   "cell_type": "code",
   "execution_count": 143,
   "id": "3edca05b",
   "metadata": {},
   "outputs": [
    {
     "data": {
      "text/plain": [
       "{'Error': [139, 33, 25], 'TypeError': [5, 2, 3]}"
      ]
     },
     "execution_count": 143,
     "metadata": {},
     "output_type": "execute_result"
    }
   ],
   "source": [
    "errors_dict = {}\n",
    "\n",
    "for error_type in error_types_by_peak_time_values:\n",
    "    errors_dict[error_type] = []\n",
    "    \n",
    "for error_type in error_types_by_peak_time_values:\n",
    "    for error_count in result.values():  \n",
    "        errors_dict[error_type].append(error_count[map_types[error_type]])\n",
    "        \n",
    "errors_dict"
   ]
  },
  {
   "cell_type": "markdown",
   "id": "687cb11d",
   "metadata": {},
   "source": [
    "Getting the max value of count"
   ]
  },
  {
   "cell_type": "code",
   "execution_count": 144,
   "id": "50aa2db5",
   "metadata": {},
   "outputs": [
    {
     "data": {
      "text/plain": [
       "139"
      ]
     },
     "execution_count": 144,
     "metadata": {},
     "output_type": "execute_result"
    }
   ],
   "source": [
    "max_value = 0\n",
    "\n",
    "for error_count in errors_dict.values():\n",
    "    max_value = max(max_value, max(error_count))\n",
    "    \n",
    "max_value"
   ]
  },
  {
   "cell_type": "markdown",
   "id": "f24fb563",
   "metadata": {},
   "source": [
    "Viewing the data"
   ]
  },
  {
   "cell_type": "code",
   "execution_count": 145,
   "id": "0afd156f",
   "metadata": {},
   "outputs": [
    {
     "data": {
      "text/plain": [
       "Text(0, 0.5, 'Count of errors')"
      ]
     },
     "execution_count": 145,
     "metadata": {},
     "output_type": "execute_result"
    },
    {
     "data": {
      "image/png": "[encoded data removed]",
      "text/plain": [
       "<Figure size 864x576 with 1 Axes>"
      ]
     },
     "metadata": {
      "needs_background": "light"
     },
     "output_type": "display_data"
    }
   ],
   "source": [
    "df = pd.DataFrame({'Hour': top_hours_values})\n",
    "for error_type in error_types_by_peak_time_values:\n",
    "    df[error_type] = errors_dict[error_type]\n",
    "\n",
    "ylim_value = (0, max_value + 0.1 * max_value)\n",
    "df.plot(x=\"Hour\", y=error_types_by_peak_time_values, kind=\"bar\", figsize=(12, 8), title='Count of types of errors by peak time', ylim=ylim_value).set_ylabel(\"Count of errors\")"
   ]
  },
  {
   "cell_type": "markdown",
   "id": "b8f5da43",
   "metadata": {},
   "source": [
    "---"
   ]
  },
  {
   "cell_type": "markdown",
   "id": "b5965dc4",
   "metadata": {},
   "source": [
    "## Analyzing types of errors by day"
   ]
  },
  {
   "cell_type": "code",
   "execution_count": 146,
   "id": "8903006d",
   "metadata": {},
   "outputs": [
    {
     "data": {
      "text/html": [
       "<div>\n",
       "<style scoped>\n",
       "    .dataframe tbody tr th:only-of-type {\n",
       "        vertical-align: middle;\n",
       "    }\n",
       "\n",
       "    .dataframe tbody tr th {\n",
       "        vertical-align: top;\n",
       "    }\n",
       "\n",
       "    .dataframe thead th {\n",
       "        text-align: right;\n",
       "    }\n",
       "</style>\n",
       "<table border=\"1\" class=\"dataframe\">\n",
       "  <thead>\n",
       "    <tr style=\"text-align: right;\">\n",
       "      <th></th>\n",
       "      <th>REPORT_ID_DERIVED</th>\n",
       "      <th>UI_EVENT_SOURCE</th>\n",
       "      <th>UI_EVENT_TYPE</th>\n",
       "      <th>UI_EVENT_ID</th>\n",
       "      <th>TIMESTAMP_DERIVED</th>\n",
       "      <th>TIMESTAMP_DERIVED_HOUR</th>\n",
       "      <th>TIMESTAMP_DERIVED_DAY</th>\n",
       "    </tr>\n",
       "  </thead>\n",
       "  <tbody>\n",
       "    <tr>\n",
       "      <th>0</th>\n",
       "      <td>00O2R000004AmwmUAC</td>\n",
       "      <td>Error</td>\n",
       "      <td>error</td>\n",
       "      <td>ltng:error</td>\n",
       "      <td>2022-06-28 01:17:00.510000+00:00</td>\n",
       "      <td>1</td>\n",
       "      <td>28</td>\n",
       "    </tr>\n",
       "    <tr>\n",
       "      <th>1</th>\n",
       "      <td>00O2R000004AmwmUAC</td>\n",
       "      <td>Error</td>\n",
       "      <td>error</td>\n",
       "      <td>ltng:error</td>\n",
       "      <td>2022-06-28 01:17:00.509000+00:00</td>\n",
       "      <td>1</td>\n",
       "      <td>28</td>\n",
       "    </tr>\n",
       "    <tr>\n",
       "      <th>2</th>\n",
       "      <td>00O2R000004AmwmUAC</td>\n",
       "      <td>Error</td>\n",
       "      <td>error</td>\n",
       "      <td>ltng:error</td>\n",
       "      <td>2022-07-05 07:21:35.026000+00:00</td>\n",
       "      <td>7</td>\n",
       "      <td>5</td>\n",
       "    </tr>\n",
       "    <tr>\n",
       "      <th>3</th>\n",
       "      <td>00O2R000004AmwmUAC</td>\n",
       "      <td>Error</td>\n",
       "      <td>error</td>\n",
       "      <td>ltng:error</td>\n",
       "      <td>2022-07-05 07:46:29.681000+00:00</td>\n",
       "      <td>7</td>\n",
       "      <td>5</td>\n",
       "    </tr>\n",
       "    <tr>\n",
       "      <th>4</th>\n",
       "      <td>00O2R000004AmwmUAC</td>\n",
       "      <td>unknown</td>\n",
       "      <td>error</td>\n",
       "      <td>ltng:error</td>\n",
       "      <td>2022-07-05 17:06:18.837000+00:00</td>\n",
       "      <td>17</td>\n",
       "      <td>5</td>\n",
       "    </tr>\n",
       "    <tr>\n",
       "      <th>...</th>\n",
       "      <td>...</td>\n",
       "      <td>...</td>\n",
       "      <td>...</td>\n",
       "      <td>...</td>\n",
       "      <td>...</td>\n",
       "      <td>...</td>\n",
       "      <td>...</td>\n",
       "    </tr>\n",
       "    <tr>\n",
       "      <th>239</th>\n",
       "      <td>00O0b000004keC5EAI</td>\n",
       "      <td>Error</td>\n",
       "      <td>error</td>\n",
       "      <td>ltng:error</td>\n",
       "      <td>2022-07-27 07:55:46.503000+00:00</td>\n",
       "      <td>7</td>\n",
       "      <td>27</td>\n",
       "    </tr>\n",
       "    <tr>\n",
       "      <th>240</th>\n",
       "      <td>00O0b000004keC5EAI</td>\n",
       "      <td>Error</td>\n",
       "      <td>error</td>\n",
       "      <td>ltng:error</td>\n",
       "      <td>2022-07-27 07:55:46.500000+00:00</td>\n",
       "      <td>7</td>\n",
       "      <td>27</td>\n",
       "    </tr>\n",
       "    <tr>\n",
       "      <th>241</th>\n",
       "      <td>00O0b000004keC5EAI</td>\n",
       "      <td>Error</td>\n",
       "      <td>error</td>\n",
       "      <td>ltng:error</td>\n",
       "      <td>2022-07-27 09:03:19.938000+00:00</td>\n",
       "      <td>9</td>\n",
       "      <td>27</td>\n",
       "    </tr>\n",
       "    <tr>\n",
       "      <th>242</th>\n",
       "      <td>00O0b000004keC5EAI</td>\n",
       "      <td>Error</td>\n",
       "      <td>error</td>\n",
       "      <td>ltng:error</td>\n",
       "      <td>2022-07-27 09:03:19.939000+00:00</td>\n",
       "      <td>9</td>\n",
       "      <td>27</td>\n",
       "    </tr>\n",
       "    <tr>\n",
       "      <th>243</th>\n",
       "      <td>00O0b000004keC5EAI</td>\n",
       "      <td>Error</td>\n",
       "      <td>error</td>\n",
       "      <td>ltng:error</td>\n",
       "      <td>2022-07-27 09:03:19.941000+00:00</td>\n",
       "      <td>9</td>\n",
       "      <td>27</td>\n",
       "    </tr>\n",
       "  </tbody>\n",
       "</table>\n",
       "<p>234 rows × 7 columns</p>\n",
       "</div>"
      ],
      "text/plain": [
       "      REPORT_ID_DERIVED UI_EVENT_SOURCE UI_EVENT_TYPE UI_EVENT_ID  \\\n",
       "0    00O2R000004AmwmUAC           Error         error  ltng:error   \n",
       "1    00O2R000004AmwmUAC           Error         error  ltng:error   \n",
       "2    00O2R000004AmwmUAC           Error         error  ltng:error   \n",
       "3    00O2R000004AmwmUAC           Error         error  ltng:error   \n",
       "4    00O2R000004AmwmUAC         unknown         error  ltng:error   \n",
       "..                  ...             ...           ...         ...   \n",
       "239  00O0b000004keC5EAI           Error         error  ltng:error   \n",
       "240  00O0b000004keC5EAI           Error         error  ltng:error   \n",
       "241  00O0b000004keC5EAI           Error         error  ltng:error   \n",
       "242  00O0b000004keC5EAI           Error         error  ltng:error   \n",
       "243  00O0b000004keC5EAI           Error         error  ltng:error   \n",
       "\n",
       "                   TIMESTAMP_DERIVED  TIMESTAMP_DERIVED_HOUR  \\\n",
       "0   2022-06-28 01:17:00.510000+00:00                       1   \n",
       "1   2022-06-28 01:17:00.509000+00:00                       1   \n",
       "2   2022-07-05 07:21:35.026000+00:00                       7   \n",
       "3   2022-07-05 07:46:29.681000+00:00                       7   \n",
       "4   2022-07-05 17:06:18.837000+00:00                      17   \n",
       "..                               ...                     ...   \n",
       "239 2022-07-27 07:55:46.503000+00:00                       7   \n",
       "240 2022-07-27 07:55:46.500000+00:00                       7   \n",
       "241 2022-07-27 09:03:19.938000+00:00                       9   \n",
       "242 2022-07-27 09:03:19.939000+00:00                       9   \n",
       "243 2022-07-27 09:03:19.941000+00:00                       9   \n",
       "\n",
       "     TIMESTAMP_DERIVED_DAY  \n",
       "0                       28  \n",
       "1                       28  \n",
       "2                        5  \n",
       "3                        5  \n",
       "4                        5  \n",
       "..                     ...  \n",
       "239                     27  \n",
       "240                     27  \n",
       "241                     27  \n",
       "242                     27  \n",
       "243                     27  \n",
       "\n",
       "[234 rows x 7 columns]"
      ]
     },
     "execution_count": 146,
     "metadata": {},
     "output_type": "execute_result"
    }
   ],
   "source": [
    "ltng_reports_filtered"
   ]
  },
  {
   "cell_type": "markdown",
   "id": "8dde911c",
   "metadata": {},
   "source": [
    "Getting the count of erros for each group of type and hour of the day"
   ]
  },
  {
   "cell_type": "code",
   "execution_count": 147,
   "id": "7f3ea0d1",
   "metadata": {},
   "outputs": [],
   "source": [
    "ltng_reports_filtered_group = ltng_reports_filtered.groupby(['TIMESTAMP_DERIVED_HOUR', \n",
    "                                                     'UI_EVENT_SOURCE']).agg({'UI_EVENT_ID': 'count'})"
   ]
  },
  {
   "cell_type": "code",
   "execution_count": 148,
   "id": "3644bba8",
   "metadata": {},
   "outputs": [
    {
     "data": {
      "text/html": [
       "<div>\n",
       "<style scoped>\n",
       "    .dataframe tbody tr th:only-of-type {\n",
       "        vertical-align: middle;\n",
       "    }\n",
       "\n",
       "    .dataframe tbody tr th {\n",
       "        vertical-align: top;\n",
       "    }\n",
       "\n",
       "    .dataframe thead th {\n",
       "        text-align: right;\n",
       "    }\n",
       "</style>\n",
       "<table border=\"1\" class=\"dataframe\">\n",
       "  <thead>\n",
       "    <tr style=\"text-align: right;\">\n",
       "      <th></th>\n",
       "      <th></th>\n",
       "      <th>UI_EVENT_ID</th>\n",
       "    </tr>\n",
       "    <tr>\n",
       "      <th>TIMESTAMP_DERIVED_HOUR</th>\n",
       "      <th>UI_EVENT_SOURCE</th>\n",
       "      <th></th>\n",
       "    </tr>\n",
       "  </thead>\n",
       "  <tbody>\n",
       "    <tr>\n",
       "      <th>1</th>\n",
       "      <th>Error</th>\n",
       "      <td>7</td>\n",
       "    </tr>\n",
       "    <tr>\n",
       "      <th>2</th>\n",
       "      <th>Error</th>\n",
       "      <td>6</td>\n",
       "    </tr>\n",
       "    <tr>\n",
       "      <th rowspan=\"2\" valign=\"top\">4</th>\n",
       "      <th>Error</th>\n",
       "      <td>2</td>\n",
       "    </tr>\n",
       "    <tr>\n",
       "      <th>TypeError</th>\n",
       "      <td>3</td>\n",
       "    </tr>\n",
       "    <tr>\n",
       "      <th rowspan=\"2\" valign=\"top\">7</th>\n",
       "      <th>Error</th>\n",
       "      <td>139</td>\n",
       "    </tr>\n",
       "    <tr>\n",
       "      <th>TypeError</th>\n",
       "      <td>5</td>\n",
       "    </tr>\n",
       "    <tr>\n",
       "      <th rowspan=\"2\" valign=\"top\">8</th>\n",
       "      <th>Error</th>\n",
       "      <td>33</td>\n",
       "    </tr>\n",
       "    <tr>\n",
       "      <th>TypeError</th>\n",
       "      <td>2</td>\n",
       "    </tr>\n",
       "    <tr>\n",
       "      <th rowspan=\"2\" valign=\"top\">9</th>\n",
       "      <th>Error</th>\n",
       "      <td>25</td>\n",
       "    </tr>\n",
       "    <tr>\n",
       "      <th>TypeError</th>\n",
       "      <td>3</td>\n",
       "    </tr>\n",
       "    <tr>\n",
       "      <th rowspan=\"2\" valign=\"top\">17</th>\n",
       "      <th>TypeError</th>\n",
       "      <td>8</td>\n",
       "    </tr>\n",
       "    <tr>\n",
       "      <th>unknown</th>\n",
       "      <td>1</td>\n",
       "    </tr>\n",
       "  </tbody>\n",
       "</table>\n",
       "</div>"
      ],
      "text/plain": [
       "                                        UI_EVENT_ID\n",
       "TIMESTAMP_DERIVED_HOUR UI_EVENT_SOURCE             \n",
       "1                      Error                      7\n",
       "2                      Error                      6\n",
       "4                      Error                      2\n",
       "                       TypeError                  3\n",
       "7                      Error                    139\n",
       "                       TypeError                  5\n",
       "8                      Error                     33\n",
       "                       TypeError                  2\n",
       "9                      Error                     25\n",
       "                       TypeError                  3\n",
       "17                     TypeError                  8\n",
       "                       unknown                    1"
      ]
     },
     "execution_count": 148,
     "metadata": {},
     "output_type": "execute_result"
    }
   ],
   "source": [
    "ltng_reports_filtered_group"
   ]
  },
  {
   "cell_type": "markdown",
   "id": "732ba7af",
   "metadata": {},
   "source": [
    "Reseting index"
   ]
  },
  {
   "cell_type": "code",
   "execution_count": 149,
   "id": "a610e28e",
   "metadata": {},
   "outputs": [],
   "source": [
    "ltng_reports_filtered_group.reset_index(inplace=True)"
   ]
  },
  {
   "cell_type": "code",
   "execution_count": 150,
   "id": "2e5f2317",
   "metadata": {},
   "outputs": [
    {
     "data": {
      "text/html": [
       "<div>\n",
       "<style scoped>\n",
       "    .dataframe tbody tr th:only-of-type {\n",
       "        vertical-align: middle;\n",
       "    }\n",
       "\n",
       "    .dataframe tbody tr th {\n",
       "        vertical-align: top;\n",
       "    }\n",
       "\n",
       "    .dataframe thead th {\n",
       "        text-align: right;\n",
       "    }\n",
       "</style>\n",
       "<table border=\"1\" class=\"dataframe\">\n",
       "  <thead>\n",
       "    <tr style=\"text-align: right;\">\n",
       "      <th></th>\n",
       "      <th>TIMESTAMP_DERIVED_HOUR</th>\n",
       "      <th>UI_EVENT_SOURCE</th>\n",
       "      <th>UI_EVENT_ID</th>\n",
       "    </tr>\n",
       "  </thead>\n",
       "  <tbody>\n",
       "    <tr>\n",
       "      <th>0</th>\n",
       "      <td>1</td>\n",
       "      <td>Error</td>\n",
       "      <td>7</td>\n",
       "    </tr>\n",
       "    <tr>\n",
       "      <th>1</th>\n",
       "      <td>2</td>\n",
       "      <td>Error</td>\n",
       "      <td>6</td>\n",
       "    </tr>\n",
       "    <tr>\n",
       "      <th>2</th>\n",
       "      <td>4</td>\n",
       "      <td>Error</td>\n",
       "      <td>2</td>\n",
       "    </tr>\n",
       "    <tr>\n",
       "      <th>3</th>\n",
       "      <td>4</td>\n",
       "      <td>TypeError</td>\n",
       "      <td>3</td>\n",
       "    </tr>\n",
       "    <tr>\n",
       "      <th>4</th>\n",
       "      <td>7</td>\n",
       "      <td>Error</td>\n",
       "      <td>139</td>\n",
       "    </tr>\n",
       "    <tr>\n",
       "      <th>5</th>\n",
       "      <td>7</td>\n",
       "      <td>TypeError</td>\n",
       "      <td>5</td>\n",
       "    </tr>\n",
       "    <tr>\n",
       "      <th>6</th>\n",
       "      <td>8</td>\n",
       "      <td>Error</td>\n",
       "      <td>33</td>\n",
       "    </tr>\n",
       "    <tr>\n",
       "      <th>7</th>\n",
       "      <td>8</td>\n",
       "      <td>TypeError</td>\n",
       "      <td>2</td>\n",
       "    </tr>\n",
       "    <tr>\n",
       "      <th>8</th>\n",
       "      <td>9</td>\n",
       "      <td>Error</td>\n",
       "      <td>25</td>\n",
       "    </tr>\n",
       "    <tr>\n",
       "      <th>9</th>\n",
       "      <td>9</td>\n",
       "      <td>TypeError</td>\n",
       "      <td>3</td>\n",
       "    </tr>\n",
       "    <tr>\n",
       "      <th>10</th>\n",
       "      <td>17</td>\n",
       "      <td>TypeError</td>\n",
       "      <td>8</td>\n",
       "    </tr>\n",
       "    <tr>\n",
       "      <th>11</th>\n",
       "      <td>17</td>\n",
       "      <td>unknown</td>\n",
       "      <td>1</td>\n",
       "    </tr>\n",
       "  </tbody>\n",
       "</table>\n",
       "</div>"
      ],
      "text/plain": [
       "    TIMESTAMP_DERIVED_HOUR UI_EVENT_SOURCE  UI_EVENT_ID\n",
       "0                        1           Error            7\n",
       "1                        2           Error            6\n",
       "2                        4           Error            2\n",
       "3                        4       TypeError            3\n",
       "4                        7           Error          139\n",
       "5                        7       TypeError            5\n",
       "6                        8           Error           33\n",
       "7                        8       TypeError            2\n",
       "8                        9           Error           25\n",
       "9                        9       TypeError            3\n",
       "10                      17       TypeError            8\n",
       "11                      17         unknown            1"
      ]
     },
     "execution_count": 150,
     "metadata": {},
     "output_type": "execute_result"
    }
   ],
   "source": [
    "ltng_reports_filtered_group"
   ]
  },
  {
   "cell_type": "markdown",
   "id": "5fc87248",
   "metadata": {},
   "source": [
    "Getting the data"
   ]
  },
  {
   "cell_type": "code",
   "execution_count": 151,
   "id": "5774b464",
   "metadata": {},
   "outputs": [],
   "source": [
    "list_of_hour = ltng_reports_filtered_group['TIMESTAMP_DERIVED_HOUR'].tolist()\n",
    "list_of_ui_event_source = ltng_reports_filtered_group['UI_EVENT_SOURCE'].tolist()\n",
    "list_of_ui_event_id_count = ltng_reports_filtered_group['UI_EVENT_ID'].tolist()\n",
    "list_of_unique_hour = ltng_reports_filtered_group['TIMESTAMP_DERIVED_HOUR'].unique()"
   ]
  },
  {
   "cell_type": "markdown",
   "id": "a5c7f427",
   "metadata": {},
   "source": [
    "Getting the result dictionary format"
   ]
  },
  {
   "cell_type": "code",
   "execution_count": 152,
   "id": "9a10f476",
   "metadata": {},
   "outputs": [
    {
     "data": {
      "text/plain": [
       "{1: [0, 0, 0],\n",
       " 2: [0, 0, 0],\n",
       " 4: [0, 0, 0],\n",
       " 7: [0, 0, 0],\n",
       " 8: [0, 0, 0],\n",
       " 9: [0, 0, 0],\n",
       " 17: [0, 0, 0]}"
      ]
     },
     "execution_count": 152,
     "metadata": {},
     "output_type": "execute_result"
    }
   ],
   "source": [
    "result = dictionary_format(error_types_by_day_values, list_of_hour)\n",
    "result"
   ]
  },
  {
   "cell_type": "markdown",
   "id": "8f88e705",
   "metadata": {},
   "source": [
    "Mapping the type of error to position"
   ]
  },
  {
   "cell_type": "code",
   "execution_count": 153,
   "id": "4ec4cc7c",
   "metadata": {},
   "outputs": [],
   "source": [
    "mapping_type_to_position(error_types_by_day_values)"
   ]
  },
  {
   "cell_type": "markdown",
   "id": "314f0fd7",
   "metadata": {},
   "source": [
    "Getting the amount of errors for each type and time"
   ]
  },
  {
   "cell_type": "code",
   "execution_count": 154,
   "id": "4aa73bbf",
   "metadata": {},
   "outputs": [
    {
     "data": {
      "text/plain": [
       "{1: [7, 0, 0],\n",
       " 2: [6, 0, 0],\n",
       " 4: [2, 3, 0],\n",
       " 7: [139, 5, 0],\n",
       " 8: [33, 2, 0],\n",
       " 9: [25, 3, 0],\n",
       " 17: [0, 8, 1]}"
      ]
     },
     "execution_count": 154,
     "metadata": {},
     "output_type": "execute_result"
    }
   ],
   "source": [
    "get_amount(error_types_by_day_values, list_of_ui_event_source, list_of_hour, list_of_hour)\n",
    "result"
   ]
  },
  {
   "cell_type": "code",
   "execution_count": 155,
   "id": "311b5580",
   "metadata": {},
   "outputs": [
    {
     "data": {
      "text/plain": [
       "{'Error': [7, 6, 2, 139, 33, 25, 0],\n",
       " 'TypeError': [0, 0, 3, 5, 2, 3, 8],\n",
       " 'unknown': [0, 0, 0, 0, 0, 0, 1]}"
      ]
     },
     "execution_count": 155,
     "metadata": {},
     "output_type": "execute_result"
    }
   ],
   "source": [
    "errors_dict = {}\n",
    "\n",
    "for error_type in error_types_by_day_values:\n",
    "    errors_dict[error_type] = []\n",
    "    \n",
    "for error_type in error_types_by_day_values:\n",
    "    for error_count in result.values():  \n",
    "        errors_dict[error_type].append(error_count[map_types[error_type]])\n",
    "        \n",
    "errors_dict"
   ]
  },
  {
   "cell_type": "code",
   "execution_count": 156,
   "id": "7eebf1f0",
   "metadata": {},
   "outputs": [
    {
     "data": {
      "text/plain": [
       "139"
      ]
     },
     "execution_count": 156,
     "metadata": {},
     "output_type": "execute_result"
    }
   ],
   "source": [
    "max_value = 0\n",
    "\n",
    "for error_count in errors_dict.values():\n",
    "    max_value = max(max_value, max(error_count))\n",
    "    \n",
    "max_value"
   ]
  },
  {
   "cell_type": "markdown",
   "id": "551ab3ad",
   "metadata": {},
   "source": [
    "Viewing the data"
   ]
  },
  {
   "cell_type": "code",
   "execution_count": 157,
   "id": "89548e0d",
   "metadata": {},
   "outputs": [
    {
     "data": {
      "text/plain": [
       "Text(0, 0.5, 'Count of errors')"
      ]
     },
     "execution_count": 157,
     "metadata": {},
     "output_type": "execute_result"
    },
    {
     "data": {
      "image/png": "[encoded data removed]",
      "text/plain": [
       "<Figure size 864x576 with 1 Axes>"
      ]
     },
     "metadata": {
      "needs_background": "light"
     },
     "output_type": "display_data"
    }
   ],
   "source": [
    "df = pd.DataFrame({'Hour': list_of_unique_hour})\n",
    "\n",
    "for error_type in error_types_by_day_values:\n",
    "    df[error_type] = errors_dict[error_type]\n",
    "\n",
    "ylim_value = (0, max_value + 0.1 * max_value)\n",
    "df.plot(x=\"Hour\", y=error_types_by_day_values, kind=\"bar\", figsize=(12, 8), title='Count of types of errors by day', ylim=ylim_value).set_ylabel(\"Count of errors\")"
   ]
  }
 ],
 "metadata": {
  "kernelspec": {
   "display_name": "Python 3 (ipykernel)",
   "language": "python",
   "name": "python3"
  },
  "language_info": {
   "codemirror_mode": {
    "name": "ipython",
    "version": 3
   },
   "file_extension": ".py",
   "mimetype": "text/x-python",
   "name": "python",
   "nbconvert_exporter": "python",
   "pygments_lexer": "ipython3",
   "version": "3.9.7"
  }
 },
 "nbformat": 4,
 "nbformat_minor": 5
}

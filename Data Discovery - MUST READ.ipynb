{
 "cells": [
  {
   "cell_type": "markdown",
   "id": "7ef9f082",
   "metadata": {},
   "source": [
    "# Saleforce data objects and logs\n",
    "\n",
    "Digging through the Salesforce data.\n",
    "\n",
    "> Questions that you will be able to answer at the end of this notebook.\n",
    ">1. [x] What are Salesforce objects?\n",
    ">2. [x] Where are the Salesforce objects?\n",
    ">3. [x] What are Lightning event logs?\n",
    ">4. [x] Where are the Lightning logs?\n",
    ">5. [x] What are the common features on lightning logs?\n",
    ">6. [x] How can we join different lightning log tables?\n",
    ">7. [x] How can we get report object Name and ID from lightning logs?"
   ]
  },
  {
   "cell_type": "code",
   "execution_count": 1,
   "id": "688b8a39",
   "metadata": {},
   "outputs": [],
   "source": [
    "import os\n",
    "import pandas as pd"
   ]
  },
  {
   "cell_type": "markdown",
   "id": "5b266fc7",
   "metadata": {},
   "source": [
    "Listing our sample data."
   ]
  },
  {
   "cell_type": "code",
   "execution_count": 2,
   "id": "60ec5d9d",
   "metadata": {},
   "outputs": [
    {
     "data": {
      "text/plain": [
       "['ELF', 'Objects']"
      ]
     },
     "execution_count": 2,
     "metadata": {},
     "output_type": "execute_result"
    }
   ],
   "source": [
    "os.listdir('data/Salesforce')"
   ]
  },
  {
   "cell_type": "markdown",
   "id": "7ffaf8d7",
   "metadata": {},
   "source": [
    "We have two types of data samples.\n",
    "\n",
    "- `Objects`- Salesforce objects.\n",
    "- `ELF` - Event log files.\n",
    "\n",
    "\n",
    "`Objects` are the entities created within the salesforce platform. It contains information about existing reports, dashboards, users, event log files, field definitions etc. The `ELF` are the logs created from these reports/dashboards, whether to capture user interactions, or to capture errors or analytical information about performance and pageview.\n",
    "\n",
    "\n",
    "## Lightning event logs\n",
    "\n",
    "There is a wide variety of event-related logs. But we will only be considering the following types of events in our analysis."
   ]
  },
  {
   "cell_type": "code",
   "execution_count": 3,
   "id": "cd379ccc",
   "metadata": {},
   "outputs": [
    {
     "data": {
      "text/plain": [
       "['LightningError',\n",
       " 'LightningInteraction',\n",
       " 'LightningPageView',\n",
       " 'LightningPerformance',\n",
       " 'Report']"
      ]
     },
     "execution_count": 3,
     "metadata": {},
     "output_type": "execute_result"
    }
   ],
   "source": [
    "os.listdir('data/Salesforce/ELF')"
   ]
  },
  {
   "cell_type": "markdown",
   "id": "e1cc8c08",
   "metadata": {},
   "source": [
    "All related to logs coming from the `Lightning platform`.\n",
    "\n",
    "- `Report` - User run reports.\n",
    "- `LightningPageView` - Page load time.\n",
    "- `LightingPerformance` - Runtime performance.\n",
    "- `LightingError`\n",
    "- `LightingInteraction`\n",
    "\n",
    "## Salesforce reports\n",
    "\n",
    "To get the files where these logs are saved and what they refer to we need the following samples."
   ]
  },
  {
   "cell_type": "code",
   "execution_count": 4,
   "id": "ada6bcd8",
   "metadata": {},
   "outputs": [
    {
     "data": {
      "text/plain": [
       "['DataLoad_Exception_Log__c_5k_sample.csv',\n",
       " 'EventDefinition_1k_samples.csv',\n",
       " 'EventLogFile_all_sample.csv',\n",
       " 'ExceptionLogger__c_5k_sample.csv',\n",
       " 'FieldDefinition_all_sample.csv',\n",
       " 'ReportEvent_50k_Sample.csv',\n",
       " 'Report_all_sample.csv']"
      ]
     },
     "execution_count": 4,
     "metadata": {},
     "output_type": "execute_result"
    }
   ],
   "source": [
    "os.listdir('data/Salesforce/Objects')"
   ]
  },
  {
   "cell_type": "markdown",
   "id": "ef1306df",
   "metadata": {},
   "source": [
    "Below the most important ones.\n",
    "\n",
    "- `Report` - Report objects.\n",
    "- `EventLogFile` - Defines the logs files based on event types.\n",
    "- `FieldDefinition` - Defines the fields and data typesfor the objects."
   ]
  },
  {
   "cell_type": "markdown",
   "id": "a65b2305",
   "metadata": {},
   "source": [
    "## 1. Exploratory Data Analysis\n",
    "---"
   ]
  },
  {
   "cell_type": "markdown",
   "id": "e31c5e99",
   "metadata": {},
   "source": [
    "### 1.1. Salesforce objects\n",
    "\n",
    "Loading report objects."
   ]
  },
  {
   "cell_type": "code",
   "execution_count": 5,
   "id": "a3bc1cb7",
   "metadata": {},
   "outputs": [],
   "source": [
    "report_objects = pd.read_csv(\"./data/Salesforce/Objects/Report_all_sample.csv\")"
   ]
  },
  {
   "cell_type": "code",
   "execution_count": 6,
   "id": "d73e14c3",
   "metadata": {},
   "outputs": [
    {
     "data": {
      "text/plain": [
       "(17397, 18)"
      ]
     },
     "execution_count": 6,
     "metadata": {},
     "output_type": "execute_result"
    }
   ],
   "source": [
    "report_objects.shape # (number of reports, number of report features)"
   ]
  },
  {
   "cell_type": "code",
   "execution_count": 7,
   "id": "8de2e344",
   "metadata": {},
   "outputs": [
    {
     "data": {
      "text/plain": [
       "['CreatedById',\n",
       " 'CreatedDate',\n",
       " 'Description',\n",
       " 'DeveloperName',\n",
       " 'FolderName',\n",
       " 'Format',\n",
       " 'Id',\n",
       " 'IsDeleted',\n",
       " 'LastModifiedById',\n",
       " 'LastModifiedDate',\n",
       " 'LastReferencedDate',\n",
       " 'LastRunDate',\n",
       " 'LastViewedDate',\n",
       " 'Name',\n",
       " 'NamespacePrefix',\n",
       " 'OwnerId',\n",
       " 'ReportTypeApiName',\n",
       " 'SystemModstamp']"
      ]
     },
     "execution_count": 7,
     "metadata": {},
     "output_type": "execute_result"
    }
   ],
   "source": [
    "list(report_objects.columns)"
   ]
  },
  {
   "cell_type": "markdown",
   "id": "350615fc",
   "metadata": {},
   "source": [
    "From there we have access to various information, including the `Name` and `Id` of the report. We also have the `LastRunDate` of its execution, important information for our future analyses."
   ]
  },
  {
   "cell_type": "code",
   "execution_count": 8,
   "id": "63f04134",
   "metadata": {},
   "outputs": [
    {
     "data": {
      "text/html": [
       "<div>\n",
       "<style scoped>\n",
       "    .dataframe tbody tr th:only-of-type {\n",
       "        vertical-align: middle;\n",
       "    }\n",
       "\n",
       "    .dataframe tbody tr th {\n",
       "        vertical-align: top;\n",
       "    }\n",
       "\n",
       "    .dataframe thead th {\n",
       "        text-align: right;\n",
       "    }\n",
       "</style>\n",
       "<table border=\"1\" class=\"dataframe\">\n",
       "  <thead>\n",
       "    <tr style=\"text-align: right;\">\n",
       "      <th></th>\n",
       "      <th>Id</th>\n",
       "      <th>Name</th>\n",
       "      <th>FolderName</th>\n",
       "      <th>Format</th>\n",
       "      <th>LastRunDate</th>\n",
       "    </tr>\n",
       "  </thead>\n",
       "  <tbody>\n",
       "    <tr>\n",
       "      <th>15119</th>\n",
       "      <td>00O2R000003s29hUAA</td>\n",
       "      <td>Billing Milestones for Custom (AS EDIT)</td>\n",
       "      <td>Finance AMER SME</td>\n",
       "      <td>Tabular</td>\n",
       "      <td>2021-06-14T14:56:44.000Z</td>\n",
       "    </tr>\n",
       "    <tr>\n",
       "      <th>7810</th>\n",
       "      <td>00O6P000000NvsaUAC</td>\n",
       "      <td>Copy of S&amp;AS Planned Queues</td>\n",
       "      <td>BTT - Silvano Private Reports (shared)</td>\n",
       "      <td>Tabular</td>\n",
       "      <td>2022-02-23T10:23:38.000Z</td>\n",
       "    </tr>\n",
       "    <tr>\n",
       "      <th>9884</th>\n",
       "      <td>00O2R000003s2LYUAY</td>\n",
       "      <td>My Team Forecast Rev by Month</td>\n",
       "      <td>PDM Operations Dashboard (Public)</td>\n",
       "      <td>Summary</td>\n",
       "      <td>2022-06-19T14:00:02.000Z</td>\n",
       "    </tr>\n",
       "    <tr>\n",
       "      <th>7596</th>\n",
       "      <td>00O6P0000012iwaUAA</td>\n",
       "      <td>AMER - Dish Open Cases By ESG Products</td>\n",
       "      <td>ISG_NA_BusinessExcellence</td>\n",
       "      <td>Summary</td>\n",
       "      <td>2022-05-12T19:09:20.000Z</td>\n",
       "    </tr>\n",
       "    <tr>\n",
       "      <th>3372</th>\n",
       "      <td>00O1P000003Qi4zUAC</td>\n",
       "      <td>Q3 Timecard Submissions</td>\n",
       "      <td>Utilization Reporting</td>\n",
       "      <td>Matrix</td>\n",
       "      <td>2022-02-02T01:23:12.000Z</td>\n",
       "    </tr>\n",
       "  </tbody>\n",
       "</table>\n",
       "</div>"
      ],
      "text/plain": [
       "                       Id                                     Name  \\\n",
       "15119  00O2R000003s29hUAA  Billing Milestones for Custom (AS EDIT)   \n",
       "7810   00O6P000000NvsaUAC              Copy of S&AS Planned Queues   \n",
       "9884   00O2R000003s2LYUAY            My Team Forecast Rev by Month   \n",
       "7596   00O6P0000012iwaUAA   AMER - Dish Open Cases By ESG Products   \n",
       "3372   00O1P000003Qi4zUAC                  Q3 Timecard Submissions   \n",
       "\n",
       "                                   FolderName   Format  \\\n",
       "15119                        Finance AMER SME  Tabular   \n",
       "7810   BTT - Silvano Private Reports (shared)  Tabular   \n",
       "9884        PDM Operations Dashboard (Public)  Summary   \n",
       "7596                ISG_NA_BusinessExcellence  Summary   \n",
       "3372                    Utilization Reporting   Matrix   \n",
       "\n",
       "                    LastRunDate  \n",
       "15119  2021-06-14T14:56:44.000Z  \n",
       "7810   2022-02-23T10:23:38.000Z  \n",
       "9884   2022-06-19T14:00:02.000Z  \n",
       "7596   2022-05-12T19:09:20.000Z  \n",
       "3372   2022-02-02T01:23:12.000Z  "
      ]
     },
     "execution_count": 8,
     "metadata": {},
     "output_type": "execute_result"
    }
   ],
   "source": [
    "interest_columns = ['Id', 'Name', 'FolderName', 'Format', 'LastRunDate']\n",
    "report_objects[interest_columns].sample(5)"
   ]
  },
  {
   "cell_type": "markdown",
   "id": "5c897de6",
   "metadata": {},
   "source": [
    "### 1.2. Lightning event logs\n",
    "\n",
    "Loading Lightning event logs."
   ]
  },
  {
   "cell_type": "code",
   "execution_count": 9,
   "id": "eedb066f",
   "metadata": {},
   "outputs": [
    {
     "name": "stdout",
     "output_type": "stream",
     "text": [
      "2022-06-01_LightningError.csv\n",
      "2022-06-04_LightningInteraction.csv\n",
      "2022-06-04_LightningPageView.csv\n",
      "2022-06-04_LightningPerformance.csv\n",
      "2022-06-04_Report.csv\n"
     ]
    }
   ],
   "source": [
    "ltng_elf_path = 'data/Salesforce/ELF'\n",
    "ltng_logs = {}\n",
    "\n",
    "for event_log_file in os.listdir(ltng_elf_path):\n",
    "    log_path = os.path.join(ltng_elf_path, event_log_file)\n",
    "    log_samples = os.listdir(log_path)\n",
    "    random_logs = sorted(log_samples)[0]\n",
    "    print(random_logs)\n",
    "    log_name = random_logs.split(\"_\", 1)[-1][:-4]\n",
    "    if log_name.startswith('Lightning'):\n",
    "        log_name = log_name[len('Lightning'):]\n",
    "    ltng_logs[log_name] = pd.read_csv(log_path +\"/\"+ random_logs, nrows=1000, low_memory=False)"
   ]
  },
  {
   "cell_type": "code",
   "execution_count": 10,
   "id": "66a3d339",
   "metadata": {},
   "outputs": [
    {
     "data": {
      "text/plain": [
       "dict_keys(['Error', 'Interaction', 'PageView', 'Performance', 'Report'])"
      ]
     },
     "execution_count": 10,
     "metadata": {},
     "output_type": "execute_result"
    }
   ],
   "source": [
    "ltng_logs.keys()"
   ]
  },
  {
   "cell_type": "markdown",
   "id": "cb087def",
   "metadata": {},
   "source": [
    "All event log features that we are considering follows the most recent Salesforce developer documentation at `version 55`."
   ]
  },
  {
   "cell_type": "markdown",
   "id": "2e33274d",
   "metadata": {},
   "source": [
    "#### 1.2.1. Report event"
   ]
  },
  {
   "cell_type": "code",
   "execution_count": 11,
   "id": "b57e239e",
   "metadata": {},
   "outputs": [],
   "source": [
    "report_event_cols = ltng_logs['Report'].columns\n",
    "# sorted(report_event_cols)"
   ]
  },
  {
   "cell_type": "code",
   "execution_count": 12,
   "id": "fcdb8e2b",
   "metadata": {},
   "outputs": [
    {
     "data": {
      "text/plain": [
       "(31,)"
      ]
     },
     "execution_count": 12,
     "metadata": {},
     "output_type": "execute_result"
    }
   ],
   "source": [
    "report_event_cols.shape # number of feature columns"
   ]
  },
  {
   "cell_type": "markdown",
   "id": "7da102a7",
   "metadata": {},
   "source": [
    "#### 1.2.2. Performance"
   ]
  },
  {
   "cell_type": "code",
   "execution_count": 13,
   "id": "aa1bad4c",
   "metadata": {},
   "outputs": [
    {
     "data": {
      "text/plain": [
       "['APP_NAME',\n",
       " 'BROWSER_NAME',\n",
       " 'BROWSER_VERSION',\n",
       " 'CLIENT_GEO',\n",
       " 'CLIENT_ID',\n",
       " 'CLIENT_IP',\n",
       " 'CONNECTION_TYPE',\n",
       " 'DEVICE_ID',\n",
       " 'DEVICE_MODEL',\n",
       " 'DEVICE_PLATFORM',\n",
       " 'DEVICE_SESSION_ID',\n",
       " 'DURATION',\n",
       " 'EVENT_TYPE',\n",
       " 'LOGIN_KEY',\n",
       " 'ORGANIZATION_ID',\n",
       " 'OS_NAME',\n",
       " 'OS_VERSION',\n",
       " 'PAGE_START_TIME',\n",
       " 'REQUEST_ID',\n",
       " 'SDK_APP_TYPE',\n",
       " 'SDK_APP_VERSION',\n",
       " 'SDK_VERSION',\n",
       " 'SESSION_KEY',\n",
       " 'TIMESTAMP',\n",
       " 'TIMESTAMP_DERIVED',\n",
       " 'UI_EVENT_ID',\n",
       " 'UI_EVENT_SOURCE',\n",
       " 'UI_EVENT_TIMESTAMP',\n",
       " 'UI_EVENT_TYPE',\n",
       " 'USER_AGENT',\n",
       " 'USER_ID',\n",
       " 'USER_ID_DERIVED',\n",
       " 'USER_TYPE']"
      ]
     },
     "execution_count": 13,
     "metadata": {},
     "output_type": "execute_result"
    }
   ],
   "source": [
    "performance_event_cols = ltng_logs['Performance'].columns\n",
    "sorted(performance_event_cols)"
   ]
  },
  {
   "cell_type": "code",
   "execution_count": 14,
   "id": "9e3488f0",
   "metadata": {},
   "outputs": [
    {
     "data": {
      "text/plain": [
       "(33,)"
      ]
     },
     "execution_count": 14,
     "metadata": {},
     "output_type": "execute_result"
    }
   ],
   "source": [
    "performance_event_cols.shape"
   ]
  },
  {
   "cell_type": "markdown",
   "id": "fd7f117a",
   "metadata": {},
   "source": [
    "#### 1.2.3. PageView"
   ]
  },
  {
   "cell_type": "code",
   "execution_count": 15,
   "id": "fbdb0456",
   "metadata": {},
   "outputs": [],
   "source": [
    "pageview_event_cols = ltng_logs['PageView'].columns\n",
    "# sorted(pageview_event_cols)"
   ]
  },
  {
   "cell_type": "code",
   "execution_count": 16,
   "id": "6e9c2830",
   "metadata": {},
   "outputs": [
    {
     "data": {
      "text/plain": [
       "(50,)"
      ]
     },
     "execution_count": 16,
     "metadata": {},
     "output_type": "execute_result"
    }
   ],
   "source": [
    "pageview_event_cols.shape"
   ]
  },
  {
   "cell_type": "markdown",
   "id": "7590d4c3",
   "metadata": {},
   "source": [
    "#### 1.2.4. Error"
   ]
  },
  {
   "cell_type": "code",
   "execution_count": 17,
   "id": "8fa9fed7",
   "metadata": {},
   "outputs": [],
   "source": [
    "error_event_cols = ltng_logs['Error'].columns\n",
    "# sorted(error_event_cols)"
   ]
  },
  {
   "cell_type": "code",
   "execution_count": 18,
   "id": "35fff110",
   "metadata": {},
   "outputs": [
    {
     "data": {
      "text/plain": [
       "(39,)"
      ]
     },
     "execution_count": 18,
     "metadata": {},
     "output_type": "execute_result"
    }
   ],
   "source": [
    "error_event_cols.shape"
   ]
  },
  {
   "cell_type": "markdown",
   "id": "f0738fc3",
   "metadata": {},
   "source": [
    "#### 1.2.5. Interaction"
   ]
  },
  {
   "cell_type": "code",
   "execution_count": 19,
   "id": "9192f511",
   "metadata": {},
   "outputs": [],
   "source": [
    "interaction_event_cols = ltng_logs['Interaction'].columns\n",
    "# sorted(inter_event_cols)"
   ]
  },
  {
   "cell_type": "code",
   "execution_count": 20,
   "id": "9d15a6fe",
   "metadata": {},
   "outputs": [
    {
     "data": {
      "text/plain": [
       "(46,)"
      ]
     },
     "execution_count": 20,
     "metadata": {},
     "output_type": "execute_result"
    }
   ],
   "source": [
    "interaction_event_cols.shape"
   ]
  },
  {
   "cell_type": "markdown",
   "id": "a2e0899f",
   "metadata": {},
   "source": [
    "### 1.3. Common features"
   ]
  },
  {
   "cell_type": "code",
   "execution_count": 21,
   "id": "bc36cbde",
   "metadata": {},
   "outputs": [],
   "source": [
    "common_columns = set(\n",
    "    list(report_event_cols) + \n",
    "    list(performance_event_cols) +\n",
    "    list(pageview_event_cols) +\n",
    "    list(error_event_cols) + \n",
    "    list(interaction_event_cols))"
   ]
  },
  {
   "cell_type": "code",
   "execution_count": 22,
   "id": "7df5652f",
   "metadata": {},
   "outputs": [],
   "source": [
    "from collections import defaultdict\n",
    "\n",
    "ltng_log_features = defaultdict(list)\n",
    "\n",
    "for feature in common_columns:\n",
    "    ltng_log_features['Feature'].append(feature)\n",
    "    for event_type in ltng_logs.keys():\n",
    "        ltng_log_features[event_type].append(feature in list(ltng_logs[event_type].columns))"
   ]
  },
  {
   "cell_type": "markdown",
   "id": "be64565f",
   "metadata": {},
   "source": [
    "Here we have the list of all the features found in the logs. We can check which of them are present in each report event type."
   ]
  },
  {
   "cell_type": "code",
   "execution_count": 23,
   "id": "51ea8db7",
   "metadata": {
    "scrolled": false
   },
   "outputs": [
    {
     "data": {
      "text/html": [
       "<div>\n",
       "<style scoped>\n",
       "    .dataframe tbody tr th:only-of-type {\n",
       "        vertical-align: middle;\n",
       "    }\n",
       "\n",
       "    .dataframe tbody tr th {\n",
       "        vertical-align: top;\n",
       "    }\n",
       "\n",
       "    .dataframe thead th {\n",
       "        text-align: right;\n",
       "    }\n",
       "</style>\n",
       "<table border=\"1\" class=\"dataframe\">\n",
       "  <thead>\n",
       "    <tr style=\"text-align: right;\">\n",
       "      <th></th>\n",
       "      <th>Feature</th>\n",
       "      <th>Error</th>\n",
       "      <th>Interaction</th>\n",
       "      <th>PageView</th>\n",
       "      <th>Performance</th>\n",
       "      <th>Report</th>\n",
       "    </tr>\n",
       "  </thead>\n",
       "  <tbody>\n",
       "    <tr>\n",
       "      <th>0</th>\n",
       "      <td>CLIENT_GEO</td>\n",
       "      <td>True</td>\n",
       "      <td>True</td>\n",
       "      <td>True</td>\n",
       "      <td>True</td>\n",
       "      <td>False</td>\n",
       "    </tr>\n",
       "    <tr>\n",
       "      <th>1</th>\n",
       "      <td>PAGE_ENTITY_ID</td>\n",
       "      <td>True</td>\n",
       "      <td>True</td>\n",
       "      <td>True</td>\n",
       "      <td>False</td>\n",
       "      <td>False</td>\n",
       "    </tr>\n",
       "    <tr>\n",
       "      <th>2</th>\n",
       "      <td>DEVICE_SESSION_ID</td>\n",
       "      <td>True</td>\n",
       "      <td>True</td>\n",
       "      <td>True</td>\n",
       "      <td>True</td>\n",
       "      <td>False</td>\n",
       "    </tr>\n",
       "    <tr>\n",
       "      <th>3</th>\n",
       "      <td>SDK_VERSION</td>\n",
       "      <td>True</td>\n",
       "      <td>True</td>\n",
       "      <td>True</td>\n",
       "      <td>True</td>\n",
       "      <td>False</td>\n",
       "    </tr>\n",
       "    <tr>\n",
       "      <th>4</th>\n",
       "      <td>OS_VERSION</td>\n",
       "      <td>True</td>\n",
       "      <td>True</td>\n",
       "      <td>True</td>\n",
       "      <td>True</td>\n",
       "      <td>False</td>\n",
       "    </tr>\n",
       "    <tr>\n",
       "      <th>...</th>\n",
       "      <td>...</td>\n",
       "      <td>...</td>\n",
       "      <td>...</td>\n",
       "      <td>...</td>\n",
       "      <td>...</td>\n",
       "      <td>...</td>\n",
       "    </tr>\n",
       "    <tr>\n",
       "      <th>70</th>\n",
       "      <td>SESSION_KEY</td>\n",
       "      <td>True</td>\n",
       "      <td>True</td>\n",
       "      <td>True</td>\n",
       "      <td>True</td>\n",
       "      <td>True</td>\n",
       "    </tr>\n",
       "    <tr>\n",
       "      <th>71</th>\n",
       "      <td>EVENT_TYPE</td>\n",
       "      <td>True</td>\n",
       "      <td>True</td>\n",
       "      <td>True</td>\n",
       "      <td>True</td>\n",
       "      <td>True</td>\n",
       "    </tr>\n",
       "    <tr>\n",
       "      <th>72</th>\n",
       "      <td>UI_EVENT_TIMESTAMP</td>\n",
       "      <td>True</td>\n",
       "      <td>True</td>\n",
       "      <td>True</td>\n",
       "      <td>True</td>\n",
       "      <td>False</td>\n",
       "    </tr>\n",
       "    <tr>\n",
       "      <th>73</th>\n",
       "      <td>NUMBER_COLUMNS</td>\n",
       "      <td>False</td>\n",
       "      <td>False</td>\n",
       "      <td>False</td>\n",
       "      <td>False</td>\n",
       "      <td>True</td>\n",
       "    </tr>\n",
       "    <tr>\n",
       "      <th>74</th>\n",
       "      <td>RUN_TIME</td>\n",
       "      <td>False</td>\n",
       "      <td>False</td>\n",
       "      <td>False</td>\n",
       "      <td>False</td>\n",
       "      <td>True</td>\n",
       "    </tr>\n",
       "  </tbody>\n",
       "</table>\n",
       "<p>75 rows × 6 columns</p>\n",
       "</div>"
      ],
      "text/plain": [
       "               Feature  Error  Interaction  PageView  Performance  Report\n",
       "0           CLIENT_GEO   True         True      True         True   False\n",
       "1       PAGE_ENTITY_ID   True         True      True        False   False\n",
       "2    DEVICE_SESSION_ID   True         True      True         True   False\n",
       "3          SDK_VERSION   True         True      True         True   False\n",
       "4           OS_VERSION   True         True      True         True   False\n",
       "..                 ...    ...          ...       ...          ...     ...\n",
       "70         SESSION_KEY   True         True      True         True    True\n",
       "71          EVENT_TYPE   True         True      True         True    True\n",
       "72  UI_EVENT_TIMESTAMP   True         True      True         True   False\n",
       "73      NUMBER_COLUMNS  False        False     False        False    True\n",
       "74            RUN_TIME  False        False     False        False    True\n",
       "\n",
       "[75 rows x 6 columns]"
      ]
     },
     "execution_count": 23,
     "metadata": {},
     "output_type": "execute_result"
    }
   ],
   "source": [
    "pd.DataFrame(ltng_log_features)"
   ]
  },
  {
   "cell_type": "code",
   "execution_count": 24,
   "id": "9f4c2850",
   "metadata": {},
   "outputs": [],
   "source": [
    "common_log_features = pd.DataFrame(ltng_log_features)"
   ]
  },
  {
   "cell_type": "code",
   "execution_count": 25,
   "id": "8d361238",
   "metadata": {},
   "outputs": [],
   "source": [
    "# common_log_features.to_csv('datasets/common_features_in_the_logs.csv', index=False)"
   ]
  },
  {
   "cell_type": "markdown",
   "id": "b1c12ea4",
   "metadata": {},
   "source": [
    "#### 1.3.1. Finding the relationship between these logs"
   ]
  },
  {
   "cell_type": "markdown",
   "id": "a0c65b7a",
   "metadata": {},
   "source": [
    "Let's see how can we associate these logs by looking at the `REPORT_ID` column."
   ]
  },
  {
   "cell_type": "code",
   "execution_count": 26,
   "id": "96a1b174",
   "metadata": {},
   "outputs": [
    {
     "data": {
      "text/html": [
       "<div>\n",
       "<style scoped>\n",
       "    .dataframe tbody tr th:only-of-type {\n",
       "        vertical-align: middle;\n",
       "    }\n",
       "\n",
       "    .dataframe tbody tr th {\n",
       "        vertical-align: top;\n",
       "    }\n",
       "\n",
       "    .dataframe thead th {\n",
       "        text-align: right;\n",
       "    }\n",
       "</style>\n",
       "<table border=\"1\" class=\"dataframe\">\n",
       "  <thead>\n",
       "    <tr style=\"text-align: right;\">\n",
       "      <th></th>\n",
       "      <th>Feature</th>\n",
       "      <th>Error</th>\n",
       "      <th>Interaction</th>\n",
       "      <th>PageView</th>\n",
       "      <th>Performance</th>\n",
       "      <th>Report</th>\n",
       "    </tr>\n",
       "  </thead>\n",
       "  <tbody>\n",
       "    <tr>\n",
       "      <th>15</th>\n",
       "      <td>REPORT_ID_DERIVED</td>\n",
       "      <td>False</td>\n",
       "      <td>False</td>\n",
       "      <td>False</td>\n",
       "      <td>False</td>\n",
       "      <td>True</td>\n",
       "    </tr>\n",
       "    <tr>\n",
       "      <th>43</th>\n",
       "      <td>REPORT_ID</td>\n",
       "      <td>False</td>\n",
       "      <td>False</td>\n",
       "      <td>False</td>\n",
       "      <td>False</td>\n",
       "      <td>True</td>\n",
       "    </tr>\n",
       "  </tbody>\n",
       "</table>\n",
       "</div>"
      ],
      "text/plain": [
       "              Feature  Error  Interaction  PageView  Performance  Report\n",
       "15  REPORT_ID_DERIVED  False        False     False        False    True\n",
       "43          REPORT_ID  False        False     False        False    True"
      ]
     },
     "execution_count": 26,
     "metadata": {},
     "output_type": "execute_result"
    }
   ],
   "source": [
    "common_log_features[common_log_features.Feature.str.startswith('REPORT')]"
   ]
  },
  {
   "cell_type": "markdown",
   "id": "f8a1045d",
   "metadata": {},
   "source": [
    "It looks like we don't have the **report identifier** in the Error, Interaction, PageView and Performance logs. But if we look at the endpoints present in the `PAGE_URL` column in all logs except for Performance. We can see that this informantion can be rescued."
   ]
  },
  {
   "cell_type": "code",
   "execution_count": 27,
   "id": "ef2aafdc",
   "metadata": {},
   "outputs": [
    {
     "data": {
      "text/plain": [
       "646    /lightning/o/DispatchPendingApproval__c/list?f...\n",
       "Name: PAGE_URL, dtype: object"
      ]
     },
     "execution_count": 27,
     "metadata": {},
     "output_type": "execute_result"
    }
   ],
   "source": [
    "ltng_logs['Error'].PAGE_URL.sample()"
   ]
  },
  {
   "cell_type": "code",
   "execution_count": 28,
   "id": "f1198a5e",
   "metadata": {},
   "outputs": [
    {
     "data": {
      "text/plain": [
       "619    /lightning/r/Case/5006P000005RnuoQAC/view\n",
       "Name: PAGE_URL, dtype: object"
      ]
     },
     "execution_count": 28,
     "metadata": {},
     "output_type": "execute_result"
    }
   ],
   "source": [
    "ltng_logs['Interaction'].PAGE_URL.sample()"
   ]
  },
  {
   "cell_type": "code",
   "execution_count": 29,
   "id": "f9049c46",
   "metadata": {},
   "outputs": [
    {
     "data": {
      "text/plain": [
       "458    /lightning/r/Task/00T6P00000HpXGQUA3/view?ws=%...\n",
       "Name: PAGE_URL, dtype: object"
      ]
     },
     "execution_count": 29,
     "metadata": {},
     "output_type": "execute_result"
    }
   ],
   "source": [
    "ltng_logs['PageView'].PAGE_URL.sample()"
   ]
  },
  {
   "cell_type": "markdown",
   "id": "29252cbd",
   "metadata": {},
   "source": [
    "We can also check our common features table."
   ]
  },
  {
   "cell_type": "code",
   "execution_count": 30,
   "id": "55e4fb73",
   "metadata": {},
   "outputs": [
    {
     "data": {
      "text/html": [
       "<div>\n",
       "<style scoped>\n",
       "    .dataframe tbody tr th:only-of-type {\n",
       "        vertical-align: middle;\n",
       "    }\n",
       "\n",
       "    .dataframe tbody tr th {\n",
       "        vertical-align: top;\n",
       "    }\n",
       "\n",
       "    .dataframe thead th {\n",
       "        text-align: right;\n",
       "    }\n",
       "</style>\n",
       "<table border=\"1\" class=\"dataframe\">\n",
       "  <thead>\n",
       "    <tr style=\"text-align: right;\">\n",
       "      <th></th>\n",
       "      <th>Feature</th>\n",
       "      <th>Error</th>\n",
       "      <th>Interaction</th>\n",
       "      <th>PageView</th>\n",
       "      <th>Performance</th>\n",
       "      <th>Report</th>\n",
       "    </tr>\n",
       "  </thead>\n",
       "  <tbody>\n",
       "    <tr>\n",
       "      <th>11</th>\n",
       "      <td>PAGE_URL</td>\n",
       "      <td>True</td>\n",
       "      <td>True</td>\n",
       "      <td>True</td>\n",
       "      <td>False</td>\n",
       "      <td>False</td>\n",
       "    </tr>\n",
       "  </tbody>\n",
       "</table>\n",
       "</div>"
      ],
      "text/plain": [
       "     Feature  Error  Interaction  PageView  Performance  Report\n",
       "11  PAGE_URL   True         True      True        False   False"
      ]
     },
     "execution_count": 30,
     "metadata": {},
     "output_type": "execute_result"
    }
   ],
   "source": [
    "common_log_features[common_log_features.Feature=='PAGE_URL']"
   ]
  },
  {
   "cell_type": "markdown",
   "id": "6904eee6",
   "metadata": {},
   "source": [
    ">**Obs. 1:** Its important to realize that we are interested in run reports. In this way, only the endpoints related to the execution will be condidered in our analysis. To identify these endpoints we look for those with the prefix `/ligtning/r/` indicating a run report resource."
   ]
  },
  {
   "cell_type": "markdown",
   "id": "134b4e66",
   "metadata": {},
   "source": [
    "##### .. but what about the Performance logs?\n",
    "\n",
    "We can notice that there is a subset of common features among the logs that do not relate the report identifier, such as:\n",
    "\n",
    "- `USER_ID`\n",
    "- `USER_ID_DERIVED`\n",
    "- `SESSION_KEY`\n",
    "- `LOGIN_KEY`\n",
    "- `ORGANIZATION_ID`\n",
    "- `CLIENT_IP`"
   ]
  },
  {
   "cell_type": "code",
   "execution_count": 31,
   "id": "61237739",
   "metadata": {},
   "outputs": [],
   "source": [
    "common_subset_features = ['USER_ID', 'USER_ID_DERIVED', 'SESSION_KEY', 'LOGIN_KEY', 'ORGANIZATION_ID', 'CLIENT_IP']"
   ]
  },
  {
   "cell_type": "code",
   "execution_count": 32,
   "id": "b5e18e43",
   "metadata": {},
   "outputs": [
    {
     "data": {
      "text/html": [
       "<div>\n",
       "<style scoped>\n",
       "    .dataframe tbody tr th:only-of-type {\n",
       "        vertical-align: middle;\n",
       "    }\n",
       "\n",
       "    .dataframe tbody tr th {\n",
       "        vertical-align: top;\n",
       "    }\n",
       "\n",
       "    .dataframe thead th {\n",
       "        text-align: right;\n",
       "    }\n",
       "</style>\n",
       "<table border=\"1\" class=\"dataframe\">\n",
       "  <thead>\n",
       "    <tr style=\"text-align: right;\">\n",
       "      <th></th>\n",
       "      <th>Error</th>\n",
       "      <th>Interaction</th>\n",
       "      <th>PageView</th>\n",
       "      <th>Performance</th>\n",
       "      <th>Report</th>\n",
       "    </tr>\n",
       "    <tr>\n",
       "      <th>Feature</th>\n",
       "      <th></th>\n",
       "      <th></th>\n",
       "      <th></th>\n",
       "      <th></th>\n",
       "      <th></th>\n",
       "    </tr>\n",
       "  </thead>\n",
       "  <tbody>\n",
       "    <tr>\n",
       "      <th>USER_ID</th>\n",
       "      <td>True</td>\n",
       "      <td>True</td>\n",
       "      <td>True</td>\n",
       "      <td>True</td>\n",
       "      <td>True</td>\n",
       "    </tr>\n",
       "    <tr>\n",
       "      <th>USER_ID_DERIVED</th>\n",
       "      <td>True</td>\n",
       "      <td>True</td>\n",
       "      <td>True</td>\n",
       "      <td>True</td>\n",
       "      <td>True</td>\n",
       "    </tr>\n",
       "    <tr>\n",
       "      <th>SESSION_KEY</th>\n",
       "      <td>True</td>\n",
       "      <td>True</td>\n",
       "      <td>True</td>\n",
       "      <td>True</td>\n",
       "      <td>True</td>\n",
       "    </tr>\n",
       "    <tr>\n",
       "      <th>LOGIN_KEY</th>\n",
       "      <td>True</td>\n",
       "      <td>True</td>\n",
       "      <td>True</td>\n",
       "      <td>True</td>\n",
       "      <td>True</td>\n",
       "    </tr>\n",
       "    <tr>\n",
       "      <th>ORGANIZATION_ID</th>\n",
       "      <td>True</td>\n",
       "      <td>True</td>\n",
       "      <td>True</td>\n",
       "      <td>True</td>\n",
       "      <td>True</td>\n",
       "    </tr>\n",
       "    <tr>\n",
       "      <th>CLIENT_IP</th>\n",
       "      <td>True</td>\n",
       "      <td>True</td>\n",
       "      <td>True</td>\n",
       "      <td>True</td>\n",
       "      <td>True</td>\n",
       "    </tr>\n",
       "  </tbody>\n",
       "</table>\n",
       "</div>"
      ],
      "text/plain": [
       "                 Error  Interaction  PageView  Performance  Report\n",
       "Feature                                                           \n",
       "USER_ID           True         True      True         True    True\n",
       "USER_ID_DERIVED   True         True      True         True    True\n",
       "SESSION_KEY       True         True      True         True    True\n",
       "LOGIN_KEY         True         True      True         True    True\n",
       "ORGANIZATION_ID   True         True      True         True    True\n",
       "CLIENT_IP         True         True      True         True    True"
      ]
     },
     "execution_count": 32,
     "metadata": {},
     "output_type": "execute_result"
    }
   ],
   "source": [
    "common_log_features.set_index('Feature').loc[common_subset_features]"
   ]
  },
  {
   "cell_type": "markdown",
   "id": "9a2faa5c",
   "metadata": {},
   "source": [
    "If we consider all these features, we can take for granted the possibility of retrieving the identifier of a report associated with the performance log. Note that we can consider the `USER_ID` or `USER_ID_DERIVED`, let keep the second."
   ]
  },
  {
   "cell_type": "code",
   "execution_count": 33,
   "id": "33f5bd2c",
   "metadata": {},
   "outputs": [],
   "source": [
    "common_subset_features.remove('USER_ID')"
   ]
  },
  {
   "cell_type": "markdown",
   "id": "a33b8fb3",
   "metadata": {},
   "source": [
    "Retrieving the `REPORT_ID_DERIVED` through the performance logs."
   ]
  },
  {
   "cell_type": "code",
   "execution_count": 34,
   "id": "5924e710",
   "metadata": {},
   "outputs": [
    {
     "data": {
      "text/plain": [
       "00O2R000004Anm0UAC    96\n",
       "00O2R0000043lHLUAY    30\n",
       "00O2R0000043lHKUAY    20\n",
       "00O0b000006iNwdEAE    14\n",
       "00O0b000004kTazEAE    14\n",
       "00O6P000000ZMcoUAG     8\n",
       "00O2R000003zOIAUA2     8\n",
       "00O0b000004AmRrEAK     6\n",
       "00O2R000004AmgKUAS     4\n",
       "00O0b000005yLBGEA2     4\n",
       "Name: REPORT_ID_DERIVED, dtype: int64"
      ]
     },
     "execution_count": 34,
     "metadata": {},
     "output_type": "execute_result"
    }
   ],
   "source": [
    "pd.merge(\n",
    "    left=ltng_logs['Performance'], \n",
    "    right=ltng_logs['Report'], \n",
    "    on=common_subset_features).REPORT_ID_DERIVED.value_counts()"
   ]
  },
  {
   "cell_type": "markdown",
   "id": "6c753c65",
   "metadata": {},
   "source": [
    "We can do the same to relate any pair of logs. For example, `performance-pageview`, `pageview-errors` etc.\n",
    "\n",
    ">**Obs. 2:** Have you ever wondered why we are not considering the `TIMESTAMP` column to cross this data?\n",
    "> Even in the case of logs referring to the same user, session, login key, organization and client IP. The timestamp may take more or less time to save, so they can difer."
   ]
  },
  {
   "cell_type": "markdown",
   "id": "231ae87d",
   "metadata": {},
   "source": [
    "Try to include the column `TIMESTAMP`."
   ]
  },
  {
   "cell_type": "code",
   "execution_count": 35,
   "id": "c96adeb4",
   "metadata": {},
   "outputs": [
    {
     "data": {
      "text/plain": [
       "Series([], Name: REPORT_ID_DERIVED, dtype: int64)"
      ]
     },
     "execution_count": 35,
     "metadata": {},
     "output_type": "execute_result"
    }
   ],
   "source": [
    "pd.merge(\n",
    "    left=ltng_logs['Performance'], \n",
    "    right=ltng_logs['Report'], \n",
    "    on=common_subset_features + ['TIMESTAMP_DERIVED']).REPORT_ID_DERIVED.value_counts()"
   ]
  },
  {
   "cell_type": "markdown",
   "id": "bf21d044",
   "metadata": {},
   "source": [
    "We can see that no intercept was achieved during the join. But note that there may be such aoccurrences with real data."
   ]
  },
  {
   "cell_type": "markdown",
   "id": "c733470c",
   "metadata": {},
   "source": [
    "#### 1.3.2. Getting the report name"
   ]
  },
  {
   "cell_type": "markdown",
   "id": "874b5dee",
   "metadata": {},
   "source": [
    "Now that we can cross information from the logs we can also get information from a certain report.\n",
    "\n",
    "To do this, just associate any of the Lightning logs with the report object presented in the first section [Salesforce objects](#1.1.-Salesforce-objects).\n",
    "\n",
    "For instance, let's take the `PageView logs` and show the names of the reports that took the longest since page start time. From pageview logs we want information like `DURATION`, `PAGE_START_TIME` and `PAGE_URL` (where we retrieve the report ID from). And from the report object we just want the name.\n",
    "\n",
    "`DURATION` and `PAGE_START_TIME` are both in milliseconds."
   ]
  },
  {
   "cell_type": "code",
   "execution_count": 36,
   "id": "12a38e29",
   "metadata": {},
   "outputs": [],
   "source": [
    "pageview_cols = ['DURATION', 'PAGE_START_TIME', 'PAGE_URL']\n",
    "report_obj_cols = ['Id', 'Name'] # report id and name"
   ]
  },
  {
   "cell_type": "code",
   "execution_count": 37,
   "id": "c16a1529",
   "metadata": {},
   "outputs": [],
   "source": [
    "ltng_pageview = ltng_logs['PageView'][pageview_cols]\n",
    "report_names = report_objects[report_obj_cols]"
   ]
  },
  {
   "cell_type": "markdown",
   "id": "481d66c9",
   "metadata": {},
   "source": [
    "Removnig missing data."
   ]
  },
  {
   "cell_type": "code",
   "execution_count": 38,
   "id": "35d9b881",
   "metadata": {},
   "outputs": [],
   "source": [
    "ltng_pageview_cleaned = ltng_pageview.dropna(subset=pageview_cols)"
   ]
  },
  {
   "cell_type": "markdown",
   "id": "b62e97cc",
   "metadata": {},
   "source": [
    "Filtering run reports endpoints. For this we load a regular expression module."
   ]
  },
  {
   "cell_type": "code",
   "execution_count": 39,
   "id": "e1e1b77a",
   "metadata": {},
   "outputs": [],
   "source": [
    "import re\n",
    "\n",
    "pattern = re.compile(r'\\/lightning\\/r\\/(?P<report_type>[a-zA-Z]{4,})\\/(?P<report_id>[0-9a-zA-Z]{18})')\n",
    "\n",
    "def filter_run_report_endpoints(pattern, url):\n",
    "    m = re.match(pattern, url)\n",
    "    if m:\n",
    "        return m.group('report_id')"
   ]
  },
  {
   "cell_type": "code",
   "execution_count": 40,
   "id": "eac05cf5",
   "metadata": {},
   "outputs": [
    {
     "name": "stderr",
     "output_type": "stream",
     "text": [
      "C:\\Users\\jefer\\AppData\\Local\\Temp\\ipykernel_8932\\2053880511.py:1: SettingWithCopyWarning: \n",
      "A value is trying to be set on a copy of a slice from a DataFrame.\n",
      "Try using .loc[row_indexer,col_indexer] = value instead\n",
      "\n",
      "See the caveats in the documentation: https://pandas.pydata.org/pandas-docs/stable/user_guide/indexing.html#returning-a-view-versus-a-copy\n",
      "  ltng_pageview_cleaned['REPORT_ID_DERIVED'] =\\\n"
     ]
    }
   ],
   "source": [
    "ltng_pageview_cleaned['REPORT_ID_DERIVED'] =\\\n",
    "    ltng_pageview_cleaned.PAGE_URL.apply(lambda url: filter_run_report_endpoints(pattern, url))"
   ]
  },
  {
   "cell_type": "code",
   "execution_count": 41,
   "id": "d16a5310",
   "metadata": {},
   "outputs": [],
   "source": [
    "ltng_pageview_filtered = ltng_pageview_cleaned.dropna(subset=['REPORT_ID_DERIVED'])"
   ]
  },
  {
   "cell_type": "code",
   "execution_count": 42,
   "id": "9ae64936",
   "metadata": {},
   "outputs": [],
   "source": [
    "# ltng_pageview_filtered.head()"
   ]
  },
  {
   "cell_type": "markdown",
   "id": "021a8437",
   "metadata": {},
   "source": [
    "Making a join and sorting by `DURATION`."
   ]
  },
  {
   "cell_type": "code",
   "execution_count": 43,
   "id": "efa3baca",
   "metadata": {},
   "outputs": [
    {
     "data": {
      "text/html": [
       "<div>\n",
       "<style scoped>\n",
       "    .dataframe tbody tr th:only-of-type {\n",
       "        vertical-align: middle;\n",
       "    }\n",
       "\n",
       "    .dataframe tbody tr th {\n",
       "        vertical-align: top;\n",
       "    }\n",
       "\n",
       "    .dataframe thead th {\n",
       "        text-align: right;\n",
       "    }\n",
       "</style>\n",
       "<table border=\"1\" class=\"dataframe\">\n",
       "  <thead>\n",
       "    <tr style=\"text-align: right;\">\n",
       "      <th></th>\n",
       "      <th>ReportName</th>\n",
       "      <th>AverageDuration</th>\n",
       "    </tr>\n",
       "  </thead>\n",
       "  <tbody>\n",
       "    <tr>\n",
       "      <th>0</th>\n",
       "      <td>Activities Closing Today</td>\n",
       "      <td>18885.0</td>\n",
       "    </tr>\n",
       "    <tr>\n",
       "      <th>1</th>\n",
       "      <td>Case Aging Report</td>\n",
       "      <td>15607.5</td>\n",
       "    </tr>\n",
       "    <tr>\n",
       "      <th>2</th>\n",
       "      <td>Case Load OSP</td>\n",
       "      <td>17477.0</td>\n",
       "    </tr>\n",
       "    <tr>\n",
       "      <th>3</th>\n",
       "      <td>Cases with Tasks, Calendar &amp; Reminders</td>\n",
       "      <td>19540.2</td>\n",
       "    </tr>\n",
       "    <tr>\n",
       "      <th>4</th>\n",
       "      <td>Chat Average Handle Time</td>\n",
       "      <td>7219.5</td>\n",
       "    </tr>\n",
       "  </tbody>\n",
       "</table>\n",
       "</div>"
      ],
      "text/plain": [
       "                               ReportName  AverageDuration\n",
       "0                Activities Closing Today          18885.0\n",
       "1                       Case Aging Report          15607.5\n",
       "2                           Case Load OSP          17477.0\n",
       "3  Cases with Tasks, Calendar & Reminders          19540.2\n",
       "4                Chat Average Handle Time           7219.5"
      ]
     },
     "execution_count": 43,
     "metadata": {},
     "output_type": "execute_result"
    }
   ],
   "source": [
    "pd.merge(left=report_names, right=ltng_pageview_filtered, left_on='Id', right_on='REPORT_ID_DERIVED')\\\n",
    "    .sort_values('DURATION', ascending=False)[['Name', 'DURATION']]\\\n",
    "    .groupby(['Name'])\\\n",
    "    .agg('mean')\\\n",
    "    .reset_index()\\\n",
    "    .rename(columns={'Name': 'ReportName', 'DURATION': 'AverageDuration'})\\\n",
    "    .head()"
   ]
  }
 ],
 "metadata": {
  "kernelspec": {
   "display_name": "Python 3 (ipykernel)",
   "language": "python",
   "name": "python3"
  },
  "language_info": {
   "codemirror_mode": {
    "name": "ipython",
    "version": 3
   },
   "file_extension": ".py",
   "mimetype": "text/x-python",
   "name": "python",
   "nbconvert_exporter": "python",
   "pygments_lexer": "ipython3",
   "version": "3.9.12"
  }
 },
 "nbformat": 4,
 "nbformat_minor": 5
}
